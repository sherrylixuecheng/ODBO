{
 "cells": [
  {
   "cell_type": "code",
   "execution_count": null,
   "metadata": {},
   "outputs": [],
   "source": [
    "import numpy as np\n",
    "import torch\n",
    "import pandas as pd\n",
    "import odbo\n",
    "import os\n",
    "import matplotlib.pyplot as plt"
   ]
  },
  {
   "cell_type": "markdown",
   "metadata": {},
   "source": [
    "## GB1_2016-Comparison between different BO methods"
   ]
  },
  {
   "cell_type": "code",
   "execution_count": null,
   "metadata": {
    "scrolled": false
   },
   "outputs": [],
   "source": [
    "fig = plt.figure(figsize=(6, 4), dpi=100)\n",
    "methods = ['Random', 'Naive BO + GP', 'TuRBO + GP', 'ODBO, BO + GP', 'ODBO, TuRBO + GP', 'ODBO, BO + RobustGP', 'ODBO, TuRBO + RobustGP']\n",
    "method_name = ['Random', 'BO_GP_batch1', 'TuRBO_GP_batch1', 'ODBO_BO_GP_batch1', 'ODBO_TuRBO_GP_batch1', \n",
    "               'ODBO_BO_RobustGP_batch1', 'ODBO_TuRBO_RobustGP_batch1']\n",
    "color = ['C0', 'C1', 'C2', 'C3', 'C4', 'C5', 'C6']\n",
    "data_test = pd.read_csv('../datasets/GB1_2016_149361.csv', sep=',')\n",
    "name_pre, Y_test = np.array(data_test['AACombo']), np.array(data_test['Fitness']).ravel()\n",
    "data ={}\n",
    "iterations = 50\n",
    "for i in range(len(methods)):\n",
    "    data[i] = []\n",
    "    for j in range(10):\n",
    "        data[i].append(np.load('results/GB1_2016/GB1_2016_{}_{}.npy'.format(method_name[i], j)))\n",
    "    if i == 0:\n",
    "        data[i] = np.vstack(data[i]).T\n",
    "    else:\n",
    "        data[i] = np.hstack(data[i])\n",
    "    odbo.plot.plot_bo(iters=iterations, BO_result=data[i], method=methods[i], color = color[i])\n",
    "    \n",
    "plt.plot([0,iterations], [max(Y_test), max(Y_test)], label='True maximum fitness', color = 'k')\n",
    "plt.xlabel('Number of observations (beyond initial points)', fontsize=12)\n",
    "plt.legend(bbox_to_anchor=(0.0, -0.21, 0.95, 0.0),labelspacing=0.1, ncol=2)\n",
    "plt.ylim([0, 10.2])\n",
    "plt.xlim([0, iterations])\n",
    "plt.ylabel('Maximum Fitness', fontsize=12)\n",
    "plt.savefig('results/GB1_2016/GB1_2016_opt_curves.png')\n",
    "plt.show()\n",
    "\n",
    "#Count avg hit numbers\n",
    "hit_counts = list(np.ones(len(method_name)))\n",
    "num_Random_Y, num_BO_GP_bacth1_Y, num_TuRBO_GP_bacth1_Y, num_ODBO_GP_bacth1_Y, num_ODTuRBO_GP_bacth1_Y, \\\n",
    "     num_ODBO_RobustGP_bacth1_Y, num_ODTuRBO_RobustGP_bacth1_Y = [],[],[],[],[],[],[]\n",
    "fitness_labels = ['Top 1%', 'Top 2%', 'Top 5%']\n",
    "\n",
    "for i in range(len(method_name)):\n",
    "    hit_counts[i] = []\n",
    "    for j in [0.01, 0.02, 0.05]:\n",
    "        fitness_top = Y_test[np.argsort(Y_test)[-int(j*len(Y_test))]]\n",
    "        hit_counts[i].append(len(np.where(data[i][-iterations:, :].ravel()>=fitness_top)[0])/10)\n",
    "fig, ax = plt.subplots()\n",
    "fig.patch.set_visible(False)\n",
    "ax.axis('off')\n",
    "ax.axis('tight')\n",
    "cell_text = np.divide(hit_counts, 0.01*iterations)\n",
    "ax.table(cellText=cell_text,\n",
    "         rowLabels=methods,\n",
    "         colLabels=fitness_labels,\n",
    "         cellLoc='center',\n",
    "         colLoc='center',\n",
    "         loc = 'center',\n",
    "         fontsize =14)\n",
    "plt.title('Average percentage hit ratio of top 1%, 2% and 5% measurements using different methods', fontsize=14, loc = 'center')\n",
    "plt.show()\n",
    "\n"
   ]
  },
  {
   "cell_type": "markdown",
   "metadata": {},
   "source": [
    "## GB1_2016-Comparison between different batch sizes in ODBO"
   ]
  },
  {
   "cell_type": "code",
   "execution_count": null,
   "metadata": {},
   "outputs": [],
   "source": [
    "methods = ['ODBO, TuRBO + GP, Batch size=1', 'ODBO, TuRBO + GP, Batch size=5', 'ODBO, TuRBO + GP, Batch size=10','ODBO, TuRBO + RobustGP, Batch size=1','ODBO, TuRBO + RobustGP, Batch size=5','ODBO, TuRBO + RobustGP, Batch size=10']\n",
    "method_name = ['ODBO_TuRBO_GP_batch1', 'ODBO_TuRBO_GP_batch5', 'ODBO_TuRBO_GP_batch10', 'ODBO_TuRBO_RobustGP_batch1', 'ODBO_TuRBO_RobustGP_batch5', 'ODBO_TuRBO_RobustGP_batch10']\n",
    "data_test = pd.read_csv('../datasets/GB1_2016_149361.csv', sep=',')\n",
    "name_pre, Y_test = np.array(data_test['AACombo']), np.array(data_test['Fitness'])\n",
    "data = {}\n",
    "iterations = 50\n",
    "fig = plt.figure(figsize=(6, 4), dpi=100)\n",
    "color = ['C4', 'C7', 'C8', 'C6', 'C9', 'C10']\n",
    "for i in range(len(methods)):\n",
    "    data[i] = []\n",
    "    for j in range(10):\n",
    "        data[i].append(np.load('results/GB1_2016/GB1_2016_{}_{}.npy'.format(method_name[i], j)))\n",
    "    data[i] = np.hstack(data[i])\n",
    "    odbo.plot.plot_bo(iters=iterations, BO_result=data[i], method=methods[i], color = color[i])\n",
    "plt.plot([0,iterations], [max(Y_test), max(Y_test)], label='True maximum fitness', color = 'k')\n",
    "plt.xlabel('Number of observations (beyond initial points)', fontsize=12)\n",
    "plt.legend(bbox_to_anchor=(0.0, -0.21, 0.95, 0.0),labelspacing=0.1, ncol=2)\n",
    "plt.ylim([0, 10.2])\n",
    "plt.xlim([0, iterations])\n",
    "plt.ylabel('Maximum Fitness', fontsize=12)\n",
    "plt.savefig('results/GB1_2016/GB1_2016_opt_curves_batch_size.png')\n",
    "plt.show()\n"
   ]
  },
  {
   "cell_type": "markdown",
   "metadata": {},
   "source": [
    "## GB1_2016-Comparison between different acqusition functions in ODBO"
   ]
  },
  {
   "cell_type": "code",
   "execution_count": null,
   "metadata": {},
   "outputs": [],
   "source": [
    "methods = ['ODBO, TuRBO + GP, EI', 'ODBO, TuRBO + GP, UCB', 'ODBO, TuRBO + GP, PI', 'ODBO, TuRBO + GP, TS','ODBO, TuRBO + RobustGP, EI','ODBO, TuRBO + RobustGP, UCB','ODBO, TuRBO + RobustGP, PI', 'ODBO, TuRBO + RobustGP, TS']\n",
    "method_name = ['ODBO_TuRBO_GP_batch1', 'ODBO_TuRBO_GP_batch1_ucb', 'ODBO_TuRBO_GP_batch1_pi', 'ODBO_TuRBO_GP_batch1_ts', 'ODBO_TuRBO_RobustGP_batch1', 'ODBO_TuRBO_RobustGP_batch1_ucb', 'ODBO_TuRBO_RobustGP_batch1_pi', 'ODBO_TuRBO_RobustGP_batch1_ts']\n",
    "data_test = pd.read_csv('../datasets/GB1_2016_149361.csv', sep=',')\n",
    "name_pre, Y_test = np.array(data_test['AACombo']), np.array(data_test['Fitness'])\n",
    "data = {}\n",
    "iterations = 50\n",
    "fig = plt.figure(figsize=(6, 4), dpi=100)\n",
    "color = ['C4', 'C11', 'C12', 'C13', 'C6', 'C15', 'C17', 'C18']\n",
    "for i in range(len(methods)):\n",
    "    data[i] = []\n",
    "    for j in range(10):\n",
    "        data[i].append(np.load('results/GB1_2016/GB1_2016_{}_{}.npy'.format(method_name[i], j)))\n",
    "    data[i] = np.hstack(data[i])\n",
    "    odbo.plot.plot_bo(iters=iterations, BO_result=data[i], method=methods[i], color = color[i])\n",
    "plt.plot([0,iterations], [max(Y_test), max(Y_test)], label='True maximum fitness', color = 'k')\n",
    "plt.xlabel('Number of observations (beyond initial points)', fontsize=12)\n",
    "plt.legend(bbox_to_anchor=(0.0, -0.21, 0.95, 0.0),labelspacing=0.1, ncol=2)\n",
    "plt.ylim([0, 10.2])\n",
    "plt.xlim([0, iterations])\n",
    "plt.ylabel('Maximum Fitness', fontsize=12)\n",
    "plt.savefig('results/GB1_2016/GB1_2016_opt_curves_acfn.png')\n",
    "plt.show()"
   ]
  },
  {
   "cell_type": "markdown",
   "metadata": {},
   "source": [
    "## GB1_2016-Comparison between update XGBOD model with BO iterations"
   ]
  },
  {
   "cell_type": "code",
   "execution_count": null,
   "metadata": {},
   "outputs": [],
   "source": [
    "methods = ['ODBO, TuRBO + GP', 'ODBO, TuRBO + GP, update XGBOD', 'ODBO, TuRBO + RobustGP', 'ODBO, TuRBO + RobustGP, update XGBOD']\n",
    "method_name = ['ODBO_TuRBO_GP_batch1', 'ODBO_TuRBO_update_XGBOD_GP_batch1', \n",
    "               'ODBO_TuRBO_RobustGP_batch1', 'ODBO_TuRBO_update_XGBOD_RobustGP_batch1']\n",
    "color = ['C4','C6','C19','C20']\n",
    "data_test = pd.read_csv('../datasets/GB1_2016_149361.csv', sep=',')\n",
    "name_pre, Y_test = np.array(data_test['AACombo']), np.array(data_test['Fitness'])\n",
    "data = {}\n",
    "iterations = 50\n",
    "fig = plt.figure(figsize=(6, 4), dpi=100)\n",
    "for i in range(len(methods)):\n",
    "    data[i] = []\n",
    "    for j in range(10):\n",
    "        data[i].append(np.load('results/GB1_2016/GB1_2016_{}_{}.npy'.format(method_name[i], j)))\n",
    "    data[i] = np.hstack(data[i])\n",
    "    odbo.plot.plot_bo(iters=iterations, BO_result=data[i], method=methods[i], color = color[i])\n",
    "plt.plot([0,iterations], [max(Y_test), max(Y_test)], label='True maximum fitness', color = 'k')\n",
    "plt.xlabel('Number of observations (beyond initial points)', fontsize=12)\n",
    "plt.legend(bbox_to_anchor=(0.0, -0.21, 1.20, 0.0),labelspacing=0.1, ncol=2)\n",
    "plt.ylim([0, 10.2])\n",
    "plt.xlim([0, iterations])\n",
    "plt.ylabel('Maximum Fitness', fontsize=12)\n",
    "plt.savefig('results/GB1_2016/GB1_2016_opt_curves_update_comparison.png')\n",
    "plt.show()\n"
   ]
  },
  {
   "cell_type": "markdown",
   "metadata": {},
   "source": [
    "## Other datasets: Comparison between different ODBO methods"
   ]
  },
  {
   "cell_type": "code",
   "execution_count": null,
   "metadata": {},
   "outputs": [],
   "source": [
    "dataset = 'GB1_2014'"
   ]
  },
  {
   "cell_type": "code",
   "execution_count": null,
   "metadata": {},
   "outputs": [],
   "source": [
    "methods = ['Random', 'BO + GP', 'TuRBO + GP', 'ODBO, BO + GP', 'ODBO, TuRBO + GP', 'ODBO, BO + RobustGP', 'ODBO, TuRBO + RobustGP']\n",
    "method_name = ['Random', 'BO_GP_batch1', 'TuRBO_GP_batch1', 'ODBO_BO_GP_batch1', 'ODBO_TuRBO_GP_batch1', \n",
    "               'ODBO_BO_RobustGP_batch1', 'ODBO_TuRBO_RobustGP_batch1']\n",
    "color = ['C0', 'C1', 'C2', 'C3', 'C4', 'C5', 'C6']\n",
    "if dataset == 'Ube4b_2013':\n",
    "    data_test = pd.read_csv('../datasets/Ube4b_2013_98299.csv', sep=',')\n",
    "    name_pre, Y_test = np.array(data_test['AACombo']), np.array(data_test['Log2Eratio'])\n",
    "    iterations = 50\n",
    "elif dataset == 'avGFP_2016':\n",
    "    data_test = pd.read_csv('../datasets/avGFP_2016_54025.csv', sep=',')\n",
    "    name_pre, Y_test = np.array(data_test['AACombo']), np.array(data_test['medianBrightness'])\n",
    "    iterations = 50\n",
    "elif dataset == 'GB1_2014':\n",
    "    data_test = pd.read_csv('../datasets/GB1_2014_536085.csv', sep=',')\n",
    "    name_pre, Y_test = np.array(data_test['AACombo']), np.array(data_test['score'])\n",
    "    iterations = 100\n",
    "\n",
    "data ={}\n",
    "fig = plt.figure(figsize=(6, 4), dpi=100)\n",
    "for i in range(len(methods)):\n",
    "    data[i] = []\n",
    "    for j in range(10):\n",
    "        data[i].append(np.load('results/{}/{}_{}_{}.npy'.format(dataset, dataset, method_name[i], j)))\n",
    "    if i == 0:\n",
    "        data[i] = np.vstack(data[i]).T\n",
    "    else:\n",
    "        data[i] = np.hstack(data[i])\n",
    "    odbo.plot.plot_bo(iters=iterations, BO_result=data[i], method=method_name[i], color = color[i])\n",
    "plt.plot([0,iterations], [max(Y_test), max(Y_test)], label='True maximum fitness', color = 'k')\n",
    "plt.xlabel('Number of observations (beyond initial points)', fontsize=12)\n",
    "plt.legend(bbox_to_anchor=(0.0, -0.21, 0.95, 0.0),labelspacing=0.1, ncol=2)\n",
    "plt.xlim([0, iterations])\n",
    "\n",
    "if dataset == 'Ube4b_2013':\n",
    "    plt.ylim([4, 10.2])\n",
    "    plt.ylabel('Maximum Log2(E3 score)', fontsize=12)\n",
    "    plt.savefig('results/Ube4b_2013/Ube4b_2013_opt_curves.png')\n",
    "elif dataset == 'avGFP_2016':\n",
    "    plt.ylim([3.7, 4.2])\n",
    "    plt.ylabel('Maximum Median Brightness', fontsize=12)\n",
    "    plt.savefig('results/avGFP_2016/avGFP_2016_opt_curves.png')\n",
    "elif dataset == 'GB1_2014':\n",
    "    plt.ylim([1.6, 2.6])\n",
    "    plt.ylabel('Maximum Enrichment Score', fontsize=12)\n",
    "    plt.savefig('results/GB1_2014/GB1_2014_opt_curves.png')\n",
    "plt.show()\n",
    "\n",
    "#Count avg hit numbers\n",
    "hit_counts = list(np.ones(len(method_name)))\n",
    "fitness_labels = ['Top 1%', 'Top 2%', 'Top 5%']\n",
    "\n",
    "for i in range(len(method_name)):\n",
    "    hit_counts[i] = []\n",
    "    for j in [0.01, 0.02, 0.05]:\n",
    "        fitness_top = Y_test[np.argsort(Y_test)[-int(j*len(Y_test))]]\n",
    "        hit_counts[i].append(len(np.where(data[i][-iterations:, :].ravel()>=fitness_top)[0])/10)\n",
    "fig, ax = plt.subplots()\n",
    "fig.patch.set_visible(False)\n",
    "ax.axis('off')\n",
    "ax.axis('tight')\n",
    "cell_text = np.divide(hit_counts, 0.01*iterations)\n",
    "ax.table(cellText=cell_text,\n",
    "         rowLabels=methods,\n",
    "         colLabels=fitness_labels,\n",
    "         cellLoc='center',\n",
    "         colLoc='center',\n",
    "         loc = 'center',\n",
    "         fontsize =14)\n",
    "plt.title('Average percentage hit ratio of top 1%, 2% and 5% measurements using different methods', fontsize=14, loc = 'center')\n",
    "plt.show()\n",
    "\n"
   ]
  },
  {
   "cell_type": "code",
   "execution_count": null,
   "metadata": {},
   "outputs": [],
   "source": []
  }
 ],
 "metadata": {
  "kernelspec": {
   "display_name": "Python 3 (ipykernel)",
   "language": "python",
   "name": "python3"
  },
  "language_info": {
   "codemirror_mode": {
    "name": "ipython",
    "version": 3
   },
   "file_extension": ".py",
   "mimetype": "text/x-python",
   "name": "python",
   "nbconvert_exporter": "python",
   "pygments_lexer": "ipython3",
   "version": "3.9.7"
  }
 },
 "nbformat": 4,
 "nbformat_minor": 2
}
