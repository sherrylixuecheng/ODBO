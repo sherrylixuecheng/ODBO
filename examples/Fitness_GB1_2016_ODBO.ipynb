{
 "cells": [
  {
   "cell_type": "code",
   "execution_count": 23,
   "metadata": {},
   "outputs": [],
   "source": [
    "import numpy as np\n",
    "import torch\n",
    "import pandas as pd\n",
    "import odbo\n",
    "import os"
   ]
  },
  {
   "cell_type": "markdown",
   "metadata": {},
   "source": [
    "## Get initial experiment design"
   ]
  },
  {
   "cell_type": "code",
   "execution_count": 24,
   "metadata": {},
   "outputs": [
    {
     "name": "stdout",
     "output_type": "stream",
     "text": [
      "Selected initial experiments no. is  40\n",
      "Select max Y:  1.320616068\n"
     ]
    }
   ],
   "source": [
    "# Load dataset\n",
    "random_seed = 0\n",
    "np.random.seed(random_seed)\n",
    "data_test = pd.read_csv('../datasets/GB1_2016_149361.csv', sep=',')\n",
    "name_pre, Y_test = np.array(data_test['AACombo']), np.array(data_test['Fitness'])\n",
    "shuffle_order = np.arange(len(Y_test))\n",
    "np.random.shuffle(shuffle_order[1:])\n",
    "name_pre[1:], Y_test[1:] = name_pre[shuffle_order[1:]], Y_test[shuffle_order[1:]]\n",
    "name = odbo.utils.code_to_array(name_pre)\n",
    "if os.path.isfile('sele_experiment_GB1_2016.npy') == True:\n",
    "    name_sele = np.load('sele_experiment_GB1_2016.npy')\n",
    "    Y_train = np.load('sele_fitness_GB1_2016.npy')\n",
    "    print('Selected initial experiments no. is ', len(Y_train))\n",
    "else:\n",
    "    # Let each site has 20 AA codes at least show up twice \n",
    "    sele_indices = odbo.initialization.initial_design(name, least_occurance=[2,2,2,2],verbose = False,random_state=random_seed)\n",
    "    # Initial experiments are selected to be name_sele with fitness of Y_sele\n",
    "    name_sele, Y_train = name[sele_indices, :], Y_test[sele_indices]\n",
    "    print('Selected initial experiments no. is ', len(sele_indices))\n",
    "print('Select max Y: ', Y_train.max())"
   ]
  },
  {
   "cell_type": "markdown",
   "metadata": {},
   "source": [
    "## Transform AA codes to average fitness feature "
   ]
  },
  {
   "cell_type": "code",
   "execution_count": 25,
   "metadata": {},
   "outputs": [],
   "source": [
    "# Using Max measurement results as initial features\n",
    "threshold = max(0.05, np.mean(Y_train)-2*np.std(Y_train))\n",
    "feature_model = odbo.featurization.MaxMeasurement(raw_vars=name_sele, Y=Y_train)\n",
    "X_train = feature_model.transform(name_sele)\n",
    "X_test = feature_model.transform(name)"
   ]
  },
  {
   "cell_type": "markdown",
   "metadata": {},
   "source": [
    "## Adapt search space construction"
   ]
  },
  {
   "cell_type": "code",
   "execution_count": 26,
   "metadata": {
    "scrolled": true
   },
   "outputs": [
    {
     "name": "stdout",
     "output_type": "stream",
     "text": [
      "[20:30:27] WARNING: /Users/travis/build/dmlc/xgboost/src/learner.cc:573: \n",
      "Parameters: { \"silent\" } might not be used.\n",
      "\n",
      "  This may not be accurate due to some parameters are only used in language bindings but\n",
      "  passed down to XGBoost core.  Or some parameters are not used but slip through this\n",
      "  verification. Please open an issue if you find above cases.\n",
      "\n",
      "\n",
      "Correct ratio: 90.467%\n",
      "FN ratio: 0.222%\n",
      "FP ratio: 9.312%\n"
     ]
    },
    {
     "data": {
      "image/png": "[encoded data removed]",
      "text/plain": [
       "<Figure size 432x288 with 2 Axes>"
      ]
     },
     "metadata": {},
     "output_type": "display_data"
    }
   ],
   "source": [
    "# Find the adaptive search space model\n",
    "labels_train = odbo.prescreening.sp_label(X_train, Y_train, thres=threshold)\n",
    "pre_model = odbo.prescreening.XGBOD(eval_metric = 'error')\n",
    "pre_model.fit(X_train, labels_train)\n",
    "pred_labels = pre_model.predict(X_train)\n",
    "labels_test = odbo.prescreening.sp_label(X_test, Y_test, thres=threshold)\n",
    "pred_test_labels = pre_model.predict(X_test)\n",
    "# Plot the confusion matrix to check the accuracy of search space prescreening\n",
    "out_outlier, in_outlier, out_inlier, in_inlier = odbo.plot.plot_cm(labels_test, pred_test_labels, Y_test)\n",
    "print(\"Correct ratio: {0:.3%}\".format((len(out_outlier)+len(in_inlier))/len(labels_test)))\n",
    "print(\"FN ratio: {0:.3%}\".format(len(out_inlier)/len(labels_test)))\n",
    "print(\"FP ratio: {0:.3%}\".format(len(in_outlier)/len(labels_test))) "
   ]
  },
  {
   "cell_type": "markdown",
   "metadata": {},
   "source": [
    "## BO for next best experiment w/ GP"
   ]
  },
  {
   "cell_type": "code",
   "execution_count": 27,
   "metadata": {
    "scrolled": true
   },
   "outputs": [
    {
     "name": "stdout",
     "output_type": "stream",
     "text": [
      "Iter:  0 Current Max:  1.320616068 ['Q' 'V' 'A' 'A'] Test max:  8.761965656\n",
      "Newly added value:  [[0.05086082]]\n",
      "Iter:  1 Current Max:  1.320616068 ['Q' 'V' 'A' 'A'] Test max:  8.761965656\n",
      "Newly added value:  [[0.00444459]]\n",
      "Iter:  2 Current Max:  1.320616068 ['Q' 'V' 'A' 'A'] Test max:  8.761965656\n",
      "Newly added value:  [[0.02128803]]\n",
      "Iter:  3 Current Max:  1.320616068 ['Q' 'V' 'A' 'A'] Test max:  8.761965656\n",
      "Newly added value:  [[0.49169724]]\n",
      "Iter:  4 Current Max:  1.320616068 ['Q' 'V' 'A' 'A'] Test max:  8.761965656\n",
      "Newly added value:  [[0.02971257]]\n",
      "Iter:  5 Current Max:  1.320616068 ['Q' 'V' 'A' 'A'] Test max:  8.761965656\n",
      "Newly added value:  [[3.40713939]]\n",
      "Iter:  6 Current Max:  3.407139386 ['F' 'W' 'L' 'C'] Test max:  8.761965656\n",
      "Newly added value:  [[1.41393591]]\n",
      "Iter:  7 Current Max:  3.407139386 ['F' 'W' 'L' 'C'] Test max:  8.761965656\n",
      "Newly added value:  [[0.12777551]]\n",
      "Iter:  8 Current Max:  3.407139386 ['F' 'W' 'L' 'C'] Test max:  8.761965656\n",
      "Newly added value:  [[1.95393139]]\n",
      "Iter:  9 Current Max:  3.407139386 ['F' 'W' 'L' 'C'] Test max:  8.761965656\n",
      "Newly added value:  [[0.19683029]]\n",
      "Iter:  10 Current Max:  3.407139386 ['F' 'W' 'L' 'C'] Test max:  8.761965656\n",
      "Newly added value:  [[0.24144203]]\n",
      "Iter:  11 Current Max:  3.407139386 ['F' 'W' 'L' 'C'] Test max:  8.761965656\n",
      "Newly added value:  [[3.18296122]]\n",
      "Iter:  12 Current Max:  3.407139386 ['F' 'W' 'L' 'C'] Test max:  8.761965656\n",
      "Newly added value:  [[3.1367315]]\n",
      "Iter:  13 Current Max:  3.407139386 ['F' 'W' 'L' 'C'] Test max:  8.761965656\n",
      "Newly added value:  [[2.56221724]]\n",
      "Iter:  14 Current Max:  3.407139386 ['F' 'W' 'L' 'C'] Test max:  8.761965656\n",
      "Newly added value:  [[2.04919345]]\n",
      "Iter:  15 Current Max:  3.407139386 ['F' 'W' 'L' 'C'] Test max:  8.761965656\n",
      "Newly added value:  [[1.39595239]]\n",
      "Iter:  16 Current Max:  3.407139386 ['F' 'W' 'L' 'C'] Test max:  8.761965656\n",
      "Newly added value:  [[3.44021841]]\n",
      "Iter:  17 Current Max:  3.440218409 ['F' 'W' 'G' 'C'] Test max:  8.761965656\n",
      "Newly added value:  [[4.23915558]]\n",
      "Iter:  18 Current Max:  4.239155578 ['V' 'W' 'G' 'C'] Test max:  8.761965656\n",
      "Newly added value:  [[0.21976051]]\n",
      "Iter:  19 Current Max:  4.239155578 ['V' 'W' 'G' 'C'] Test max:  8.761965656\n",
      "Newly added value:  [[2.59276534]]\n",
      "Iter:  20 Current Max:  4.239155578 ['V' 'W' 'G' 'C'] Test max:  8.761965656\n",
      "Newly added value:  [[2.01352185]]\n",
      "Iter:  21 Current Max:  4.239155578 ['V' 'W' 'G' 'C'] Test max:  8.761965656\n",
      "Newly added value:  [[4.95227286]]\n",
      "Iter:  22 Current Max:  4.952272858 ['F' 'W' 'G' 'A'] Test max:  8.761965656\n",
      "Newly added value:  [[3.66205789]]\n",
      "Iter:  23 Current Max:  4.952272858 ['F' 'W' 'G' 'A'] Test max:  8.761965656\n",
      "Newly added value:  [[4.682612]]\n",
      "Iter:  24 Current Max:  4.952272858 ['F' 'W' 'G' 'A'] Test max:  8.761965656\n",
      "Newly added value:  [[1.]]\n",
      "Iter:  25 Current Max:  4.952272858 ['F' 'W' 'G' 'A'] Test max:  8.761965656\n",
      "Newly added value:  [[8.76196566]]\n",
      "Iter:  26 Current Max:  8.761965656 ['F' 'W' 'A' 'A'] Test max:  8.045152004\n",
      "Newly added value:  [[6.12380479]]\n",
      "Iter:  27 Current Max:  8.761965656 ['F' 'W' 'A' 'A'] Test max:  8.045152004\n",
      "Newly added value:  [[4.60121367]]\n",
      "Iter:  28 Current Max:  8.761965656 ['F' 'W' 'A' 'A'] Test max:  8.045152004\n",
      "Newly added value:  [[3.17791137]]\n",
      "Iter:  29 Current Max:  8.761965656 ['F' 'W' 'A' 'A'] Test max:  8.045152004\n",
      "Newly added value:  [[0.06090741]]\n",
      "Iter:  30 Current Max:  8.761965656 ['F' 'W' 'A' 'A'] Test max:  8.045152004\n",
      "Newly added value:  [[2.47538256]]\n",
      "Iter:  31 Current Max:  8.761965656 ['F' 'W' 'A' 'A'] Test max:  8.045152004\n",
      "Newly added value:  [[4.03463618]]\n",
      "Iter:  32 Current Max:  8.761965656 ['F' 'W' 'A' 'A'] Test max:  8.045152004\n",
      "Newly added value:  [[0.00904992]]\n",
      "Iter:  33 Current Max:  8.761965656 ['F' 'W' 'A' 'A'] Test max:  8.045152004\n",
      "Newly added value:  [[4.50273083]]\n",
      "Iter:  34 Current Max:  8.761965656 ['F' 'W' 'A' 'A'] Test max:  8.045152004\n",
      "Newly added value:  [[2.94702448]]\n",
      "Iter:  35 Current Max:  8.761965656 ['F' 'W' 'A' 'A'] Test max:  8.045152004\n",
      "Newly added value:  [[4.15798313]]\n",
      "Iter:  36 Current Max:  8.761965656 ['F' 'W' 'A' 'A'] Test max:  8.045152004\n",
      "Newly added value:  [[0.00886339]]\n",
      "Iter:  37 Current Max:  8.761965656 ['F' 'W' 'A' 'A'] Test max:  8.045152004\n",
      "Newly added value:  [[2.63255351]]\n",
      "Iter:  38 Current Max:  8.761965656 ['F' 'W' 'A' 'A'] Test max:  8.045152004\n",
      "Newly added value:  [[5.15691841]]\n",
      "Iter:  39 Current Max:  8.761965656 ['F' 'W' 'A' 'A'] Test max:  8.045152004\n",
      "Newly added value:  [[1.76143518]]\n",
      "Iter:  40 Current Max:  8.761965656 ['F' 'W' 'A' 'A'] Test max:  8.045152004\n",
      "Newly added value:  [[0.3546374]]\n",
      "Iter:  41 Current Max:  8.761965656 ['F' 'W' 'A' 'A'] Test max:  8.045152004\n",
      "Newly added value:  [[8.045152]]\n",
      "Iter:  42 Current Max:  8.761965656 ['F' 'W' 'A' 'A'] Test max:  6.92825718\n",
      "Newly added value:  [[0.15514151]]\n",
      "Iter:  43 Current Max:  8.761965656 ['F' 'W' 'A' 'A'] Test max:  6.92825718\n",
      "Newly added value:  [[0.00297917]]\n",
      "Iter:  44 Current Max:  8.761965656 ['F' 'W' 'A' 'A'] Test max:  6.92825718\n",
      "Newly added value:  [[4.11276429]]\n",
      "Iter:  45 Current Max:  8.761965656 ['F' 'W' 'A' 'A'] Test max:  6.92825718\n",
      "Newly added value:  [[3.31994491]]\n",
      "Iter:  46 Current Max:  8.761965656 ['F' 'W' 'A' 'A'] Test max:  6.92825718\n",
      "Newly added value:  [[5.44061457]]\n",
      "Iter:  47 Current Max:  8.761965656 ['F' 'W' 'A' 'A'] Test max:  6.92825718\n",
      "Newly added value:  [[1.9298059]]\n",
      "Iter:  48 Current Max:  8.761965656 ['F' 'W' 'A' 'A'] Test max:  6.92825718\n",
      "Newly added value:  [[1.30371498]]\n",
      "Iter:  49 Current Max:  8.761965656 ['F' 'W' 'A' 'A'] Test max:  6.92825718\n",
      "Newly added value:  [[0.01050128]]\n"
     ]
    }
   ],
   "source": [
    "X_train_sele, Y_train_sele = torch.tensor(X_train), torch.tensor(Y_train.reshape(len(Y_train),1))\n",
    "# Only search the space after prescreening\n",
    "sele_id_test = list(np.array([k for k, x in enumerate(pred_test_labels) if x == 0]))\n",
    "X_test_sele, Y_test_sele = torch.tensor(X_test[sele_id_test, :]), torch.tensor(Y_test[sele_id_test].reshape(len(sele_id_test),1))\n",
    "search_name_sele, name_sele_temp = name[sele_id_test, :], name_sele\n",
    "\n",
    "## Run BO experiment with robust regression or directly gp\n",
    "l, search_iter = 0, 50\n",
    "batch_size = 1\n",
    "gp_method='robust_regression'\n",
    "failure_count,max_count = 0, 0\n",
    "while l < search_iter:\n",
    "    print(\"Iter: \", l, \"Current Max: \", Y_train_sele.max().detach().numpy(), name_sele_temp[np.argmax(Y_train_sele.detach().numpy())], \"Test max: \", Y_test_sele.max().detach().numpy())\n",
    "    X_next, acq_value, next_exp_id = odbo.bo_design(X=X_train_sele, Y=Y_train_sele, X_pending=X_test_sele, gp_method=gp_method, batch_size=batch_size)\n",
    "    ids_keep = list(np.delete(range(X_test_sele.shape[0]), next_exp_id))\n",
    "    X_train_sele, Y_train_sele = torch.cat([X_train_sele, X_test_sele[next_exp_id, :]]), torch.cat([Y_train_sele, Y_test_sele[next_exp_id]])\n",
    "    X_test_sele, Y_test_sele = X_test_sele[ids_keep, :], Y_test_sele[ids_keep]\n",
    "    name_sele_temp = np.concatenate((name_sele_temp, search_name_sele[next_exp_id]))\n",
    "    search_name_sele = search_name_sele[ids_keep]\n",
    "    print(\"Newly added value: \", Y_train_sele[-batch_size:].detach().numpy())\n",
    "    feature_model1 = odbo.featurization.MaxMeasurement(raw_vars=X_train_sele, Y=Y_train_sele.detach().numpy())\n",
    "    if Y_train_sele[-batch_size:].detach().numpy().max() <= Y_train_sele[:-batch_size].max():\n",
    "        failure_count = failure_count + 1\n",
    "    else:\n",
    "        failure_count = 0\n",
    "    if failure_count >= 3 and max_count < 3:\n",
    "        max_count = max_count + 1\n",
    "        feature_model1 = odbo.featurization.AvgMeasurement(raw_vars=X_train_sele, Y=Y_train_sele.detach().numpy())\n",
    "    else:\n",
    "        max_count = 0\n",
    "    X_train_sele = torch.tensor(feature_model1.transform(X_train_sele))\n",
    "    X_test_sele= torch.tensor(feature_model1.transform(X_test_sele))\n",
    "    l = l + 1\n",
    "\n",
    "np.save('results/GB1_2016_ODBO_BO_RobustGP_batch1_{}.npy'.format(random_seed), Y_train_sele)"
   ]
  },
  {
   "cell_type": "markdown",
   "metadata": {},
   "source": [
    "## TurBO for next best experiment w/ GP"
   ]
  },
  {
   "cell_type": "code",
   "execution_count": null,
   "metadata": {
    "scrolled": false
   },
   "outputs": [
    {
     "name": "stdout",
     "output_type": "stream",
     "text": [
      "Iter:  0 Current Max:  1.320616068 ['Q' 'V' 'A' 'A'] TR length:  [4.8] Test max:  8.761965656\n",
      "Newly added value:  [[0.05086082]]\n",
      "Iter:  1 Current Max:  1.320616068 ['Q' 'V' 'A' 'A'] TR length:  [4.8] Test max:  8.761965656\n",
      "Newly added value:  [[0.00444459]]\n",
      "Iter:  2 Current Max:  1.320616068 ['Q' 'V' 'A' 'A'] TR length:  [4.8] Test max:  8.761965656\n",
      "Newly added value:  [[0.02128803]]\n",
      "Iter:  3 Current Max:  1.320616068 ['Q' 'V' 'A' 'A'] TR length:  [4.8] Test max:  8.761965656\n",
      "Newly added value:  [[0.49169724]]\n",
      "Iter:  4 Current Max:  1.320616068 ['Q' 'V' 'A' 'A'] TR length:  [4.8] Test max:  8.761965656\n",
      "Newly added value:  [[0.02971257]]\n",
      "Iter:  5 Current Max:  1.320616068 ['Q' 'V' 'A' 'A'] TR length:  [4.8] Test max:  8.761965656\n",
      "Newly added value:  [[3.40713939]]\n",
      "Iter:  6 Current Max:  3.407139386 ['F' 'W' 'L' 'C'] TR length:  [4.8] Test max:  8.761965656\n"
     ]
    }
   ],
   "source": [
    "X_train_sele, Y_train_sele = torch.tensor(X_train), torch.tensor(Y_train.reshape(len(Y_train),1))\n",
    "# Only search the space after prescreening\n",
    "sele_id_test = list(np.array([k for k, x in enumerate(pred_test_labels) if x == 0]))\n",
    "search_name_sele, name_sele_temp = name[sele_id_test, :], name_sele\n",
    "X_test_sele, Y_test_sele = torch.tensor(X_test[sele_id_test, :]), torch.tensor(Y_test[sele_id_test].reshape(len(sele_id_test),1))\n",
    "\n",
    "# Run BO experiment with robust regression or directly GP\n",
    "l, search_iter = 0, 50\n",
    "gp_method='robust_regression'\n",
    "tr_length = [4.8]\n",
    "batch_size = 1\n",
    "failure_count = 0\n",
    "\n",
    "state = odbo.turbo.TurboState(dim=X_train_sele.shape[1], batch_size=batch_size, length=tr_length, n_trust_regions=len(tr_length), failure_tolerance = 10)\n",
    "state.best_value = Y_train_sele.max()\n",
    "while l < search_iter:\n",
    "    print(\"Iter: \", l, \"Current Max: \", Y_train_sele.max().detach().numpy(), name_sele_temp[np.argmax(Y_train_sele.detach().numpy())], 'TR length: ', state.length, \"Test max: \", Y_test_sele.max().detach().numpy())\n",
    "    X_next, acq_value, raw_next_exp_id = odbo.turbo_design(state=state, X=X_train_sele, Y=Y_train_sele, X_pending=X_test_sele, n_trust_regions=len(tr_length), batch_size=batch_size, gp_method=gp_method)\n",
    "    Y_next_m = torch.zeros((len(tr_length), batch_size, 1), device=Y_train_sele.device, dtype=Y_train_sele.dtype)\n",
    "    next_exp_id = []\n",
    "    for i in range(batch_size):\n",
    "        next_exp_id_m = raw_next_exp_id[:, i]\n",
    "        Y_next_m[:, i, 0], idtoadd = Y_test_sele[next_exp_id_m].reshape(len(tr_length)), next_exp_id_m[np.argmax(Y_test_sele[next_exp_id_m])]\n",
    "        next_exp_id.append(idtoadd)\n",
    "    X_train_sele, Y_train_sele = torch.cat([X_train_sele, X_test_sele[next_exp_id, :]]), torch.cat([Y_train_sele, Y_test_sele[next_exp_id]])\n",
    "    ids_keep = list(np.delete(range(X_test_sele.shape[0]), next_exp_id))\n",
    "    X_test_sele, Y_test_sele = X_test_sele[ids_keep, :], Y_test_sele[ids_keep]\n",
    "    name_sele_temp = np.concatenate((name_sele_temp, search_name_sele[next_exp_id]))\n",
    "    search_name_sele = search_name_sele[ids_keep]\n",
    "    print(\"Newly added value: \", Y_train_sele[-batch_size:].detach().numpy())\n",
    "    state = odbo.turbo.update_state(state=state, Y_next=Y_next_m)\n",
    "    feature_model1 = odbo.featurization.MaxMeasurement(raw_vars=X_train_sele, Y=Y_train_sele.detach().numpy())\n",
    "    if Y_train_sele[-batch_size:].detach().numpy().max() <= Y_train_sele[:-batch_size].max():\n",
    "        failure_count = failure_count + 1\n",
    "    else:\n",
    "        failure_count = 0\n",
    "    if failure_count >= 3 and max_count < 3:\n",
    "        max_count = max_count + 1\n",
    "        feature_model1 = odbo.featurization.AvgMeasurement(raw_vars=X_train_sele, Y=Y_train_sele.detach().numpy())\n",
    "    else:\n",
    "        max_count = 0\n",
    "    X_train_sele = torch.tensor(feature_model1.transform(X_train_sele))\n",
    "    X_test_sele= torch.tensor(feature_model1.transform(X_test_sele))\n",
    "    l = l + 1\n",
    "np.save('results/GB1_2016_ODBO_TuRBO_RobustGP_batch1_{}.npy'.format(random_seed), Y_train_sele)"
   ]
  },
  {
   "cell_type": "code",
   "execution_count": null,
   "metadata": {},
   "outputs": [],
   "source": []
  }
 ],
 "metadata": {
  "kernelspec": {
   "display_name": "Python 3",
   "language": "python",
   "name": "python3"
  },
  "language_info": {
   "codemirror_mode": {
    "name": "ipython",
    "version": 3
   },
   "file_extension": ".py",
   "mimetype": "text/x-python",
   "name": "python",
   "nbconvert_exporter": "python",
   "pygments_lexer": "ipython3",
   "version": "3.7.4"
  }
 },
 "nbformat": 4,
 "nbformat_minor": 2
}
