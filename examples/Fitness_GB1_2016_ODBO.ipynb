{
 "cells": [
  {
   "cell_type": "code",
   "execution_count": 6,
   "metadata": {},
   "outputs": [],
   "source": [
    "import numpy as np\n",
    "import torch\n",
    "import pandas as pd\n",
    "import odbo\n",
    "import os"
   ]
  },
  {
   "cell_type": "markdown",
   "metadata": {},
   "source": [
    "## Get initial experiment design"
   ]
  },
  {
   "cell_type": "code",
   "execution_count": 7,
   "metadata": {},
   "outputs": [
    {
     "name": "stdout",
     "output_type": "stream",
     "text": [
      "Selected initial experiments no. is  40\n",
      "Select max Y:  1.320616068\n"
     ]
    }
   ],
   "source": [
    "# Load dataset\n",
    "random_seed = 9\n",
    "np.random.seed(random_seed)\n",
    "data_test = pd.read_csv('../datasets/GB1_2016_149361.csv', sep=',')\n",
    "name_pre, Y_test = np.array(data_test['AACombo']), np.array(data_test['Fitness'])\n",
    "shuffle_order = np.arange(len(Y_test))\n",
    "np.random.shuffle(shuffle_order[1:])\n",
    "name_pre[1:], Y_test[1:] = name_pre[shuffle_order[1:]], Y_test[shuffle_order[1:]]\n",
    "name = odbo.utils.code_to_array(name_pre)\n",
    "if os.path.isfile('sele_experiment_GB1_2016.npy') == True:\n",
    "    name_sele = np.load('sele_experiment_GB1_2016.npy')\n",
    "    Y_train = np.load('sele_fitness_GB1_2016.npy')\n",
    "    print('Selected initial experiments no. is ', len(Y_train))\n",
    "else:\n",
    "    # Let each site has 20 AA codes at least show up twice \n",
    "    sele_indices = odbo.initialization.initial_design(name, least_occurance=[2,2,2,2],allow_abundance=True,verbose = False,random_state=random_seed)\n",
    "    # Initial experiments are selected to be name_sele with fitness of Y_sele\n",
    "    name_sele, Y_train = name[sele_indices, :], Y_test[sele_indices]\n",
    "    print('Selected initial experiments no. is ', len(sele_indices))\n",
    "print('Select max Y: ', Y_train.max())"
   ]
  },
  {
   "cell_type": "markdown",
   "metadata": {},
   "source": [
    "## Transform AA codes to average fitness feature "
   ]
  },
  {
   "cell_type": "code",
   "execution_count": 8,
   "metadata": {},
   "outputs": [],
   "source": [
    "# Using Max measurement results as initial features\n",
    "threshold = 0.05\n",
    "feature_model = odbo.featurization.MassiveFeatureTransform(raw_vars=name_sele, Y=Y_train, method ='Max')\n",
    "X_train = feature_model.transform(name_sele)\n",
    "X_test = feature_model.transform(name)"
   ]
  },
  {
   "cell_type": "markdown",
   "metadata": {},
   "source": [
    "## Adapt search space construction"
   ]
  },
  {
   "cell_type": "code",
   "execution_count": 9,
   "metadata": {
    "scrolled": true
   },
   "outputs": [
    {
     "name": "stdout",
     "output_type": "stream",
     "text": [
      "[04:39:57] WARNING: /Users/travis/build/dmlc/xgboost/src/learner.cc:573: \n",
      "Parameters: { \"silent\" } might not be used.\n",
      "\n",
      "  This may not be accurate due to some parameters are only used in language bindings but\n",
      "  passed down to XGBoost core.  Or some parameters are not used but slip through this\n",
      "  verification. Please open an issue if you find above cases.\n",
      "\n",
      "\n",
      "Correct ratio: 90.467%\n",
      "FN ratio: 0.222%\n",
      "FP ratio: 9.312%\n"
     ]
    },
    {
     "data": {
      "image/png": "[encoded data removed]",
      "text/plain": [
       "<Figure size 432x288 with 2 Axes>"
      ]
     },
     "metadata": {},
     "output_type": "display_data"
    }
   ],
   "source": [
    "# Find the adaptive search space model\n",
    "labels_train = odbo.prescreening.sp_label(X_train, Y_train, thres=threshold)\n",
    "pre_model = odbo.prescreening.XGBOD(eval_metric = 'error', random_state = random_seed)\n",
    "pre_model.fit(X_train, labels_train)\n",
    "pred_labels = pre_model.predict(X_train)\n",
    "labels_test = odbo.prescreening.sp_label(X_test, Y_test, thres=threshold)\n",
    "pred_test_labels = pre_model.predict(X_test)\n",
    "# Plot the confusion matrix to check the accuracy of search space prescreening\n",
    "out_outlier, in_outlier, out_inlier, in_inlier = odbo.plot.plot_cm(labels_test, pred_test_labels, Y_test)\n",
    "print(\"Correct ratio: {0:.3%}\".format((len(out_outlier)+len(in_inlier))/len(labels_test)))\n",
    "print(\"FN ratio: {0:.3%}\".format(len(out_inlier)/len(labels_test)))\n",
    "print(\"FP ratio: {0:.3%}\".format(len(in_outlier)/len(labels_test))) "
   ]
  },
  {
   "cell_type": "markdown",
   "metadata": {},
   "source": [
    "## BO for next best experiment w/ GP"
   ]
  },
  {
   "cell_type": "code",
   "execution_count": 10,
   "metadata": {
    "scrolled": true
   },
   "outputs": [
    {
     "name": "stdout",
     "output_type": "stream",
     "text": [
      "Iter:  0 Current Max:  1.320616068 Test max:  8.761965656\n",
      "tensor([0.1285], dtype=torch.float64, grad_fn=<IndexBackward>)\n",
      "Newly added value:  [[0.31354108]] ['Q' 'V' 'G' 'A']\n",
      "Iter:  1 Current Max:  1.320616068 Test max:  8.761965656\n",
      "tensor([0.1167], dtype=torch.float64, grad_fn=<IndexBackward>)\n",
      "Newly added value:  [[0.00384758]] ['Q' 'D' 'A' 'V']\n",
      "Iter:  2 Current Max:  1.320616068 Test max:  8.761965656\n",
      "tensor([0.0792], dtype=torch.float64, grad_fn=<IndexBackward>)\n",
      "Newly added value:  [[0.01078996]] ['Q' 'V' 'A' 'V']\n",
      "Iter:  3 Current Max:  1.320616068 Test max:  8.761965656\n",
      "tensor([0.0701], dtype=torch.float64, grad_fn=<IndexBackward>)\n",
      "Newly added value:  [[0.66989285]] ['Q' 'D' 'A' 'A']\n",
      "Iter:  4 Current Max:  1.320616068 Test max:  8.761965656\n",
      "tensor([0.3565], dtype=torch.float64, grad_fn=<IndexBackward>)\n",
      "Newly added value:  [[4.50273083]] ['V' 'V' 'A' 'A']\n",
      "Iter:  5 Current Max:  4.502730826 Test max:  8.761965656\n",
      "tensor([0.0035], dtype=torch.float64, grad_fn=<IndexBackward>)\n",
      "Newly added value:  [[4.15798313]] ['V' 'D' 'A' 'A']\n",
      "Iter:  6 Current Max:  4.502730826 Test max:  8.761965656\n",
      "tensor([0.0033], dtype=torch.float64, grad_fn=<IndexBackward>)\n",
      "Newly added value:  [[1.76143518]] ['V' 'V' 'G' 'A']\n",
      "Iter:  7 Current Max:  4.502730826 Test max:  8.761965656\n",
      "tensor([0.0015], dtype=torch.float64, grad_fn=<IndexBackward>)\n",
      "Newly added value:  [[0.35189879]] ['V' 'V' 'A' 'V']\n",
      "Iter:  8 Current Max:  4.502730826 Test max:  8.761965656\n",
      "tensor([0.0010], dtype=torch.float64, grad_fn=<IndexBackward>)\n",
      "Newly added value:  [[4.682612]] ['V' 'I' 'A' 'A']\n",
      "Iter:  9 Current Max:  4.682612 Test max:  8.761965656\n",
      "tensor([0.0002], dtype=torch.float64, grad_fn=<IndexBackward>)\n",
      "Newly added value:  [[6.12380479]] ['V' 'W' 'A' 'A']\n",
      "Iter:  10 Current Max:  6.123804795 Test max:  8.761965656\n",
      "tensor([0.], dtype=torch.float64, grad_fn=<IndexBackward>)\n",
      "Newly added value:  [[1.]] ['V' 'D' 'G' 'V']\n",
      "Iter:  11 Current Max:  6.123804795 Test max:  8.761965656\n",
      "tensor([0.], dtype=torch.float64, grad_fn=<IndexBackward>)\n",
      "Newly added value:  [[0.03025]] ['Q' 'K' 'A' 'C']\n",
      "Iter:  12 Current Max:  6.123804795 Test max:  8.761965656\n",
      "tensor([0.], dtype=torch.float64, grad_fn=<IndexBackward>)\n",
      "Newly added value:  [[0.0347875]] ['V' 'C' 'L' 'M']\n",
      "Iter:  13 Current Max:  6.123804795 Test max:  8.761965656\n",
      "tensor([0.0286], dtype=torch.float64, grad_fn=<IndexBackward>)\n",
      "Newly added value:  [[2.01352185]] ['V' 'W' 'G' 'A']\n",
      "Iter:  14 Current Max:  6.123804795 Test max:  8.761965656\n",
      "tensor([0.0187], dtype=torch.float64, grad_fn=<IndexBackward>)\n",
      "Newly added value:  [[0.06090741]] ['Q' 'W' 'A' 'A']\n",
      "Iter:  15 Current Max:  6.123804795 Test max:  8.761965656\n",
      "tensor([0.], dtype=torch.float64, grad_fn=<IndexBackward>)\n",
      "Newly added value:  [[0.02791589]] ['Q' 'C' 'M' 'V']\n",
      "Iter:  16 Current Max:  6.123804795 Test max:  8.761965656\n",
      "tensor([0.], dtype=torch.float64, grad_fn=<IndexBackward>)\n",
      "Newly added value:  [[0.38371667]] ['F' 'T' 'A' 'C']\n",
      "Iter:  17 Current Max:  6.123804795 Test max:  8.761965656\n",
      "tensor([0.], dtype=torch.float64, grad_fn=<IndexBackward>)\n",
      "Newly added value:  [[3.08116581]] ['V' 'H' 'G' 'V']\n",
      "Iter:  18 Current Max:  6.123804795 Test max:  8.761965656\n"
     ]
    },
    {
     "ename": "KeyboardInterrupt",
     "evalue": "",
     "output_type": "error",
     "traceback": [
      "\u001b[0;31m---------------------------------------------------------------------------\u001b[0m",
      "\u001b[0;31mKeyboardInterrupt\u001b[0m                         Traceback (most recent call last)",
      "\u001b[0;32m<ipython-input-10-c61f7a5cb09a>\u001b[0m in \u001b[0;36m<module>\u001b[0;34m()\u001b[0m\n\u001b[1;32m     12\u001b[0m \u001b[0;32mwhile\u001b[0m \u001b[0ml\u001b[0m \u001b[0;34m<\u001b[0m \u001b[0msearch_iter\u001b[0m\u001b[0;34m:\u001b[0m\u001b[0;34m\u001b[0m\u001b[0;34m\u001b[0m\u001b[0m\n\u001b[1;32m     13\u001b[0m     \u001b[0mprint\u001b[0m\u001b[0;34m(\u001b[0m\u001b[0;34m\"Iter: \"\u001b[0m\u001b[0;34m,\u001b[0m \u001b[0ml\u001b[0m\u001b[0;34m,\u001b[0m \u001b[0;34m\"Current Max: \"\u001b[0m\u001b[0;34m,\u001b[0m \u001b[0mY_train_sele\u001b[0m\u001b[0;34m.\u001b[0m\u001b[0mmax\u001b[0m\u001b[0;34m(\u001b[0m\u001b[0;34m)\u001b[0m\u001b[0;34m.\u001b[0m\u001b[0mdetach\u001b[0m\u001b[0;34m(\u001b[0m\u001b[0;34m)\u001b[0m\u001b[0;34m.\u001b[0m\u001b[0mnumpy\u001b[0m\u001b[0;34m(\u001b[0m\u001b[0;34m)\u001b[0m\u001b[0;34m,\u001b[0m \u001b[0;34m\"Test max: \"\u001b[0m\u001b[0;34m,\u001b[0m \u001b[0mY_test_sele\u001b[0m\u001b[0;34m.\u001b[0m\u001b[0mmax\u001b[0m\u001b[0;34m(\u001b[0m\u001b[0;34m)\u001b[0m\u001b[0;34m.\u001b[0m\u001b[0mdetach\u001b[0m\u001b[0;34m(\u001b[0m\u001b[0;34m)\u001b[0m\u001b[0;34m.\u001b[0m\u001b[0mnumpy\u001b[0m\u001b[0;34m(\u001b[0m\u001b[0;34m)\u001b[0m\u001b[0;34m)\u001b[0m\u001b[0;34m\u001b[0m\u001b[0;34m\u001b[0m\u001b[0m\n\u001b[0;32m---> 14\u001b[0;31m     \u001b[0mX_next\u001b[0m\u001b[0;34m,\u001b[0m \u001b[0macq_value\u001b[0m\u001b[0;34m,\u001b[0m \u001b[0mnext_exp_id\u001b[0m \u001b[0;34m=\u001b[0m \u001b[0modbo\u001b[0m\u001b[0;34m.\u001b[0m\u001b[0mbo_design\u001b[0m\u001b[0;34m(\u001b[0m\u001b[0mX\u001b[0m\u001b[0;34m=\u001b[0m\u001b[0mX_train_sele\u001b[0m\u001b[0;34m,\u001b[0m \u001b[0mY\u001b[0m\u001b[0;34m=\u001b[0m\u001b[0mY_train_sele\u001b[0m\u001b[0;34m,\u001b[0m \u001b[0mX_pending\u001b[0m\u001b[0;34m=\u001b[0m\u001b[0mX_test_sele\u001b[0m\u001b[0;34m,\u001b[0m \u001b[0mgp_method\u001b[0m\u001b[0;34m=\u001b[0m\u001b[0mgp_method\u001b[0m\u001b[0;34m,\u001b[0m \u001b[0mbatch_size\u001b[0m\u001b[0;34m=\u001b[0m\u001b[0mbatch_size\u001b[0m\u001b[0;34m)\u001b[0m\u001b[0;34m\u001b[0m\u001b[0;34m\u001b[0m\u001b[0m\n\u001b[0m\u001b[1;32m     15\u001b[0m     \u001b[0mprint\u001b[0m\u001b[0;34m(\u001b[0m\u001b[0macq_value\u001b[0m\u001b[0;34m)\u001b[0m\u001b[0;34m\u001b[0m\u001b[0;34m\u001b[0m\u001b[0m\n\u001b[1;32m     16\u001b[0m     \u001b[0mids_keep\u001b[0m \u001b[0;34m=\u001b[0m \u001b[0mlist\u001b[0m\u001b[0;34m(\u001b[0m\u001b[0mnp\u001b[0m\u001b[0;34m.\u001b[0m\u001b[0mdelete\u001b[0m\u001b[0;34m(\u001b[0m\u001b[0mrange\u001b[0m\u001b[0;34m(\u001b[0m\u001b[0mX_test_sele\u001b[0m\u001b[0;34m.\u001b[0m\u001b[0mshape\u001b[0m\u001b[0;34m[\u001b[0m\u001b[0;36m0\u001b[0m\u001b[0;34m]\u001b[0m\u001b[0;34m)\u001b[0m\u001b[0;34m,\u001b[0m \u001b[0mnext_exp_id\u001b[0m\u001b[0;34m)\u001b[0m\u001b[0;34m)\u001b[0m\u001b[0;34m\u001b[0m\u001b[0;34m\u001b[0m\u001b[0m\n",
      "\u001b[0;32m~/Documents/github/ODBO/odbo/run_exp.py\u001b[0m in \u001b[0;36mbo_design\u001b[0;34m(X, Y, X_pending, gp_method, batch_size, min_inferred_noise_level, verbose)\u001b[0m\n\u001b[1;32m     63\u001b[0m                 \u001b[0mX_norm\u001b[0m\u001b[0;34m,\u001b[0m\u001b[0;34m\u001b[0m\u001b[0;34m\u001b[0m\u001b[0m\n\u001b[1;32m     64\u001b[0m                 \u001b[0mY_norm\u001b[0m\u001b[0;34m,\u001b[0m\u001b[0;34m\u001b[0m\u001b[0;34m\u001b[0m\u001b[0m\n\u001b[0;32m---> 65\u001b[0;31m                 min_inferred_noise_level=min_inferred_noise_level)\n\u001b[0m\u001b[1;32m     66\u001b[0m             \u001b[0;32mbreak\u001b[0m\u001b[0;34m\u001b[0m\u001b[0;34m\u001b[0m\u001b[0m\n\u001b[1;32m     67\u001b[0m         \u001b[0;32mexcept\u001b[0m \u001b[0mNotPSDError\u001b[0m\u001b[0;34m:\u001b[0m\u001b[0;34m\u001b[0m\u001b[0;34m\u001b[0m\u001b[0m\n",
      "\u001b[0;32m~/Documents/github/ODBO/odbo/regressions.py\u001b[0m in \u001b[0;36mGPRegression\u001b[0;34m(X, Y, likelihood, noise_constraint, min_inferred_noise_level, optimizer, **kwargs)\u001b[0m\n\u001b[1;32m     54\u001b[0m     \u001b[0;32mif\u001b[0m \u001b[0moptimizer\u001b[0m \u001b[0;34m==\u001b[0m \u001b[0;34m'fit_gpytorch_scipy'\u001b[0m \u001b[0;32mor\u001b[0m \u001b[0moptimizer\u001b[0m \u001b[0;32mis\u001b[0m \u001b[0;32mNone\u001b[0m\u001b[0;34m:\u001b[0m\u001b[0;34m\u001b[0m\u001b[0;34m\u001b[0m\u001b[0m\n\u001b[1;32m     55\u001b[0m         \u001b[0mmll\u001b[0m\u001b[0;34m.\u001b[0m\u001b[0mtrain\u001b[0m\u001b[0;34m(\u001b[0m\u001b[0;34m)\u001b[0m\u001b[0;34m\u001b[0m\u001b[0;34m\u001b[0m\u001b[0m\n\u001b[0;32m---> 56\u001b[0;31m         \u001b[0mfit_gpytorch_scipy\u001b[0m\u001b[0;34m(\u001b[0m\u001b[0mmll\u001b[0m\u001b[0;34m)\u001b[0m\u001b[0;34m\u001b[0m\u001b[0;34m\u001b[0m\u001b[0m\n\u001b[0m\u001b[1;32m     57\u001b[0m         \u001b[0mmll\u001b[0m\u001b[0;34m.\u001b[0m\u001b[0meval\u001b[0m\u001b[0;34m(\u001b[0m\u001b[0;34m)\u001b[0m\u001b[0;34m\u001b[0m\u001b[0;34m\u001b[0m\u001b[0m\n\u001b[1;32m     58\u001b[0m     \u001b[0;32melif\u001b[0m \u001b[0moptimizer\u001b[0m \u001b[0;34m==\u001b[0m \u001b[0;34m'fit_gpytorch_torch'\u001b[0m\u001b[0;34m:\u001b[0m\u001b[0;34m\u001b[0m\u001b[0;34m\u001b[0m\u001b[0m\n",
      "\u001b[0;32m/usr/local/lib/python3.7/site-packages/botorch/optim/fit.py\u001b[0m in \u001b[0;36mfit_gpytorch_scipy\u001b[0;34m(mll, bounds, method, options, track_iterations, approx_mll, scipy_objective, module_to_array_func, module_from_array_func)\u001b[0m\n\u001b[1;32m    245\u001b[0m             \u001b[0mjac\u001b[0m\u001b[0;34m=\u001b[0m\u001b[0;32mTrue\u001b[0m\u001b[0;34m,\u001b[0m\u001b[0;34m\u001b[0m\u001b[0;34m\u001b[0m\u001b[0m\n\u001b[1;32m    246\u001b[0m             \u001b[0moptions\u001b[0m\u001b[0;34m=\u001b[0m\u001b[0moptions\u001b[0m\u001b[0;34m,\u001b[0m\u001b[0;34m\u001b[0m\u001b[0;34m\u001b[0m\u001b[0m\n\u001b[0;32m--> 247\u001b[0;31m             \u001b[0mcallback\u001b[0m\u001b[0;34m=\u001b[0m\u001b[0mcb\u001b[0m\u001b[0;34m,\u001b[0m\u001b[0;34m\u001b[0m\u001b[0;34m\u001b[0m\u001b[0m\n\u001b[0m\u001b[1;32m    248\u001b[0m         )\n\u001b[1;32m    249\u001b[0m         \u001b[0miterations\u001b[0m \u001b[0;34m=\u001b[0m \u001b[0;34m[\u001b[0m\u001b[0;34m]\u001b[0m\u001b[0;34m\u001b[0m\u001b[0;34m\u001b[0m\u001b[0m\n",
      "\u001b[0;32m/usr/local/lib/python3.7/site-packages/scipy/optimize/_minimize.py\u001b[0m in \u001b[0;36mminimize\u001b[0;34m(fun, x0, args, method, jac, hess, hessp, bounds, constraints, tol, callback, options)\u001b[0m\n\u001b[1;32m    622\u001b[0m     \u001b[0;32melif\u001b[0m \u001b[0mmeth\u001b[0m \u001b[0;34m==\u001b[0m \u001b[0;34m'l-bfgs-b'\u001b[0m\u001b[0;34m:\u001b[0m\u001b[0;34m\u001b[0m\u001b[0;34m\u001b[0m\u001b[0m\n\u001b[1;32m    623\u001b[0m         return _minimize_lbfgsb(fun, x0, args, jac, bounds,\n\u001b[0;32m--> 624\u001b[0;31m                                 callback=callback, **options)\n\u001b[0m\u001b[1;32m    625\u001b[0m     \u001b[0;32melif\u001b[0m \u001b[0mmeth\u001b[0m \u001b[0;34m==\u001b[0m \u001b[0;34m'tnc'\u001b[0m\u001b[0;34m:\u001b[0m\u001b[0;34m\u001b[0m\u001b[0;34m\u001b[0m\u001b[0m\n\u001b[1;32m    626\u001b[0m         return _minimize_tnc(fun, x0, args, jac, bounds, callback=callback,\n",
      "\u001b[0;32m/usr/local/lib/python3.7/site-packages/scipy/optimize/lbfgsb.py\u001b[0m in \u001b[0;36m_minimize_lbfgsb\u001b[0;34m(fun, x0, args, jac, bounds, disp, maxcor, ftol, gtol, eps, maxfun, maxiter, iprint, callback, maxls, finite_diff_rel_step, **unknown_options)\u001b[0m\n\u001b[1;32m    358\u001b[0m             \u001b[0;31m# until the completion of the current minimization iteration.\u001b[0m\u001b[0;34m\u001b[0m\u001b[0;34m\u001b[0m\u001b[0;34m\u001b[0m\u001b[0m\n\u001b[1;32m    359\u001b[0m             \u001b[0;31m# Overwrite f and g:\u001b[0m\u001b[0;34m\u001b[0m\u001b[0;34m\u001b[0m\u001b[0;34m\u001b[0m\u001b[0m\n\u001b[0;32m--> 360\u001b[0;31m             \u001b[0mf\u001b[0m\u001b[0;34m,\u001b[0m \u001b[0mg\u001b[0m \u001b[0;34m=\u001b[0m \u001b[0mfunc_and_grad\u001b[0m\u001b[0;34m(\u001b[0m\u001b[0mx\u001b[0m\u001b[0;34m)\u001b[0m\u001b[0;34m\u001b[0m\u001b[0;34m\u001b[0m\u001b[0m\n\u001b[0m\u001b[1;32m    361\u001b[0m         \u001b[0;32melif\u001b[0m \u001b[0mtask_str\u001b[0m\u001b[0;34m.\u001b[0m\u001b[0mstartswith\u001b[0m\u001b[0;34m(\u001b[0m\u001b[0;34mb'NEW_X'\u001b[0m\u001b[0;34m)\u001b[0m\u001b[0;34m:\u001b[0m\u001b[0;34m\u001b[0m\u001b[0;34m\u001b[0m\u001b[0m\n\u001b[1;32m    362\u001b[0m             \u001b[0;31m# new iteration\u001b[0m\u001b[0;34m\u001b[0m\u001b[0;34m\u001b[0m\u001b[0;34m\u001b[0m\u001b[0m\n",
      "\u001b[0;32m/usr/local/lib/python3.7/site-packages/scipy/optimize/_differentiable_functions.py\u001b[0m in \u001b[0;36mfun_and_grad\u001b[0;34m(self, x)\u001b[0m\n\u001b[1;32m    265\u001b[0m         \u001b[0;32mif\u001b[0m \u001b[0;32mnot\u001b[0m \u001b[0mnp\u001b[0m\u001b[0;34m.\u001b[0m\u001b[0marray_equal\u001b[0m\u001b[0;34m(\u001b[0m\u001b[0mx\u001b[0m\u001b[0;34m,\u001b[0m \u001b[0mself\u001b[0m\u001b[0;34m.\u001b[0m\u001b[0mx\u001b[0m\u001b[0;34m)\u001b[0m\u001b[0;34m:\u001b[0m\u001b[0;34m\u001b[0m\u001b[0;34m\u001b[0m\u001b[0m\n\u001b[1;32m    266\u001b[0m             \u001b[0mself\u001b[0m\u001b[0;34m.\u001b[0m\u001b[0m_update_x_impl\u001b[0m\u001b[0;34m(\u001b[0m\u001b[0mx\u001b[0m\u001b[0;34m)\u001b[0m\u001b[0;34m\u001b[0m\u001b[0;34m\u001b[0m\u001b[0m\n\u001b[0;32m--> 267\u001b[0;31m         \u001b[0mself\u001b[0m\u001b[0;34m.\u001b[0m\u001b[0m_update_fun\u001b[0m\u001b[0;34m(\u001b[0m\u001b[0;34m)\u001b[0m\u001b[0;34m\u001b[0m\u001b[0;34m\u001b[0m\u001b[0m\n\u001b[0m\u001b[1;32m    268\u001b[0m         \u001b[0mself\u001b[0m\u001b[0;34m.\u001b[0m\u001b[0m_update_grad\u001b[0m\u001b[0;34m(\u001b[0m\u001b[0;34m)\u001b[0m\u001b[0;34m\u001b[0m\u001b[0;34m\u001b[0m\u001b[0m\n\u001b[1;32m    269\u001b[0m         \u001b[0;32mreturn\u001b[0m \u001b[0mself\u001b[0m\u001b[0;34m.\u001b[0m\u001b[0mf\u001b[0m\u001b[0;34m,\u001b[0m \u001b[0mself\u001b[0m\u001b[0;34m.\u001b[0m\u001b[0mg\u001b[0m\u001b[0;34m\u001b[0m\u001b[0;34m\u001b[0m\u001b[0m\n",
      "\u001b[0;32m/usr/local/lib/python3.7/site-packages/scipy/optimize/_differentiable_functions.py\u001b[0m in \u001b[0;36m_update_fun\u001b[0;34m(self)\u001b[0m\n\u001b[1;32m    231\u001b[0m     \u001b[0;32mdef\u001b[0m \u001b[0m_update_fun\u001b[0m\u001b[0;34m(\u001b[0m\u001b[0mself\u001b[0m\u001b[0;34m)\u001b[0m\u001b[0;34m:\u001b[0m\u001b[0;34m\u001b[0m\u001b[0;34m\u001b[0m\u001b[0m\n\u001b[1;32m    232\u001b[0m         \u001b[0;32mif\u001b[0m \u001b[0;32mnot\u001b[0m \u001b[0mself\u001b[0m\u001b[0;34m.\u001b[0m\u001b[0mf_updated\u001b[0m\u001b[0;34m:\u001b[0m\u001b[0;34m\u001b[0m\u001b[0;34m\u001b[0m\u001b[0m\n\u001b[0;32m--> 233\u001b[0;31m             \u001b[0mself\u001b[0m\u001b[0;34m.\u001b[0m\u001b[0m_update_fun_impl\u001b[0m\u001b[0;34m(\u001b[0m\u001b[0;34m)\u001b[0m\u001b[0;34m\u001b[0m\u001b[0;34m\u001b[0m\u001b[0m\n\u001b[0m\u001b[1;32m    234\u001b[0m             \u001b[0mself\u001b[0m\u001b[0;34m.\u001b[0m\u001b[0mf_updated\u001b[0m \u001b[0;34m=\u001b[0m \u001b[0;32mTrue\u001b[0m\u001b[0;34m\u001b[0m\u001b[0;34m\u001b[0m\u001b[0m\n\u001b[1;32m    235\u001b[0m \u001b[0;34m\u001b[0m\u001b[0m\n",
      "\u001b[0;32m/usr/local/lib/python3.7/site-packages/scipy/optimize/_differentiable_functions.py\u001b[0m in \u001b[0;36mupdate_fun\u001b[0;34m()\u001b[0m\n\u001b[1;32m    135\u001b[0m \u001b[0;34m\u001b[0m\u001b[0m\n\u001b[1;32m    136\u001b[0m         \u001b[0;32mdef\u001b[0m \u001b[0mupdate_fun\u001b[0m\u001b[0;34m(\u001b[0m\u001b[0;34m)\u001b[0m\u001b[0;34m:\u001b[0m\u001b[0;34m\u001b[0m\u001b[0;34m\u001b[0m\u001b[0m\n\u001b[0;32m--> 137\u001b[0;31m             \u001b[0mself\u001b[0m\u001b[0;34m.\u001b[0m\u001b[0mf\u001b[0m \u001b[0;34m=\u001b[0m \u001b[0mfun_wrapped\u001b[0m\u001b[0;34m(\u001b[0m\u001b[0mself\u001b[0m\u001b[0;34m.\u001b[0m\u001b[0mx\u001b[0m\u001b[0;34m)\u001b[0m\u001b[0;34m\u001b[0m\u001b[0;34m\u001b[0m\u001b[0m\n\u001b[0m\u001b[1;32m    138\u001b[0m \u001b[0;34m\u001b[0m\u001b[0m\n\u001b[1;32m    139\u001b[0m         \u001b[0mself\u001b[0m\u001b[0;34m.\u001b[0m\u001b[0m_update_fun_impl\u001b[0m \u001b[0;34m=\u001b[0m \u001b[0mupdate_fun\u001b[0m\u001b[0;34m\u001b[0m\u001b[0;34m\u001b[0m\u001b[0m\n",
      "\u001b[0;32m/usr/local/lib/python3.7/site-packages/scipy/optimize/_differentiable_functions.py\u001b[0m in \u001b[0;36mfun_wrapped\u001b[0;34m(x)\u001b[0m\n\u001b[1;32m    132\u001b[0m             \u001b[0;31m# Overwriting results in undefined behaviour because\u001b[0m\u001b[0;34m\u001b[0m\u001b[0;34m\u001b[0m\u001b[0;34m\u001b[0m\u001b[0m\n\u001b[1;32m    133\u001b[0m             \u001b[0;31m# fun(self.x) will change self.x, with the two no longer linked.\u001b[0m\u001b[0;34m\u001b[0m\u001b[0;34m\u001b[0m\u001b[0;34m\u001b[0m\u001b[0m\n\u001b[0;32m--> 134\u001b[0;31m             \u001b[0;32mreturn\u001b[0m \u001b[0mfun\u001b[0m\u001b[0;34m(\u001b[0m\u001b[0mnp\u001b[0m\u001b[0;34m.\u001b[0m\u001b[0mcopy\u001b[0m\u001b[0;34m(\u001b[0m\u001b[0mx\u001b[0m\u001b[0;34m)\u001b[0m\u001b[0;34m,\u001b[0m \u001b[0;34m*\u001b[0m\u001b[0margs\u001b[0m\u001b[0;34m)\u001b[0m\u001b[0;34m\u001b[0m\u001b[0;34m\u001b[0m\u001b[0m\n\u001b[0m\u001b[1;32m    135\u001b[0m \u001b[0;34m\u001b[0m\u001b[0m\n\u001b[1;32m    136\u001b[0m         \u001b[0;32mdef\u001b[0m \u001b[0mupdate_fun\u001b[0m\u001b[0;34m(\u001b[0m\u001b[0;34m)\u001b[0m\u001b[0;34m:\u001b[0m\u001b[0;34m\u001b[0m\u001b[0;34m\u001b[0m\u001b[0m\n",
      "\u001b[0;32m/usr/local/lib/python3.7/site-packages/scipy/optimize/optimize.py\u001b[0m in \u001b[0;36m__call__\u001b[0;34m(self, x, *args)\u001b[0m\n\u001b[1;32m     72\u001b[0m     \u001b[0;32mdef\u001b[0m \u001b[0m__call__\u001b[0m\u001b[0;34m(\u001b[0m\u001b[0mself\u001b[0m\u001b[0;34m,\u001b[0m \u001b[0mx\u001b[0m\u001b[0;34m,\u001b[0m \u001b[0;34m*\u001b[0m\u001b[0margs\u001b[0m\u001b[0;34m)\u001b[0m\u001b[0;34m:\u001b[0m\u001b[0;34m\u001b[0m\u001b[0;34m\u001b[0m\u001b[0m\n\u001b[1;32m     73\u001b[0m         \u001b[0;34m\"\"\" returns the the function value \"\"\"\u001b[0m\u001b[0;34m\u001b[0m\u001b[0;34m\u001b[0m\u001b[0m\n\u001b[0;32m---> 74\u001b[0;31m         \u001b[0mself\u001b[0m\u001b[0;34m.\u001b[0m\u001b[0m_compute_if_needed\u001b[0m\u001b[0;34m(\u001b[0m\u001b[0mx\u001b[0m\u001b[0;34m,\u001b[0m \u001b[0;34m*\u001b[0m\u001b[0margs\u001b[0m\u001b[0;34m)\u001b[0m\u001b[0;34m\u001b[0m\u001b[0;34m\u001b[0m\u001b[0m\n\u001b[0m\u001b[1;32m     75\u001b[0m         \u001b[0;32mreturn\u001b[0m \u001b[0mself\u001b[0m\u001b[0;34m.\u001b[0m\u001b[0m_value\u001b[0m\u001b[0;34m\u001b[0m\u001b[0;34m\u001b[0m\u001b[0m\n\u001b[1;32m     76\u001b[0m \u001b[0;34m\u001b[0m\u001b[0m\n",
      "\u001b[0;32m/usr/local/lib/python3.7/site-packages/scipy/optimize/optimize.py\u001b[0m in \u001b[0;36m_compute_if_needed\u001b[0;34m(self, x, *args)\u001b[0m\n\u001b[1;32m     66\u001b[0m         \u001b[0;32mif\u001b[0m \u001b[0;32mnot\u001b[0m \u001b[0mnp\u001b[0m\u001b[0;34m.\u001b[0m\u001b[0mall\u001b[0m\u001b[0;34m(\u001b[0m\u001b[0mx\u001b[0m \u001b[0;34m==\u001b[0m \u001b[0mself\u001b[0m\u001b[0;34m.\u001b[0m\u001b[0mx\u001b[0m\u001b[0;34m)\u001b[0m \u001b[0;32mor\u001b[0m \u001b[0mself\u001b[0m\u001b[0;34m.\u001b[0m\u001b[0m_value\u001b[0m \u001b[0;32mis\u001b[0m \u001b[0;32mNone\u001b[0m \u001b[0;32mor\u001b[0m \u001b[0mself\u001b[0m\u001b[0;34m.\u001b[0m\u001b[0mjac\u001b[0m \u001b[0;32mis\u001b[0m \u001b[0;32mNone\u001b[0m\u001b[0;34m:\u001b[0m\u001b[0;34m\u001b[0m\u001b[0;34m\u001b[0m\u001b[0m\n\u001b[1;32m     67\u001b[0m             \u001b[0mself\u001b[0m\u001b[0;34m.\u001b[0m\u001b[0mx\u001b[0m \u001b[0;34m=\u001b[0m \u001b[0mnp\u001b[0m\u001b[0;34m.\u001b[0m\u001b[0masarray\u001b[0m\u001b[0;34m(\u001b[0m\u001b[0mx\u001b[0m\u001b[0;34m)\u001b[0m\u001b[0;34m.\u001b[0m\u001b[0mcopy\u001b[0m\u001b[0;34m(\u001b[0m\u001b[0;34m)\u001b[0m\u001b[0;34m\u001b[0m\u001b[0;34m\u001b[0m\u001b[0m\n\u001b[0;32m---> 68\u001b[0;31m             \u001b[0mfg\u001b[0m \u001b[0;34m=\u001b[0m \u001b[0mself\u001b[0m\u001b[0;34m.\u001b[0m\u001b[0mfun\u001b[0m\u001b[0;34m(\u001b[0m\u001b[0mx\u001b[0m\u001b[0;34m,\u001b[0m \u001b[0;34m*\u001b[0m\u001b[0margs\u001b[0m\u001b[0;34m)\u001b[0m\u001b[0;34m\u001b[0m\u001b[0;34m\u001b[0m\u001b[0m\n\u001b[0m\u001b[1;32m     69\u001b[0m             \u001b[0mself\u001b[0m\u001b[0;34m.\u001b[0m\u001b[0mjac\u001b[0m \u001b[0;34m=\u001b[0m \u001b[0mfg\u001b[0m\u001b[0;34m[\u001b[0m\u001b[0;36m1\u001b[0m\u001b[0;34m]\u001b[0m\u001b[0;34m\u001b[0m\u001b[0;34m\u001b[0m\u001b[0m\n\u001b[1;32m     70\u001b[0m             \u001b[0mself\u001b[0m\u001b[0;34m.\u001b[0m\u001b[0m_value\u001b[0m \u001b[0;34m=\u001b[0m \u001b[0mfg\u001b[0m\u001b[0;34m[\u001b[0m\u001b[0;36m0\u001b[0m\u001b[0;34m]\u001b[0m\u001b[0;34m\u001b[0m\u001b[0;34m\u001b[0m\u001b[0m\n",
      "\u001b[0;32m/usr/local/lib/python3.7/site-packages/botorch/optim/utils.py\u001b[0m in \u001b[0;36m_scipy_objective_and_grad\u001b[0;34m(x, mll, property_dict)\u001b[0m\n\u001b[1;32m    228\u001b[0m             \u001b[0mgrad\u001b[0m\u001b[0;34m.\u001b[0m\u001b[0mappend\u001b[0m\u001b[0;34m(\u001b[0m\u001b[0mnp\u001b[0m\u001b[0;34m.\u001b[0m\u001b[0mzeros\u001b[0m\u001b[0;34m(\u001b[0m\u001b[0mproperty_dict\u001b[0m\u001b[0;34m[\u001b[0m\u001b[0mp_name\u001b[0m\u001b[0;34m]\u001b[0m\u001b[0;34m.\u001b[0m\u001b[0mshape\u001b[0m\u001b[0;34m.\u001b[0m\u001b[0mnumel\u001b[0m\u001b[0;34m(\u001b[0m\u001b[0;34m)\u001b[0m\u001b[0;34m)\u001b[0m\u001b[0;34m)\u001b[0m\u001b[0;34m\u001b[0m\u001b[0;34m\u001b[0m\u001b[0m\n\u001b[1;32m    229\u001b[0m         \u001b[0;32melse\u001b[0m\u001b[0;34m:\u001b[0m\u001b[0;34m\u001b[0m\u001b[0;34m\u001b[0m\u001b[0m\n\u001b[0;32m--> 230\u001b[0;31m             \u001b[0mgrad\u001b[0m\u001b[0;34m.\u001b[0m\u001b[0mappend\u001b[0m\u001b[0;34m(\u001b[0m\u001b[0mt\u001b[0m\u001b[0;34m.\u001b[0m\u001b[0mdetach\u001b[0m\u001b[0;34m(\u001b[0m\u001b[0;34m)\u001b[0m\u001b[0;34m.\u001b[0m\u001b[0mview\u001b[0m\u001b[0;34m(\u001b[0m\u001b[0;34m-\u001b[0m\u001b[0;36m1\u001b[0m\u001b[0;34m)\u001b[0m\u001b[0;34m.\u001b[0m\u001b[0mcpu\u001b[0m\u001b[0;34m(\u001b[0m\u001b[0;34m)\u001b[0m\u001b[0;34m.\u001b[0m\u001b[0mdouble\u001b[0m\u001b[0;34m(\u001b[0m\u001b[0;34m)\u001b[0m\u001b[0;34m.\u001b[0m\u001b[0mclone\u001b[0m\u001b[0;34m(\u001b[0m\u001b[0;34m)\u001b[0m\u001b[0;34m.\u001b[0m\u001b[0mnumpy\u001b[0m\u001b[0;34m(\u001b[0m\u001b[0;34m)\u001b[0m\u001b[0;34m)\u001b[0m\u001b[0;34m\u001b[0m\u001b[0;34m\u001b[0m\u001b[0m\n\u001b[0m\u001b[1;32m    231\u001b[0m     \u001b[0mmll\u001b[0m\u001b[0;34m.\u001b[0m\u001b[0mzero_grad\u001b[0m\u001b[0;34m(\u001b[0m\u001b[0;34m)\u001b[0m\u001b[0;34m\u001b[0m\u001b[0;34m\u001b[0m\u001b[0m\n\u001b[1;32m    232\u001b[0m     \u001b[0;32mreturn\u001b[0m \u001b[0mloss\u001b[0m\u001b[0;34m.\u001b[0m\u001b[0mitem\u001b[0m\u001b[0;34m(\u001b[0m\u001b[0;34m)\u001b[0m\u001b[0;34m,\u001b[0m \u001b[0mnp\u001b[0m\u001b[0;34m.\u001b[0m\u001b[0mconcatenate\u001b[0m\u001b[0;34m(\u001b[0m\u001b[0mgrad\u001b[0m\u001b[0;34m)\u001b[0m\u001b[0;34m\u001b[0m\u001b[0;34m\u001b[0m\u001b[0m\n",
      "\u001b[0;31mKeyboardInterrupt\u001b[0m: "
     ]
    }
   ],
   "source": [
    "X_train_sele, Y_train_sele = torch.tensor(X_train), torch.tensor(Y_train.reshape(len(Y_train),1))\n",
    "# Only search the space after prescreening\n",
    "sele_id_test = list(np.where(pred_test_labels == 0)[0])\n",
    "X_test_sele, Y_test_sele = torch.tensor(X_test[sele_id_test, :]), torch.tensor(Y_test[sele_id_test].reshape(len(sele_id_test),1))\n",
    "search_name_sele, name_sele_temp = name[sele_id_test, :], name_sele\n",
    "\n",
    "## Run BO experiment with robust regression or directly gp\n",
    "l, search_iter = 0, 50\n",
    "batch_size = 1\n",
    "gp_method='gp_regression'\n",
    "failure_count,max_count = 0, 0\n",
    "while l < search_iter:\n",
    "    print(\"Iter: \", l, \"Current Max: \", Y_train_sele.max().detach().numpy(), \"Test max: \", Y_test_sele.max().detach().numpy())\n",
    "    X_next, acq_value, next_exp_id = odbo.bo_design(X=X_train_sele, Y=Y_train_sele, X_pending=X_test_sele, gp_method=gp_method, batch_size=batch_size)\n",
    "    print(acq_value)\n",
    "    ids_keep = list(np.delete(range(X_test_sele.shape[0]), next_exp_id))\n",
    "    X_train_sele, Y_train_sele = torch.cat([X_train_sele, X_test_sele[next_exp_id, :]]), torch.cat([Y_train_sele, Y_test_sele[next_exp_id]])\n",
    "    X_test_sele, Y_test_sele = X_test_sele[ids_keep, :], Y_test_sele[ids_keep]\n",
    "    name_sele_temp = np.concatenate((name_sele_temp, search_name_sele[next_exp_id]))\n",
    "    search_name_sele = search_name_sele[ids_keep]\n",
    "    print(\"Newly added value: \", Y_train_sele[-batch_size:].detach().numpy(), name_sele_temp[-1])\n",
    "    feature_model1 = odbo.featurization.MassiveFeatureTransform(raw_vars=X_train_sele, Y=Y_train_sele.detach().numpy(), method = 'Max')\n",
    "    if Y_train_sele[-batch_size:].detach().numpy().max() <= Y_train_sele[:-batch_size].max():\n",
    "        failure_count = failure_count + 1\n",
    "    else:\n",
    "        failure_count = 0\n",
    "    if failure_count >= 3 and max_count < 3:\n",
    "        max_count = max_count + 1\n",
    "        feature_model1 = odbo.featurization.MassiveFeatureTransform(raw_vars=X_train_sele, Y=Y_train_sele.detach().numpy(), method = 'Avg')\n",
    "    else:\n",
    "        max_count = 0\n",
    "    X_train_sele = torch.tensor(feature_model1.transform(X_train_sele))\n",
    "    X_test_sele= torch.tensor(feature_model1.transform(X_test_sele))\n",
    "    l = l + 1\n",
    "#np.save('results/GB1_2016/GB1_2016_ODBO_BO_GP_batch1_{}.npy'.format(random_seed), Y_train_sele)"
   ]
  },
  {
   "cell_type": "markdown",
   "metadata": {},
   "source": [
    "## TurBO for next best experiment w/ GP"
   ]
  },
  {
   "cell_type": "code",
   "execution_count": 11,
   "metadata": {
    "scrolled": false
   },
   "outputs": [
    {
     "name": "stdout",
     "output_type": "stream",
     "text": [
      "Iter:  0 Current Max:  1.320616068 TR length:  [3.2] Test max:  8.761965656\n",
      "Newly added value:  [[0.31354108]] ['Q' 'V' 'G' 'A']\n",
      "Iter:  1 Current Max:  1.320616068 TR length:  [3.2] Test max:  8.761965656\n",
      "Newly added value:  [[0.00384758]] ['Q' 'D' 'A' 'V']\n",
      "Iter:  2 Current Max:  1.320616068 TR length:  [3.2] Test max:  8.761965656\n",
      "Newly added value:  [[0.01078996]] ['Q' 'V' 'A' 'V']\n",
      "Iter:  3 Current Max:  1.320616068 TR length:  [3.2] Test max:  8.761965656\n",
      "Newly added value:  [[0.66989285]] ['Q' 'D' 'A' 'A']\n",
      "Iter:  4 Current Max:  1.320616068 TR length:  [3.2] Test max:  8.761965656\n",
      "Newly added value:  [[4.50273083]] ['V' 'V' 'A' 'A']\n",
      "Iter:  5 Current Max:  4.502730826 TR length:  [3.2] Test max:  8.761965656\n",
      "Newly added value:  [[4.15798313]] ['V' 'D' 'A' 'A']\n",
      "Iter:  6 Current Max:  4.502730826 TR length:  [3.2] Test max:  8.761965656\n",
      "Newly added value:  [[1.76143518]] ['V' 'V' 'G' 'A']\n",
      "Iter:  7 Current Max:  4.502730826 TR length:  [3.2] Test max:  8.761965656\n",
      "Newly added value:  [[0.35189879]] ['V' 'V' 'A' 'V']\n",
      "Iter:  8 Current Max:  4.502730826 TR length:  [3.2] Test max:  8.761965656\n",
      "Newly added value:  [[1.]] ['V' 'D' 'G' 'V']\n",
      "Iter:  9 Current Max:  4.502730826 TR length:  [3.2] Test max:  8.761965656\n",
      "Newly added value:  [[4.03463618]] ['F' 'V' 'A' 'A']\n",
      "Iter:  10 Current Max:  4.502730826 TR length:  [3.2] Test max:  8.761965656\n",
      "Newly added value:  [[0.03025]] ['Q' 'K' 'A' 'C']\n",
      "Iter:  11 Current Max:  4.502730826 TR length:  [3.2] Test max:  8.761965656\n",
      "Newly added value:  [[0.0347875]] ['V' 'C' 'L' 'M']\n",
      "Iter:  12 Current Max:  4.502730826 TR length:  [3.2] Test max:  8.761965656\n",
      "Newly added value:  [[0.02791589]] ['Q' 'C' 'M' 'V']\n",
      "Iter:  13 Current Max:  4.502730826 TR length:  [3.2] Test max:  8.761965656\n",
      "Newly added value:  [[0.38371667]] ['F' 'T' 'A' 'C']\n",
      "Iter:  14 Current Max:  4.502730826 TR length:  [3.2] Test max:  8.761965656\n",
      "Newly added value:  [[3.08116581]] ['V' 'H' 'G' 'V']\n",
      "Iter:  15 Current Max:  4.502730826 TR length:  [1.6] Test max:  8.761965656\n",
      "Newly added value:  [[2.78887492]] ['V' 'H' 'G' 'A']\n",
      "Iter:  16 Current Max:  4.502730826 TR length:  [1.6] Test max:  8.761965656\n",
      "Newly added value:  [[2.47538256]] ['F' 'D' 'A' 'A']\n",
      "Iter:  17 Current Max:  4.502730826 TR length:  [1.6] Test max:  8.761965656\n",
      "Newly added value:  [[5.11062352]] ['V' 'H' 'A' 'A']\n",
      "Iter:  18 Current Max:  5.110623519 TR length:  [1.6] Test max:  8.761965656\n",
      "Newly added value:  [[5.66554539]] ['F' 'H' 'A' 'A']\n",
      "Iter:  19 Current Max:  5.665545389 TR length:  [1.6] Test max:  8.761965656\n",
      "Newly added value:  [[0.28512025]] ['F' 'H' 'A' 'V']\n",
      "Iter:  20 Current Max:  5.665545389 TR length:  [1.6] Test max:  8.761965656\n",
      "Newly added value:  [[0.03513889]] ['F' 'D' 'M' 'V']\n",
      "Iter:  21 Current Max:  5.665545389 TR length:  [1.6] Test max:  8.761965656\n",
      "Newly added value:  [[0.03381548]] ['V' 'V' 'L' 'V']\n",
      "Iter:  22 Current Max:  5.665545389 TR length:  [1.6] Test max:  8.761965656\n",
      "Newly added value:  [[1.22991047]] ['Q' 'H' 'A' 'A']\n",
      "Iter:  23 Current Max:  5.665545389 TR length:  [1.6] Test max:  8.761965656\n",
      "Newly added value:  [[1.82833639]] ['F' 'H' 'A' 'C']\n",
      "Iter:  24 Current Max:  5.665545389 TR length:  [1.6] Test max:  8.761965656\n",
      "Newly added value:  [[1.79171333]] ['V' 'I' 'G' 'V']\n",
      "Iter:  25 Current Max:  5.665545389 TR length:  [1.6] Test max:  8.761965656\n",
      "Newly added value:  [[3.15825912]] ['V' 'H' 'G' 'C']\n",
      "Iter:  26 Current Max:  5.665545389 TR length:  [1.6] Test max:  8.761965656\n",
      "Newly added value:  [[4.14772079]] ['F' 'H' 'G' 'A']\n",
      "Iter:  27 Current Max:  5.665545389 TR length:  [1.6] Test max:  8.761965656\n",
      "Newly added value:  [[0.67652696]] ['V' 'M' 'A' 'M']\n",
      "Iter:  28 Current Max:  5.665545389 TR length:  [1.6] Test max:  8.761965656\n",
      "Newly added value:  [[2.37353699]] ['V' 'R' 'G' 'M']\n",
      "Iter:  29 Current Max:  5.665545389 TR length:  [0.8] Test max:  8.761965656\n",
      "Newly added value:  [[1.41393591]] ['V' 'D' 'G' 'C']\n",
      "Iter:  30 Current Max:  5.665545389 TR length:  [0.8] Test max:  8.761965656\n",
      "Iter 10/500: 1.4311224791416515\n",
      "Iter 20/500: 1.2773091334143203\n",
      "Iter 30/500: 1.0278983881836414\n",
      "Iter 40/500: 0.8195283413990738\n",
      "Iter 50/500: 0.7296417350595634\n",
      "Iter 60/500: 0.6628629935790095\n",
      "Iter 70/500: 0.6317401008054923\n",
      "Iter 80/500: 0.5793878101587525\n",
      "Iter 90/500: 0.19557397134976895\n",
      "The scipy optimizer and minimum inferred noises cannot make the kernel PSD, switch to torch optimizer\n",
      "Newly added value:  [[1.3077274]] ['V' 'V' 'G' 'M']\n",
      "Iter:  31 Current Max:  5.665545389 TR length:  [0.8] Test max:  8.761965656\n",
      "Newly added value:  [[4.24854222]] ['F' 'R' 'A' 'A']\n",
      "Iter:  32 Current Max:  5.665545389 TR length:  [0.8] Test max:  8.761965656\n",
      "Iter 10/500: 1.421368842963371\n",
      "Iter 20/500: 1.2641419421305662\n",
      "Iter 30/500: 1.001369122839552\n",
      "Iter 40/500: 0.7218717256703503\n",
      "Iter 50/500: 0.638902451286625\n",
      "The scipy optimizer and minimum inferred noises cannot make the kernel PSD, switch to torch optimizer\n",
      "Newly added value:  [[4.682612]] ['V' 'I' 'A' 'A']\n",
      "Iter:  33 Current Max:  5.665545389 TR length:  [0.8] Test max:  8.761965656\n",
      "Newly added value:  [[1.37294933]] ['V' 'D' 'G' 'A']\n",
      "Iter:  34 Current Max:  5.665545389 TR length:  [0.8] Test max:  8.761965656\n",
      "Newly added value:  [[1.43686112]] ['F' 'N' 'G' 'C']\n",
      "Iter:  35 Current Max:  5.665545389 TR length:  [0.8] Test max:  8.761965656\n",
      "Newly added value:  [[5.33546016]] ['V' 'R' 'A' 'A']\n",
      "Iter:  36 Current Max:  5.665545389 TR length:  [0.8] Test max:  8.761965656\n",
      "Newly added value:  [[1.39595239]] ['F' 'I' 'A' 'C']\n",
      "Iter:  37 Current Max:  5.665545389 TR length:  [0.8] Test max:  8.761965656\n",
      "Newly added value:  [[0.08516714]] ['F' 'R' 'A' 'V']\n",
      "Iter:  38 Current Max:  5.665545389 TR length:  [0.8] Test max:  8.761965656\n",
      "Newly added value:  [[3.26153887]] ['F' 'N' 'G' 'A']\n",
      "Iter:  39 Current Max:  5.665545389 TR length:  [0.4] Test max:  8.761965656\n",
      "Newly added value:  [[5.39974965]] ['V' 'N' 'A' 'A']\n",
      "Iter:  40 Current Max:  5.665545389 TR length:  [0.4] Test max:  8.761965656\n",
      "Newly added value:  [[3.92220594]] ['F' 'N' 'A' 'A']\n",
      "Iter:  41 Current Max:  5.665545389 TR length:  [0.4] Test max:  8.761965656\n",
      "Newly added value:  [[4.60121367]] ['F' 'I' 'A' 'A']\n",
      "Iter:  42 Current Max:  5.665545389 TR length:  [0.4] Test max:  8.761965656\n",
      "Newly added value:  [[0.07379167]] ['F' 'Q' 'M' 'V']\n",
      "Iter:  43 Current Max:  5.665545389 TR length:  [0.4] Test max:  8.761965656\n",
      "Newly added value:  [[0.0304537]] ['F' 'Q' 'L' 'M']\n",
      "Iter:  44 Current Max:  5.665545389 TR length:  [0.4] Test max:  8.761965656\n",
      "Newly added value:  [[0.17319376]] ['V' 'V' 'M' 'C']\n",
      "Iter:  45 Current Max:  5.665545389 TR length:  [0.4] Test max:  8.761965656\n",
      "Newly added value:  [[3.40713939]] ['F' 'W' 'L' 'C']\n",
      "Iter:  46 Current Max:  5.665545389 TR length:  [0.4] Test max:  8.761965656\n",
      "Newly added value:  [[6.12380479]] ['V' 'W' 'A' 'A']\n",
      "Iter:  47 Current Max:  6.123804795 TR length:  [0.4] Test max:  8.761965656\n",
      "Newly added value:  [[8.76196566]] ['F' 'W' 'A' 'A']\n",
      "Iter:  48 Current Max:  8.761965656 TR length:  [0.4] Test max:  8.045152004\n",
      "Newly added value:  [[4.95227286]] ['F' 'W' 'G' 'A']\n",
      "Iter:  49 Current Max:  8.761965656 TR length:  [0.4] Test max:  8.045152004\n",
      "Newly added value:  [[0.04013454]] ['Q' 'G' 'A' 'A']\n"
     ]
    }
   ],
   "source": [
    "X_train_sele, Y_train_sele = torch.tensor(X_train), torch.tensor(Y_train.reshape(len(Y_train),1))\n",
    "sele_id_test = list(np.where(pred_test_labels == 0)[0])\n",
    "search_name_sele, name_sele_temp = name[sele_id_test, :], name_sele\n",
    "X_test_sele, Y_test_sele = torch.tensor(X_test[sele_id_test, :]), torch.tensor(Y_test[sele_id_test].reshape(len(sele_id_test),1))\n",
    "\n",
    "# Run BO experiment with robust regression or directly GP\n",
    "l, search_iter = 0, 50\n",
    "gp_method='gp_regression'\n",
    "tr_length = [3.2]\n",
    "batch_size = 1\n",
    "failure_count,max_count = 0,0\n",
    "state = odbo.turbo.TurboState(dim=X_train_sele.shape[1], batch_size=batch_size, length=tr_length, n_trust_regions=len(tr_length), failure_tolerance = 10)\n",
    "state.best_value = Y_train_sele.max()\n",
    "while l < search_iter:\n",
    "    print(\"Iter: \", l, \"Current Max: \", Y_train_sele.max().detach().numpy(), 'TR length: ', state.length, \"Test max: \", Y_test_sele.max().detach().numpy())\n",
    "    X_next, acq_value, raw_next_exp_id = odbo.turbo_design(state=state, X=X_train_sele, Y=Y_train_sele, X_pending=X_test_sele, n_trust_regions=len(tr_length), batch_size=batch_size, gp_method=gp_method)\n",
    "    Y_next_m = torch.zeros((len(tr_length), batch_size, 1), device=Y_train_sele.device, dtype=Y_train_sele.dtype)\n",
    "    next_exp_id = []\n",
    "    for i in range(batch_size):\n",
    "        next_exp_id_m = raw_next_exp_id[:, i]\n",
    "        Y_next_m[:, i, 0], idtoadd = Y_test_sele[next_exp_id_m].reshape(len(tr_length)), next_exp_id_m[np.argmax(Y_test_sele[next_exp_id_m])]\n",
    "        next_exp_id.append(idtoadd)\n",
    "    X_train_sele, Y_train_sele = torch.cat([X_train_sele, X_test_sele[next_exp_id, :]]), torch.cat([Y_train_sele, Y_test_sele[next_exp_id]])\n",
    "    ids_keep = list(np.delete(range(X_test_sele.shape[0]), next_exp_id))\n",
    "    X_test_sele, Y_test_sele = X_test_sele[ids_keep, :], Y_test_sele[ids_keep]\n",
    "    name_sele_temp = np.concatenate((name_sele_temp, search_name_sele[next_exp_id]))\n",
    "    search_name_sele = search_name_sele[ids_keep]\n",
    "    print(\"Newly added value: \", Y_train_sele[-batch_size:].detach().numpy(), name_sele_temp[-1])\n",
    "    state = odbo.turbo.update_state(state=state, Y_next=Y_next_m)\n",
    "    feature_model1 = odbo.featurization.MassiveFeatureTransform(raw_vars=X_train_sele, Y=Y_train_sele.detach().numpy(), method = 'Max')\n",
    "    if Y_train_sele[-batch_size:].detach().numpy().max() <= Y_train_sele[:-batch_size].max():\n",
    "        failure_count = failure_count + 1\n",
    "    else:\n",
    "        failure_count = 0\n",
    "    if failure_count >= 3 and max_count < 3:\n",
    "        max_count = max_count + 1\n",
    "        feature_model1 = odbo.featurization.MassiveFeatureTransform(raw_vars=X_train_sele, Y=Y_train_sele.detach().numpy(), method = 'Avg')\n",
    "    else:\n",
    "        max_count = 0\n",
    "    X_train_sele = torch.tensor(feature_model1.transform(X_train_sele))\n",
    "    X_test_sele= torch.tensor(feature_model1.transform(X_test_sele))\n",
    "    l = l + 1\n",
    "#np.save('results/GB1_2016/GB1_2016_ODBO_TuRBO_GP_batch1_{}.npy'.format(random_seed), Y_train_sele)\n"
   ]
  },
  {
   "cell_type": "code",
   "execution_count": null,
   "metadata": {},
   "outputs": [],
   "source": []
  }
 ],
 "metadata": {
  "kernelspec": {
   "display_name": "Python 3",
   "language": "python",
   "name": "python3"
  },
  "language_info": {
   "codemirror_mode": {
    "name": "ipython",
    "version": 3
   },
   "file_extension": ".py",
   "mimetype": "text/x-python",
   "name": "python",
   "nbconvert_exporter": "python",
   "pygments_lexer": "ipython3",
   "version": "3.7.4"
  }
 },
 "nbformat": 4,
 "nbformat_minor": 2
}
