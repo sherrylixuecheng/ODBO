{
 "cells": [
  {
   "cell_type": "code",
   "execution_count": 1,
   "metadata": {},
   "outputs": [],
   "source": [
    "import numpy as np\n",
    "import torch\n",
    "import pandas as pd\n",
    "import odbo\n",
    "import os\n",
    "import gc"
   ]
  },
  {
   "cell_type": "code",
   "execution_count": 31,
   "metadata": {
    "scrolled": true
   },
   "outputs": [
    {
     "name": "stdout",
     "output_type": "stream",
     "text": [
      "Selected initial experiments no. is  688\n",
      "Select max Y:  20.53972883152061 True max Y: 511.15063402824103\n"
     ]
    }
   ],
   "source": [
    "random_seed = 0\n",
    "np.random.seed(random_seed)\n",
    "data_test = pd.read_csv('../datasets/BRCA1_2013_98299.csv', sep=',')\n",
    "name_pre, Y_test = np.array(data_test['AACombo']), 2**np.array(data_test['Log2Eratio'])\n",
    "\n",
    "del data_test\n",
    "if os.path.isfile('sele_indices_BRCA1_2013.npy') == True:\n",
    "    sele_indices = np.load('sele_indices_BRCA1_2013.npy')\n",
    "    shuffle_order = np.load('shuffle_order_BRCA1_2013.npy')\n",
    "    name_pre[1:], Y_test[1:] = name_pre[shuffle_order[1:]], Y_test[shuffle_order[1:]]\n",
    "    name = odbo.utils.code_to_array(name_pre)    \n",
    "else:\n",
    "    shuffle_order = np.arange(len(Y_test))\n",
    "    np.random.shuffle(shuffle_order[1:])\n",
    "    np.save('shuffle_order_BRCA1_2013.npy', shuffle_order)\n",
    "    name_pre[1:], Y_test[1:] = name_pre[shuffle_order[1:]], Y_test[shuffle_order[1:]]\n",
    "    name = odbo.utils.code_to_array(name_pre)\n",
    "    sele_indices = odbo.initialization.initial_design(name, least_occurance=np.ones(102),allow_abundance=True,update_method='correlate',verbose=True)\n",
    "    np.save('sele_indices_BRCA1_2013.npy', sele_indices)\n",
    "name_sele, Y_train = name[sele_indices, :], Y_test[sele_indices]\n",
    "ids_keep = np.delete(range(len(Y_test)), sele_indices)\n",
    "name, Y_test = name[ids_keep, :], Y_test[ids_keep]\n",
    "print('Selected initial experiments no. is ', len(Y_train))\n",
    "print('Select max Y: ', Y_train.max(), 'True max Y:', Y_test.max())\n"
   ]
  },
  {
   "cell_type": "code",
   "execution_count": 33,
   "metadata": {},
   "outputs": [],
   "source": [
    "feature_model = odbo.featurization.FewFeatureTransform(raw_vars=name_sele, Y=Y_train, method='Avg', mode='independent')\n",
    "X_test = feature_model.transform(name)\n",
    "X_train = feature_model.transform(name_sele)"
   ]
  },
  {
   "cell_type": "markdown",
   "metadata": {},
   "source": [
    "## Random selection"
   ]
  },
  {
   "cell_type": "code",
   "execution_count": 4,
   "metadata": {},
   "outputs": [
    {
     "name": "stdout",
     "output_type": "stream",
     "text": [
      "Max Y 9.401069041358214\n"
     ]
    }
   ],
   "source": [
    "sele_Y = list(np.random.choice(Y_test, 50, replace = False))\n",
    "Y_train_sele = list(Y_train.copy())\n",
    "Y_train_sele.extend(sele_Y)\n",
    "print('Max Y', max(sele_Y))\n",
    "np.save('results/BRCA1_2013/BRCA1_2013_random_{}.npy'.format(random_seed), Y_train_sele)"
   ]
  },
  {
   "cell_type": "code",
   "execution_count": 34,
   "metadata": {
    "scrolled": true
   },
   "outputs": [
    {
     "name": "stdout",
     "output_type": "stream",
     "text": [
      "3.0466427453460327\n",
      "[21:02:52] WARNING: /Users/travis/build/dmlc/xgboost/src/learner.cc:573: \n",
      "Parameters: { \"silent\" } might not be used.\n",
      "\n",
      "  This may not be accurate due to some parameters are only used in language bindings but\n",
      "  passed down to XGBoost core.  Or some parameters are not used but slip through this\n",
      "  verification. Please open an issue if you find above cases.\n",
      "\n",
      "\n",
      "Correct ratio: 94.148%\n",
      "FN ratio: 1.341%\n",
      "FP ratio: 4.511%\n"
     ]
    },
    {
     "data": {
      "image/png": "[encoded data removed]",
      "text/plain": [
       "<Figure size 432x288 with 2 Axes>"
      ]
     },
     "metadata": {},
     "output_type": "display_data"
    }
   ],
   "source": [
    "# Find the adaptive search space model\n",
    "threshold = Y_train[np.argsort(Y_train)[int(0.98*len(Y_train))]]\n",
    "print(threshold)\n",
    "labels_train = odbo.prescreening.sp_label(X_train, Y_train, thres=threshold)\n",
    "pre_model = odbo.prescreening.XGBOD(eval_metric = 'error', random_state = random_seed)\n",
    "pre_model.fit(X_train, labels_train)\n",
    "pred_labels = pre_model.predict(X_train)\n",
    "labels_test = odbo.prescreening.sp_label(X_test, Y_test, thres=threshold)\n",
    "pred_test_labels = pre_model.predict(X_test)\n",
    "# Plot the confusion matrix to check the accuracy of search space prescreening\n",
    "out_outlier, in_outlier, out_inlier, in_inlier = odbo.plot.plot_cm(labels_test, pred_test_labels, Y_test)\n",
    "print(\"Correct ratio: {0:.3%}\".format((len(out_outlier)+len(in_inlier))/len(labels_test)))\n",
    "print(\"FN ratio: {0:.3%}\".format(len(out_inlier)/len(labels_test)))\n",
    "print(\"FP ratio: {0:.3%}\".format(len(in_outlier)/len(labels_test))) "
   ]
  },
  {
   "cell_type": "markdown",
   "metadata": {},
   "source": [
    "## ODBO, BO"
   ]
  },
  {
   "cell_type": "raw",
   "metadata": {},
   "source": [
    "X_train_sele, Y_train_sele = torch.tensor(X_train), torch.tensor(Y_train.reshape(len(Y_train),1))\n",
    "# Only search the space after prescreening\n",
    "sele_id_test = list(np.where(pred_test_labels == 0)[0])\n",
    "X_test_sele, Y_test_sele = torch.tensor(X_test[sele_id_test, :]), torch.tensor(Y_test[sele_id_test].reshape(len(sele_id_test),1))\n",
    "search_name_sele, name_sele_temp = name[sele_id_test, :], name_sele\n",
    "\n",
    "## Run BO experiment with robust regression or directly gp\n",
    "l, search_iter = 0, 50\n",
    "batch_size = 1\n",
    "gp_method='gp_regression'\n",
    "failure_count,max_count = 0, 0\n",
    "while l < search_iter:\n",
    "    print(\"Iter: \", l, \"Current Max: \", Y_train_sele.max().detach().numpy(), \"Test max: \", Y_test_sele.max().detach().numpy())\n",
    "    X_next, acq_value, next_exp_id = odbo.bo_design(X=X_train_sele, Y=Y_train_sele, X_pending=X_test_sele, gp_method=gp_method, batch_size=batch_size)\n",
    "    print(acq_value)\n",
    "    ids_keep = list(np.delete(range(X_test_sele.shape[0]), next_exp_id))\n",
    "    X_train_sele, Y_train_sele = torch.cat([X_train_sele, X_test_sele[next_exp_id, :]]), torch.cat([Y_train_sele, Y_test_sele[next_exp_id]])\n",
    "    X_test_sele, Y_test_sele = X_test_sele[ids_keep, :], Y_test_sele[ids_keep]\n",
    "    name_sele_temp = np.concatenate((name_sele_temp, search_name_sele[next_exp_id]))\n",
    "    search_name_sele = search_name_sele[ids_keep]\n",
    "    print(\"Newly added value: \", Y_train_sele[-batch_size:].detach().numpy(), name_sele_temp[-1])\n",
    "    feature_model1 = odbo.featurization.MassiveFeatureTransform(raw_vars=X_train_sele, Y=Y_train_sele.detach().numpy(), method = 'Max')\n",
    "    if Y_train_sele[-batch_size:].detach().numpy().max() <= Y_train_sele[:-batch_size].max():\n",
    "        failure_count = failure_count + 1\n",
    "    else:\n",
    "        failure_count = 0\n",
    "    if failure_count >= 3 and max_count < 3:\n",
    "        max_count = max_count + 1\n",
    "        feature_model1 = odbo.featurization.MassiveFeatureTransform(raw_vars=X_train_sele, Y=Y_train_sele.detach().numpy(), method = 'Avg')\n",
    "    else:\n",
    "        max_count = 0\n",
    "    X_train_sele = torch.tensor(feature_model1.transform(X_train_sele))\n",
    "    X_test_sele= torch.tensor(feature_model1.transform(X_test_sele))\n",
    "    l = l + 1\n",
    "#np.save('results/BRCA1_2013/BRCA1_2013_ODBO_BO_GP_batch1_{}.npy'.format(random_seed), Y_train_sele)"
   ]
  },
  {
   "cell_type": "markdown",
   "metadata": {},
   "source": [
    "## ODBO, TuRBO"
   ]
  },
  {
   "cell_type": "code",
   "execution_count": null,
   "metadata": {
    "scrolled": false
   },
   "outputs": [
    {
     "name": "stdout",
     "output_type": "stream",
     "text": [
      "Prscreening size: 1733\n",
      "Iter:  0 Current Max:  20.53972883152061 TR length:  [3.2] Test max:  511.15063402824103\n",
      "Newly added value:  [[0.64280814]] ['L' 'E' 'K' 'F' 'K' 'L' 'L' 'A' 'E' 'K' 'V' 'E' 'E' 'N' 'V' 'A' 'K' 'N'\n",
      " 'A' 'R' 'A' 'E' 'I' 'D' 'Y' 'S' 'D' 'A' 'P' 'D' 'E' 'F' 'R' 'D' 'P' 'L'\n",
      " 'M' 'D' 'T' 'L' 'M' 'T' 'D' 'P' 'V' 'R' 'L' 'P' 'S' 'G' 'T' 'V' 'M' 'D'\n",
      " 'R' 'S' 'I' 'I' 'L' 'R' 'H' 'L' 'L' 'N' 'S' 'P' 'T' 'D' 'P' 'F' 'N' 'R'\n",
      " 'Q' 'M' 'L' 'T' 'E' 'S' 'M' 'L' 'E' 'P' 'V' 'P' 'E' 'L' 'K' 'E' 'Q' 'I'\n",
      " 'Q' 'A' 'W' 'M' 'R' 'E' 'K' 'Q' 'S' 'S' 'D' 'H']\n",
      "Iter:  1 Current Max:  20.53972883152061 TR length:  [3.2] Test max:  511.15063402824103\n",
      "Newly added value:  [[0.56245712]] ['L' 'E' 'K' 'F' 'K' 'L' 'L' 'A' 'E' 'K' 'V' 'E' 'E' 'I' 'V' 'A' 'K' 'N'\n",
      " 'A' 'R' 'A' 'E' 'I' 'D' 'Y' 'S' 'D' 'A' 'P' 'D' 'E' 'F' 'R' 'D' 'P' 'L'\n",
      " 'M' 'D' 'T' 'L' 'M' 'T' 'D' 'P' 'V' 'R' 'L' 'P' 'S' 'G' 'T' 'V' 'M' 'D'\n",
      " 'R' 'S' 'I' 'I' 'L' 'R' 'H' 'L' 'L' 'N' 'S' 'P' 'T' 'D' 'P' 'F' 'N' 'R'\n",
      " 'Q' 'M' 'L' 'T' 'E' 'S' 'M' 'L' 'E' 'P' 'V' 'P' 'E' 'L' 'K' 'E' 'Q' 'I'\n",
      " 'Q' 'A' 'W' 'M' 'R' 'D' 'K' 'Q' 'S' 'S' 'D' 'H']\n",
      "Iter:  2 Current Max:  20.53972883152061 TR length:  [3.2] Test max:  511.15063402824103\n",
      "Newly added value:  [[16.25992117]] ['I' 'E' 'K' 'F' 'K' 'L' 'L' 'A' 'E' 'K' 'V' 'E' 'E' 'I' 'V' 'A' 'K' 'N'\n",
      " 'A' 'R' 'A' 'E' 'I' 'D' 'Y' 'S' 'D' 'A' 'P' 'D' 'E' 'F' 'R' 'D' 'P' 'L'\n",
      " 'M' 'D' 'T' 'L' 'M' 'T' 'D' 'P' 'V' 'R' 'L' 'P' 'S' 'G' 'T' 'V' 'L' 'D'\n",
      " 'R' 'S' 'I' 'I' 'L' 'R' 'H' 'L' 'L' 'N' 'S' 'P' 'T' 'D' 'P' 'F' 'N' 'R'\n",
      " 'Q' 'M' 'L' 'T' 'E' 'S' 'M' 'L' 'E' 'P' 'V' 'P' 'E' 'L' 'K' 'E' 'Q' 'I'\n",
      " 'Q' 'A' 'W' 'M' 'I' 'E' 'K' 'Q' 'S' 'S' 'D' 'H']\n",
      "Iter:  3 Current Max:  20.53972883152061 TR length:  [3.2] Test max:  511.15063402824103\n",
      "Newly added value:  [[1.09569569]] ['L' 'E' 'K' 'F' 'K' 'L' 'L' 'A' 'E' 'K' 'V' 'E' 'E' 'I' 'V' 'A' 'K' 'N'\n",
      " 'V' 'R' 'A' 'E' 'I' 'D' 'Y' 'S' 'D' 'A' 'P' 'D' 'E' 'F' 'R' 'D' 'P' 'L'\n",
      " 'M' 'D' 'T' 'L' 'M' 'T' 'D' 'P' 'V' 'R' 'L' 'P' 'S' 'G' 'T' 'V' 'M' 'D'\n",
      " 'R' 'S' 'I' 'I' 'L' 'R' 'H' 'L' 'L' 'N' 'S' 'P' 'T' 'D' 'P' 'F' 'N' 'R'\n",
      " 'Q' 'V' 'L' 'T' 'E' 'S' 'M' 'L' 'K' 'P' 'V' 'P' 'E' 'L' 'K' 'E' 'Q' 'I'\n",
      " 'Q' 'A' 'W' 'M' 'R' 'E' 'K' 'Q' 'S' 'S' 'D' 'H']\n",
      "Iter:  4 Current Max:  20.53972883152061 TR length:  [3.2] Test max:  511.15063402824103\n",
      "Newly added value:  [[1.96413598]] ['L' 'E' 'K' 'F' 'K' 'L' 'L' 'A' 'E' 'K' 'V' 'E' 'E' 'I' 'V' 'A' 'K' 'N'\n",
      " 'A' 'R' 'A' 'E' 'I' 'E' 'Y' 'S' 'N' 'A' 'P' 'D' 'E' 'F' 'R' 'D' 'P' 'L'\n",
      " 'M' 'D' 'T' 'L' 'M' 'T' 'D' 'P' 'V' 'R' 'L' 'P' 'S' 'G' 'T' 'V' 'M' 'D'\n",
      " 'R' 'S' 'I' 'I' 'L' 'R' 'H' 'L' 'L' 'N' 'S' 'P' 'T' 'D' 'P' 'F' 'N' 'R'\n",
      " 'Q' 'M' 'L' 'T' 'E' 'S' 'M' 'L' 'E' 'P' 'V' 'P' 'E' 'L' 'K' 'E' 'Q' 'I'\n",
      " 'Q' 'A' 'W' 'M' 'R' 'E' 'K' 'Q' 'S' 'S' 'D' 'H']\n",
      "Iter:  5 Current Max:  20.53972883152061 TR length:  [3.2] Test max:  511.15063402824103\n",
      "Iter 10/500: 1.328380858541798\n",
      "Iter 20/500: 1.1270954899633951\n",
      "Iter 30/500: 0.7333783723960052\n",
      "The scipy optimizer and minimum inferred noises cannot make the kernel PSD, switch to torch optimizer\n",
      "Newly added value:  [[0.6987045]] ['L' 'E' 'K' 'F' 'K' 'L' 'L' 'A' 'E' 'K' 'V' 'E' 'E' 'I' 'V' 'A' 'K' 'N'\n",
      " 'A' 'R' 'A' 'E' 'I' 'D' 'Y' 'S' 'D' 'A' 'P' 'D' 'E' 'F' 'R' 'D' 'P' 'L'\n",
      " 'M' 'D' 'T' 'L' 'M' 'I' 'D' 'P' 'V' 'R' 'L' 'P' 'S' 'G' 'T' 'V' 'M' 'D'\n",
      " 'R' 'S' 'I' 'I' 'L' 'R' 'H' 'L' 'L' 'N' 'S' 'P' 'T' 'D' 'P' 'F' 'N' 'R'\n",
      " 'Q' 'M' 'L' 'A' 'E' 'S' 'M' 'L' 'E' 'P' 'V' 'P' 'E' 'L' 'K' 'E' 'Q' 'I'\n",
      " 'Q' 'A' 'W' 'M' 'R' 'E' 'K' 'Q' 'S' 'S' 'D' 'H']\n",
      "Iter:  6 Current Max:  20.53972883152061 TR length:  [3.2] Test max:  511.15063402824103\n"
     ]
    }
   ],
   "source": [
    "X_train_sele, Y_train_sele = torch.tensor(X_train), torch.tensor(Y_train.reshape(len(Y_train),1))\n",
    "sele_id_test = list(np.where(pred_test_labels == 0)[0])\n",
    "search_name_sele, name_sele_temp = name[sele_id_test, :], name_sele\n",
    "X_test_sele, Y_test_sele = torch.tensor(X_test[sele_id_test, :]), torch.tensor(Y_test[sele_id_test].reshape(len(sele_id_test),1))\n",
    "print('Prscreening size:', len(sele_id_test))\n",
    "\n",
    "# Run BO experiment with robust regression or directly GP\n",
    "l, search_iter = 0, 50\n",
    "gp_method='gp_regression'\n",
    "tr_length = [3.2]\n",
    "batch_size = 1\n",
    "failure_count,max_count = 0,0\n",
    "state = odbo.turbo.TurboState(dim=X_train_sele.shape[1], batch_size=batch_size, length=tr_length, n_trust_regions=len(tr_length), failure_tolerance = 10)\n",
    "state.best_value = Y_train_sele.max()\n",
    "while l < search_iter:\n",
    "    print(\"Iter: \", l, \"Current Max: \", Y_train_sele.max().detach().numpy(), 'TR length: ', state.length, \"Test max: \", Y_test_sele.max().detach().numpy())\n",
    "    sele_feat = []\n",
    "    for i in range(X_train_sele.shape[1]):\n",
    "        if (X_train_sele[:,i]-X_train_sele[0,i]).any() !=0:\n",
    "            sele_feat.append(i)\n",
    "#    top_ids = np.argsort(Y_train_sele.numpy().ravel())[-200-l:]\n",
    "    X_sele = X_train_sele[:,sele_feat]\n",
    "    X_next, acq_value, raw_next_exp_id = odbo.turbo_design(state=state, X=X_sele, Y=Y_train_sele, X_pending=X_test_sele[:, sele_feat], n_trust_regions=len(tr_length), batch_size=batch_size, gp_method=gp_method)\n",
    "    Y_next_m = torch.zeros((len(tr_length), batch_size, 1), device=Y_train_sele.device, dtype=Y_train_sele.dtype)\n",
    "    next_exp_id = []\n",
    "    for i in range(batch_size):\n",
    "        next_exp_id_m = raw_next_exp_id[:, i]\n",
    "        Y_next_m[:, i, 0], idtoadd = Y_test_sele[next_exp_id_m].reshape(len(tr_length)), next_exp_id_m[np.argmax(Y_test_sele[next_exp_id_m])]\n",
    "        next_exp_id.append(idtoadd)\n",
    "    X_train_sele, Y_train_sele = torch.cat([X_train_sele, X_test_sele[next_exp_id, :]]), torch.cat([Y_train_sele, Y_test_sele[next_exp_id]])\n",
    "    ids_keep = list(np.delete(range(X_test_sele.shape[0]), next_exp_id))\n",
    "    X_test_sele, Y_test_sele = X_test_sele[ids_keep, :], Y_test_sele[ids_keep]\n",
    "    name_sele_temp = np.concatenate((name_sele_temp, search_name_sele[next_exp_id]))\n",
    "    search_name_sele = search_name_sele[ids_keep]\n",
    "    print(\"Newly added value: \", Y_train_sele[-batch_size:].detach().numpy(), name_sele_temp[-1])\n",
    "    state = odbo.turbo.update_state(state=state, Y_next=Y_next_m)\n",
    "    feature_model1 = odbo.featurization.FewFeatureTransform(raw_vars=name_sele_temp, Y=Y_train_sele.detach().numpy(), method = 'Max', mode='independent')\n",
    "    if Y_train_sele[-batch_size:].detach().numpy().max() <= Y_train_sele[:-batch_size].max():\n",
    "        failure_count = failure_count + 1\n",
    "    else:\n",
    "        failure_count = 0\n",
    "    if failure_count >= 3 and max_count < 3:\n",
    "        max_count = max_count + 1\n",
    "        feature_model1 = odbo.featurization.FewFeatureTransform(raw_vars=name_sele_temp, Y=Y_train_sele.detach().numpy(), method = 'Avg', mode='independent')\n",
    "    else:\n",
    "        max_count = 0\n",
    "    X_test_sele= torch.tensor(feature_model1.transform(search_name_sele))\n",
    "    X_train_sele = torch.tensor(feature_model1.transform(name_sele_temp))\n",
    "\n",
    "    l = l + 1\n",
    "np.save('results/BRCA1_2013/BRCA1_2013_ODBO_TuRBO_GP_batch1_{}.npy'.format(random_seed), Y_train_sele)\n",
    "\n"
   ]
  },
  {
   "cell_type": "code",
   "execution_count": null,
   "metadata": {},
   "outputs": [],
   "source": []
  }
 ],
 "metadata": {
  "kernelspec": {
   "display_name": "Python 3",
   "language": "python",
   "name": "python3"
  },
  "language_info": {
   "codemirror_mode": {
    "name": "ipython",
    "version": 3
   },
   "file_extension": ".py",
   "mimetype": "text/x-python",
   "name": "python",
   "nbconvert_exporter": "python",
   "pygments_lexer": "ipython3",
   "version": "3.7.4"
  }
 },
 "nbformat": 4,
 "nbformat_minor": 2
}
