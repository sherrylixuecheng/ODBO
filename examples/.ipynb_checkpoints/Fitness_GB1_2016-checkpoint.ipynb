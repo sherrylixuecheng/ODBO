{
 "cells": [
  {
   "cell_type": "code",
   "execution_count": 11,
   "metadata": {},
   "outputs": [],
   "source": [
    "import numpy as np\n",
    "import pandas as pd\n",
    "import odbo"
   ]
  },
  {
   "cell_type": "code",
   "execution_count": 12,
   "metadata": {
    "scrolled": false
   },
   "outputs": [
    {
     "name": "stderr",
     "output_type": "stream",
     "text": [
      "/usr/local/lib/python3.7/site-packages/pyod/models/base.py:349: UserWarning: y should not be presented in unsupervised learning.\n",
      "  \"y should not be presented in unsupervised learning.\")\n",
      "/usr/local/lib/python3.7/site-packages/xgboost/sklearn.py:1146: UserWarning: The use of label encoder in XGBClassifier is deprecated and will be removed in a future release. To remove this warning, do the following: 1) Pass option use_label_encoder=False when constructing XGBClassifier object; and 2) Encode your labels (y) as integers starting with 0, i.e. 0, 1, 2, ..., [num_class - 1].\n",
      "  warnings.warn(label_encoder_deprecation_msg, UserWarning)\n"
     ]
    },
    {
     "name": "stdout",
     "output_type": "stream",
     "text": [
      "[16:07:51] WARNING: /Users/travis/build/dmlc/xgboost/src/learner.cc:573: \n",
      "Parameters: { \"silent\" } might not be used.\n",
      "\n",
      "  This may not be accurate due to some parameters are only used in language bindings but\n",
      "  passed down to XGBoost core.  Or some parameters are not used but slip through this\n",
      "  verification. Please open an issue if you find above cases.\n",
      "\n",
      "\n"
     ]
    }
   ],
   "source": [
    "threshold = 0.05\n",
    "data_train = pd.read_csv('../datasets/GB1_2016_384.csv', sep=',')\n",
    "\n",
    "#load data\n",
    "name_pre, Y_train = np.array(data_train['AACombo']), np.array(data_train['Fitness'])\n",
    "name = odbo.utils.code_to_array(name_pre)\n",
    "\n",
    "# Using average measurement results as features\n",
    "feature_model = odbo.featurization.AvgMeasurement(raw_vars=name, Y=Y_train)\n",
    "X_train = feature_model.transform(name)\n",
    "\n",
    "# Find the adaptive search space model\n",
    "labels_train = odbo.prescreening.sp_label(X_train, Y_train, thres=threshold)\n",
    "pre_model = odbo.prescreening.XGBOD(eval_metric = 'error')\n",
    "pre_model.fit(X_train, labels_train)\n",
    "pred_labels = pre_model.predict(X_train)"
   ]
  },
  {
   "cell_type": "code",
   "execution_count": 7,
   "metadata": {},
   "outputs": [],
   "source": [
    "# Predict the adaptive search space of the problem\n",
    "data_test = pd.read_csv('../datasets/GB1_2016_149361.csv', sep=',')\n",
    "name_pre, Y_test = np.array(data_test['AACombo']), np.array(data_test['Fitness'])\n",
    "name = odbo.utils.code_to_array(name_pre)\n",
    "X_test = feature_model.transform(name)\n",
    "labels_test = odbo.prescreening.sp_label(X_test, Y_test, thres=0.05)\n",
    "pred_test_labels = pre_model.predict(X_test)\n"
   ]
  },
  {
   "cell_type": "code",
   "execution_count": 10,
   "metadata": {},
   "outputs": [
    {
     "name": "stderr",
     "output_type": "stream",
     "text": [
      "/usr/local/lib/python3.7/site-packages/ipykernel_launcher.py:51: MatplotlibDeprecationWarning: The 'cmap' parameter to Colorbar has no effect because it is overridden by the mappable; it is deprecated since 3.3 and will be removed two minor releases later.\n",
      "/usr/local/lib/python3.7/site-packages/ipykernel_launcher.py:55: UserWarning: Matplotlib is currently using module://ipykernel.pylab.backend_inline, which is a non-GUI backend, so cannot show the figure.\n"
     ]
    },
    {
     "name": "stdout",
     "output_type": "stream",
     "text": [
      "Correct ratio: 92.174%\n",
      "FN ratio: 5.998%\n",
      "FP ratio: 1.828%\n"
     ]
    },
    {
     "data": {
      "image/png": "[encoded data removed]",
      "text/plain": [
       "<Figure size 432x288 with 2 Axes>"
      ]
     },
     "metadata": {},
     "output_type": "display_data"
    }
   ],
   "source": [
    "# Plot the confusion matrix (will be moved as a plot function)\n",
    "from matplotlib import cm\n",
    "import matplotlib.pyplot as plt\n",
    "\n",
    "c1, c2, c3, c4=[],[],[],[]\n",
    "id1, id2, id3, id4 = [], [], [], []\n",
    "for i in range(len(pred_test_labels)):\n",
    "    if pred_test_labels[i]==0 and labels_test[i] ==0:\n",
    "        c1.extend(Y_test[i].ravel())\n",
    "        id1.append(i)\n",
    "    elif pred_test_labels[i]==1 and labels_test[i] ==0:\n",
    "        c2.extend(Y_test[i].ravel())\n",
    "        id2.append(i)\n",
    "    elif pred_test_labels[i]==1 and labels_test[i] ==1:\n",
    "        c3.extend(Y_test[i].ravel())\n",
    "        id3.append(i)\n",
    "    else:\n",
    "        c4.extend(Y_test[i].ravel())\n",
    "        id4.append(i)        \n",
    "ids = []\n",
    "ids.append(id1)\n",
    "ids.append(id2)\n",
    "ids.append(id3)\n",
    "ids.append(id4)\n",
    "\n",
    "#np.save(\"xgbod_pred_ids.npy\", ids)\n",
    "# Plot\n",
    "true =['~0 in true', 'not 0 in true']\n",
    "pred =['~0 in pred', 'not 0 in pred']\n",
    "avg = np.array([[np.mean(c3), np.mean(c2)],[np.mean(c4), np.mean(c1)]])\n",
    "count = np.array([[len(c3), len(c2)],[len(c4), len(c1)]])\n",
    "fig, ax = plt.subplots()\n",
    "im = ax.imshow(avg, cmap=cm.coolwarm)\n",
    "\n",
    "# We want to show all ticks...\n",
    "ax.set_xticks(np.arange(len(true)))\n",
    "ax.set_yticks(np.arange(len(pred)))\n",
    "# ... and label them with the respective list entries\n",
    "ax.set_xticklabels(true)\n",
    "ax.set_yticklabels(pred)\n",
    "# Rotate the tick labels and set their alignment.\n",
    "plt.setp(ax.get_xticklabels(), rotation=45, ha=\"right\",\n",
    "         rotation_mode=\"anchor\")\n",
    "\n",
    "# Loop over data dimensions and create text annotations.\n",
    "for i in range(len(pred)):\n",
    "    for j in range(len(true)):\n",
    "        text = ax.text(j, i, str(round(avg[i,j], 4)) +'\\nRatio {0:.3%}'.format(count[i,j]/149361, 4),\n",
    "                       ha=\"center\", va=\"center\", color=\"k\")\n",
    "\n",
    "cbar = ax.figure.colorbar(im, ax=ax, cmap=\"YlGn\")\n",
    "cbar.ax.set_ylabel('Fitness', rotation=-90, va=\"bottom\")\n",
    "ax.set_title(\"Low fitness detection in GB1 trained on 384 trial pts w/ thresh = %.2f\" %threshold)\n",
    "fig.tight_layout()\n",
    "fig.show()\n",
    "print(\"Correct ratio: {0:.3%}\".format((len(c3)+len(c1))/149361))\n",
    "print(\"FN ratio: {0:.3%}\".format(len(c4)/149361))\n",
    "print(\"FP ratio: {0:.3%}\".format(len(c2)/149361))    \n",
    "    "
   ]
  },
  {
   "cell_type": "code",
   "execution_count": null,
   "metadata": {},
   "outputs": [],
   "source": []
  }
 ],
 "metadata": {
  "kernelspec": {
   "display_name": "Python 3",
   "language": "python",
   "name": "python3"
  }
 },
 "nbformat": 4,
 "nbformat_minor": 2
}
