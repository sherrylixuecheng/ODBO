{
 "cells": [
  {
   "cell_type": "code",
   "execution_count": 4,
   "metadata": {},
   "outputs": [],
   "source": [
    "import numpy as np\n",
    "import torch\n",
    "import pandas as pd\n",
    "import odbo\n",
    "import os\n",
    "import gc"
   ]
  },
  {
   "cell_type": "markdown",
   "metadata": {},
   "source": [
    "## TurBO for next best experiment"
   ]
  },
  {
   "cell_type": "code",
   "execution_count": 5,
   "metadata": {},
   "outputs": [
    {
     "name": "stdout",
     "output_type": "stream",
     "text": [
      "Selected initial experiments no. is  135\n",
      "Select max Y:  2.27 True max Y: 5.022\n"
     ]
    }
   ],
   "source": [
    "random_seed = 0\n",
    "np.random.seed(random_seed)\n",
    "data_test = pd.read_csv('../datasets/GB1_2014_536944.csv', sep=',')\n",
    "name_pre, Y_test = np.array(data_test['AACombo']), np.array(data_test['Fitness'])\n",
    "name = odbo.utils.code_to_array(name_pre)\n",
    "del data_test\n",
    "name_sele = np.load('sele_experiment_GB1_2014.npy')\n",
    "Y_train = np.load('sele_fitness_GB1_2014.npy')\n",
    "print('Selected initial experiments no. is ', len(Y_train))\n",
    "print('Select max Y: ', Y_train.max(), 'True max Y:', Y_test.max())\n"
   ]
  },
  {
   "cell_type": "code",
   "execution_count": null,
   "metadata": {},
   "outputs": [
    {
     "name": "stdout",
     "output_type": "stream",
     "text": [
      "Feature transformation done\n",
      "[13:43:46] WARNING: /Users/travis/build/dmlc/xgboost/src/learner.cc:573: \n",
      "Parameters: { \"silent\" } might not be used.\n",
      "\n",
      "  This may not be accurate due to some parameters are only used in language bindings but\n",
      "  passed down to XGBoost core.  Or some parameters are not used but slip through this\n",
      "  verification. Please open an issue if you find above cases.\n",
      "\n",
      "\n",
      "Prescreened search space size:  63223\n",
      "Iter:  0 Current Max:  2.27 TR length:  [3.2] Test max:  4.288\n",
      "Newly added value:  [[1.339]] ['Q' 'Y' 'K' 'L' 'I' 'L' 'N' 'G' 'K' 'T' 'L' 'K' 'G' 'E' 'T' 'T' 'T' 'C'\n",
      " 'A' 'V' 'L' 'A' 'A' 'T' 'A' 'E' 'K' 'V' 'F' 'K' 'Q' 'Y' 'A' 'N' 'D' 'N'\n",
      " 'G' 'V' 'D' 'G' 'E' 'W' 'T' 'Y' 'D' 'D' 'A' 'T' 'K' 'T' 'F' 'T' 'V' 'T'\n",
      " 'E'] Current size:  136\n",
      "Feature transformation done\n",
      "[13:46:40] WARNING: /Users/travis/build/dmlc/xgboost/src/learner.cc:573: \n",
      "Parameters: { \"silent\" } might not be used.\n",
      "\n",
      "  This may not be accurate due to some parameters are only used in language bindings but\n",
      "  passed down to XGBoost core.  Or some parameters are not used but slip through this\n",
      "  verification. Please open an issue if you find above cases.\n",
      "\n",
      "\n",
      "Prescreened search space size:  81684\n",
      "Iter:  1 Current Max:  2.27 TR length:  [3.2] Test max:  5.022\n",
      "Newly added value:  [[1.721]] ['N' 'Y' 'K' 'L' 'I' 'L' 'N' 'G' 'K' 'T' 'L' 'K' 'G' 'E' 'T' 'T' 'T' 'E'\n",
      " 'A' 'V' 'D' 'A' 'A' 'T' 'A' 'E' 'K' 'V' 'F' 'K' 'Q' 'Y' 'A' 'N' 'D' 'N'\n",
      " 'G' 'V' 'D' 'G' 'E' 'W' 'T' 'Y' 'D' 'D' 'A' 'T' 'K' 'W' 'F' 'T' 'V' 'T'\n",
      " 'E'] Current size:  137\n",
      "Feature transformation done\n",
      "[13:49:39] WARNING: /Users/travis/build/dmlc/xgboost/src/learner.cc:573: \n",
      "Parameters: { \"silent\" } might not be used.\n",
      "\n",
      "  This may not be accurate due to some parameters are only used in language bindings but\n",
      "  passed down to XGBoost core.  Or some parameters are not used but slip through this\n",
      "  verification. Please open an issue if you find above cases.\n",
      "\n",
      "\n",
      "Prescreened search space size:  203249\n",
      "Iter:  2 Current Max:  2.27 TR length:  [3.2] Test max:  5.022\n",
      "Newly added value:  [[1.449]] ['K' 'Y' 'K' 'L' 'I' 'L' 'N' 'G' 'K' 'T' 'L' 'K' 'G' 'E' 'T' 'T' 'T' 'E'\n",
      " 'A' 'W' 'D' 'A' 'A' 'T' 'A' 'E' 'K' 'V' 'F' 'K' 'Q' 'Y' 'A' 'N' 'D' 'N'\n",
      " 'G' 'V' 'D' 'G' 'E' 'W' 'T' 'Y' 'D' 'D' 'A' 'T' 'K' 'T' 'F' 'T' 'V' 'T'\n",
      " 'E'] Current size:  138\n",
      "Feature transformation done\n",
      "[13:53:31] WARNING: /Users/travis/build/dmlc/xgboost/src/learner.cc:573: \n",
      "Parameters: { \"silent\" } might not be used.\n",
      "\n",
      "  This may not be accurate due to some parameters are only used in language bindings but\n",
      "  passed down to XGBoost core.  Or some parameters are not used but slip through this\n",
      "  verification. Please open an issue if you find above cases.\n",
      "\n",
      "\n"
     ]
    }
   ],
   "source": [
    "l, search_iter = 0, 50\n",
    "gp_method='gp_regression'\n",
    "tr_length = [3.2]\n",
    "batch_size = 1\n",
    "failure_count,max_count = 0,0\n",
    "state = odbo.turbo.TurboState(dim=20, batch_size=batch_size, length=tr_length, n_trust_regions=len(tr_length), failure_tolerance = 10)\n",
    "state.best_value = Y_train.max()\n",
    "\n",
    "name_sele_temp = name_sele.copy()\n",
    "Y_train_sele = torch.tensor(Y_train.reshape(len(Y_train),1))\n",
    "\n",
    "while l < search_iter:\n",
    "    if Y_train_sele[-batch_size:].detach().numpy().max() < Y_train_sele[:-batch_size].max():\n",
    "        failure_count = failure_count + 1\n",
    "        feature_model = odbo.featurization.FewChangeMeasurement(raw_vars=name_sele_temp, Y=Y_train_sele.detach().numpy(), method='Max', mode='correlate', n_components=20)\n",
    "    else:\n",
    "        failure_count = 0\n",
    "        feature_model = odbo.featurization.FewChangeMeasurement(raw_vars=name_sele_temp, Y=Y_train_sele.detach().numpy(), method='Max', mode='correlate', n_components=20)\n",
    "    if failure_count >= 3 and max_count < 3:\n",
    "        max_count = max_count + 1\n",
    "        feature_model = odbo.featurization.FewChangeMeasurement(raw_vars=name_sele_temp, Y=Y_train_sele.detach().numpy(), method='Avg', mode='correlate', n_components=20)\n",
    "    else:\n",
    "        max_count = 0\n",
    "        feature_model = odbo.featurization.FewChangeMeasurement(raw_vars=name_sele_temp, Y=Y_train_sele.detach().numpy(), method='Avg', mode='correlate', n_components=20)\n",
    "\n",
    "    X_test, X_test_pca= feature_model.transform(name)\n",
    "    X_train_sele, X_train_sele_pca = feature_model.transform(name_sele_temp)\n",
    "    X_test_pca, X_train_sele_pca = torch.tensor(X_test_pca), torch.tensor(X_train_sele_pca)\n",
    "    print('Feature transformation done')\n",
    "    threshold = Y_train_sele[np.argsort(Y_train_sele)[int(0.9*len(Y_train_sele))]]\n",
    "    labels_train = odbo.prescreening.sp_label(X_train_sele, Y_train_sele, thres=threshold)\n",
    "    pre_model = odbo.prescreening.XGBOD(eval_metric = 'error')\n",
    "    pre_model.fit(X_train_sele, labels_train)\n",
    "    pred_test_labels = pre_model.predict(X_test)\n",
    "    sele_id_test = list(np.where(pred_test_labels == 0)[0])\n",
    "    del X_test, X_train_sele, pre_model, pred_test_labels, feature_model\n",
    "    gc.collect()\n",
    "    \n",
    "    print('Prescreened search space size: ', len(sele_id_test))\n",
    "    search_name_sele = name[sele_id_test, :]\n",
    "    X_test_sele_pca, Y_test_sele = torch.tensor(X_test_pca[sele_id_test, :]), torch.tensor(Y_test[sele_id_test].reshape(len(sele_id_test),1))\n",
    "    print(\"Iter: \", l, \"Current Max: \", Y_train_sele.max().detach().numpy(), 'TR length: ', state.length, \"Test max: \", Y_test_sele.max().detach().numpy())\n",
    "    X_next, acq_value, raw_next_exp_id = odbo.turbo_design(state=state, X=X_train_sele_pca, Y=Y_train_sele, X_pending=X_test_sele_pca, n_trust_regions=len(tr_length), batch_size=batch_size, gp_method=gp_method)\n",
    "    Y_next_m = torch.zeros((len(tr_length), batch_size, 1), device=Y_train_sele.device, dtype=Y_train_sele.dtype)\n",
    "    next_exp_id = []\n",
    "    for i in range(batch_size):\n",
    "        next_exp_id_m = raw_next_exp_id[:, i]\n",
    "        Y_next_m[:, i, 0], idtoadd = Y_test_sele[next_exp_id_m].reshape(len(tr_length)), next_exp_id_m[np.argmax(Y_test_sele[next_exp_id_m])]\n",
    "        next_exp_id.append(idtoadd)\n",
    "    Y_train_sele = torch.cat([Y_train_sele, Y_test_sele[next_exp_id]])\n",
    "    name_sele_temp = np.concatenate((name_sele_temp, search_name_sele[next_exp_id]))\n",
    "    print(\"Newly added value: \", Y_train_sele[-batch_size:].detach().numpy(), name_sele_temp[-1], \"Current size: \", len(Y_train_sele))\n",
    "    state = odbo.turbo.update_state(state=state, Y_next=Y_next_m)\n",
    "    l = l + 1\n",
    "\n",
    "#np.save('results/GB1_2014/GB1_2014_ODBO_TuRBO_GP_batch1_{}.npy'.format(random_seed), Y_train_sele)\n",
    "\n"
   ]
  },
  {
   "cell_type": "markdown",
   "metadata": {},
   "source": [
    "## BO for next best experiment"
   ]
  },
  {
   "cell_type": "code",
   "execution_count": null,
   "metadata": {
    "scrolled": false
   },
   "outputs": [],
   "source": [
    "## Run BO experiment with robust regression or directly gp\n",
    "l, search_iter = 0, 50\n",
    "batch_size = 1\n",
    "gp_method='gp_regression'\n",
    "failure_count,max_count = 0, 0\n",
    "while l < search_iter:\n",
    "    print(\"Iter: \", l, \"Current Max: \", Y_train_sele.max().detach().numpy(), \"Test max: \", Y_test_sele.max().detach().numpy())\n",
    "    X_next, acq_value, next_exp_id = odbo.bo_design(X=X_train_sele, Y=Y_train_sele, X_pending=X_test_sele, gp_method=gp_method, batch_size=batch_size)\n",
    "    ids_keep = list(np.delete(range(X_test_sele.shape[0]), next_exp_id))\n",
    "    X_train_sele, Y_train_sele = torch.cat([X_train_sele, X_test_sele[next_exp_id, :]]), torch.cat([Y_train_sele, Y_test_sele[next_exp_id]])\n",
    "    X_test_sele, Y_test_sele = X_test_sele[ids_keep, :], Y_test_sele[ids_keep]\n",
    "    name_sele_temp = np.concatenate((name_sele_temp, search_name_sele[next_exp_id]))\n",
    "    search_name_sele = search_name_sele[ids_keep]\n",
    "    print(\"Newly added value: \", Y_train_sele[-batch_size:].detach().numpy(), name_sele_temp[-1])\n",
    "    feature_model1 = odbo.featurization.MaxMeasurement(raw_vars=X_train_sele, Y=Y_train_sele.detach().numpy())\n",
    "    if Y_train_sele[-batch_size:].detach().numpy().max() <= Y_train_sele[:-batch_size].max():\n",
    "        failure_count = failure_count + 1\n",
    "    else:\n",
    "        failure_count = 0\n",
    "    if failure_count >= 3 and max_count < 3:\n",
    "        max_count = max_count + 1\n",
    "        feature_model1 = odbo.featurization.AvgMeasurement(raw_vars=X_train_sele, Y=Y_train_sele.detach().numpy())\n",
    "    else:\n",
    "        max_count = 0\n",
    "    X_train_sele = torch.tensor(feature_model1.transform(X_train_sele))\n",
    "    X_test_sele= torch.tensor(feature_model1.transform(X_test_sele))\n",
    "    l = l + 1\n",
    "\n",
    "#np.save('results/GB1_2014/GB1_2014_ODBO_BO_GP_batch1_{}.npy'.format(random_seed), Y_train_sele)"
   ]
  },
  {
   "cell_type": "code",
   "execution_count": 64,
   "metadata": {
    "scrolled": false
   },
   "outputs": [
    {
     "name": "stdout",
     "output_type": "stream",
     "text": [
      "Prescreened search space size:  174\n",
      "Iter:  0 Current Max:  0.8197798314933114 TR length:  [3.2] Test max:  -4.3428059215206005\n"
     ]
    },
    {
     "ename": "IndexError",
     "evalue": "index 8096 is out of bounds for dimension 0 with size 174",
     "output_type": "error",
     "traceback": [
      "\u001b[0;31m---------------------------------------------------------------------------\u001b[0m",
      "\u001b[0;31mIndexError\u001b[0m                                Traceback (most recent call last)",
      "\u001b[0;32m<ipython-input-64-7ab601f17dce>\u001b[0m in \u001b[0;36m<module>\u001b[0;34m()\u001b[0m\n\u001b[1;32m     25\u001b[0m     \u001b[0mX_train_sele\u001b[0m\u001b[0;34m,\u001b[0m \u001b[0mY_train_sele\u001b[0m \u001b[0;34m=\u001b[0m \u001b[0mtorch\u001b[0m\u001b[0;34m.\u001b[0m\u001b[0mcat\u001b[0m\u001b[0;34m(\u001b[0m\u001b[0;34m[\u001b[0m\u001b[0mX_train_sele\u001b[0m\u001b[0;34m,\u001b[0m \u001b[0mX_test_sele\u001b[0m\u001b[0;34m[\u001b[0m\u001b[0mnext_exp_id\u001b[0m\u001b[0;34m,\u001b[0m \u001b[0;34m:\u001b[0m\u001b[0;34m]\u001b[0m\u001b[0;34m]\u001b[0m\u001b[0;34m)\u001b[0m\u001b[0;34m,\u001b[0m \u001b[0mtorch\u001b[0m\u001b[0;34m.\u001b[0m\u001b[0mcat\u001b[0m\u001b[0;34m(\u001b[0m\u001b[0;34m[\u001b[0m\u001b[0mY_train_sele\u001b[0m\u001b[0;34m,\u001b[0m \u001b[0mY_test_sele\u001b[0m\u001b[0;34m[\u001b[0m\u001b[0mnext_exp_id\u001b[0m\u001b[0;34m]\u001b[0m\u001b[0;34m]\u001b[0m\u001b[0;34m)\u001b[0m\u001b[0;34m\u001b[0m\u001b[0;34m\u001b[0m\u001b[0m\n\u001b[1;32m     26\u001b[0m     \u001b[0mids_keep\u001b[0m \u001b[0;34m=\u001b[0m \u001b[0mlist\u001b[0m\u001b[0;34m(\u001b[0m\u001b[0mnp\u001b[0m\u001b[0;34m.\u001b[0m\u001b[0mdelete\u001b[0m\u001b[0;34m(\u001b[0m\u001b[0mrange\u001b[0m\u001b[0;34m(\u001b[0m\u001b[0mX_test_sele\u001b[0m\u001b[0;34m.\u001b[0m\u001b[0mshape\u001b[0m\u001b[0;34m[\u001b[0m\u001b[0;36m0\u001b[0m\u001b[0;34m]\u001b[0m\u001b[0;34m)\u001b[0m\u001b[0;34m,\u001b[0m \u001b[0mnext_exp_id\u001b[0m\u001b[0;34m)\u001b[0m\u001b[0;34m)\u001b[0m\u001b[0;34m\u001b[0m\u001b[0;34m\u001b[0m\u001b[0m\n\u001b[0;32m---> 27\u001b[0;31m     \u001b[0mX_test_sele\u001b[0m\u001b[0;34m,\u001b[0m \u001b[0mY_test_sele\u001b[0m \u001b[0;34m=\u001b[0m \u001b[0mX_test_sele\u001b[0m\u001b[0;34m[\u001b[0m\u001b[0mids_keep\u001b[0m\u001b[0;34m,\u001b[0m \u001b[0;34m:\u001b[0m\u001b[0;34m]\u001b[0m\u001b[0;34m,\u001b[0m \u001b[0mY_test_sele\u001b[0m\u001b[0;34m[\u001b[0m\u001b[0mids_keep\u001b[0m\u001b[0;34m]\u001b[0m\u001b[0;34m\u001b[0m\u001b[0;34m\u001b[0m\u001b[0m\n\u001b[0m\u001b[1;32m     28\u001b[0m     \u001b[0mname_sele_temp\u001b[0m \u001b[0;34m=\u001b[0m \u001b[0mnp\u001b[0m\u001b[0;34m.\u001b[0m\u001b[0mconcatenate\u001b[0m\u001b[0;34m(\u001b[0m\u001b[0;34m(\u001b[0m\u001b[0mname_sele_temp\u001b[0m\u001b[0;34m,\u001b[0m \u001b[0msearch_name_sele\u001b[0m\u001b[0;34m[\u001b[0m\u001b[0mnext_exp_id\u001b[0m\u001b[0;34m]\u001b[0m\u001b[0;34m)\u001b[0m\u001b[0;34m)\u001b[0m\u001b[0;34m\u001b[0m\u001b[0;34m\u001b[0m\u001b[0m\n\u001b[1;32m     29\u001b[0m     \u001b[0mprint\u001b[0m\u001b[0;34m(\u001b[0m\u001b[0;34m\"Newly added value: \"\u001b[0m\u001b[0;34m,\u001b[0m \u001b[0mY_train_sele\u001b[0m\u001b[0;34m[\u001b[0m\u001b[0;34m-\u001b[0m\u001b[0mbatch_size\u001b[0m\u001b[0;34m:\u001b[0m\u001b[0;34m]\u001b[0m\u001b[0;34m.\u001b[0m\u001b[0mdetach\u001b[0m\u001b[0;34m(\u001b[0m\u001b[0;34m)\u001b[0m\u001b[0;34m.\u001b[0m\u001b[0mnumpy\u001b[0m\u001b[0;34m(\u001b[0m\u001b[0;34m)\u001b[0m\u001b[0;34m,\u001b[0m \u001b[0mname_sele_temp\u001b[0m\u001b[0;34m[\u001b[0m\u001b[0;34m-\u001b[0m\u001b[0;36m1\u001b[0m\u001b[0;34m]\u001b[0m\u001b[0;34m)\u001b[0m\u001b[0;34m\u001b[0m\u001b[0;34m\u001b[0m\u001b[0m\n",
      "\u001b[0;31mIndexError\u001b[0m: index 8096 is out of bounds for dimension 0 with size 174"
     ]
    }
   ],
   "source": [
    "sele_id_test = list(np.where(pred_test_labels == 0)[0])\n",
    "name_sele_temp = name_sele.copy()\n",
    "X_train_sele_pca, Y_train_sele = torch.tensor(X_train_pca), torch.tensor(Y_train.reshape(len(Y_train),1))\n",
    "\n",
    "# Run BO experiment with robust regression or directly GP\n",
    "l, search_iter = 0, 50\n",
    "gp_method='gp_regression'\n",
    "tr_length = [3.2]\n",
    "batch_size = 1\n",
    "failure_count,max_count = 0,0\n",
    "state = odbo.turbo.TurboState(dim=X_train_sele_pca.shape[1], batch_size=batch_size, length=tr_length, n_trust_regions=len(tr_length), failure_tolerance = 10)\n",
    "state.best_value = Y_train_sele.max()\n",
    "while l < search_iter:\n",
    "    print('Prescreened search space size: ', len(sele_id_test))\n",
    "    search_name_sele = name[sele_id_test, :]\n",
    "    X_test_sele_pca, Y_test_sele = torch.tensor(X_test_pca[sele_id_test, :]), torch.tensor(Y_test[sele_id_test].reshape(len(sele_id_test),1))\n",
    "    print(\"Iter: \", l, \"Current Max: \", Y_train_sele.max().detach().numpy(), 'TR length: ', state.length, \"Test max: \", Y_test_sele.max().detach().numpy())\n",
    "    X_next, acq_value, raw_next_exp_id = odbo.turbo_design(state=state, X=X_train_sele_pca, Y=Y_train_sele, X_pending=X_test_sele_pca, n_trust_regions=len(tr_length), batch_size=batch_size, gp_method=gp_method)\n",
    "    Y_next_m = torch.zeros((len(tr_length), batch_size, 1), device=Y_train_sele.device, dtype=Y_train_sele.dtype)\n",
    "    next_exp_id = []\n",
    "    for i in range(batch_size):\n",
    "        next_exp_id_m = raw_next_exp_id[:, i]\n",
    "        Y_next_m[:, i, 0], idtoadd = Y_test_sele[next_exp_id_m].reshape(len(tr_length)), next_exp_id_m[np.argmax(Y_test_sele[next_exp_id_m])]\n",
    "        next_exp_id.append(idtoadd)\n",
    "    X_train_sele, Y_train_sele = torch.cat([X_train_sele, X_test_sele[next_exp_id, :]]), torch.cat([Y_train_sele, Y_test_sele[next_exp_id]])\n",
    "    ids_keep = list(np.delete(range(X_test_sele.shape[0]), next_exp_id))\n",
    "    name_sele_temp = np.concatenate((name_sele_temp, search_name_sele[next_exp_id]))\n",
    "    print(\"Newly added value: \", Y_train_sele[-batch_size:].detach().numpy(), name_sele_temp[-1])\n",
    "    state = odbo.turbo.update_state(state=state, Y_next=Y_next_m)\n",
    "    print(X_train_sele.shape)\n",
    "    if Y_train_sele[-batch_size:].detach().numpy().max() <= Y_train_sele[:-batch_size].max():\n",
    "        failure_count = failure_count + 1\n",
    "        feature_model1 = odbo.featurization.FewChangeMeasurement(raw_vars=name_sele_temp, Y=Y_train_sele.detach().numpy(), method='Max', mode='correlate')\n",
    "    else:\n",
    "        failure_count = 0\n",
    "        feature_model1 = odbo.featurization.FewChangeMeasurement(raw_vars=name_sele_temp, Y=Y_train_sele.detach().numpy(), method='Max', mode='correlate')\n",
    "    if failure_count >= 3 and max_count < 3:\n",
    "        max_count = max_count + 1\n",
    "        feature_model1 = odbo.featurization.FewChangeMeasurement(raw_vars=name_sele_temp, Y=Y_train_sele.detach().numpy(), method='Avg', mode='correlate')\n",
    "    else:\n",
    "        max_count = 0\n",
    "        feature_model1 = odbo.featurization.FewChangeMeasurement(raw_vars=name_sele_temp, Y=Y_train_sele.detach().numpy(), method='Avg', mode='correlate')\n",
    "\n",
    "    X_test_sele, X_test_sele_pca= feature_model1.transform(name)\n",
    "    X_train_sele, X_train_sele_pca = feature_model1.transform(name_sele_temp)\n",
    "    X_test_sele_pca, X_train_sele_pca = torch.tensor(X_test_sele_pca), torch.tensor(X_train_sele_pca)\n",
    "    print(feature_model1._pca.explained_variance_ratio_.sum())\n",
    "\n",
    "    threshold = Y_train[np.argsort(Y_train_sele)[int(0.95*len(Y_train_sele))]]\n",
    "    labels_train = odbo.prescreening.sp_label(X_train_sele, Y_train_sele, thres=threshold)\n",
    "    pre_model = odbo.prescreening.XGBOD(eval_metric = 'error')\n",
    "    pre_model.fit(X_train_sele, labels_train)\n",
    "    pred_labels = pre_model.predict(X_train)\n",
    "    labels_test = odbo.prescreening.sp_label(X_test_sele, Y_test, thres=threshold)\n",
    "    pred_test_labels = pre_model.predict(X_test_sele)\n",
    "    sele_id_test = list(np.where(pred_test_labels == 0)[0])\n",
    "    \n",
    "    l = l + 1\n",
    "\n",
    "#np.save('results/GB1_2014/GB1_2014_ODBO_TuRBO_GP_batch1_{}.npy'.format(random_seed), Y_train_sele)\n"
   ]
  },
  {
   "cell_type": "code",
   "execution_count": null,
   "metadata": {},
   "outputs": [],
   "source": []
  }
 ],
 "metadata": {
  "kernelspec": {
   "display_name": "Python 3",
   "language": "python",
   "name": "python3"
  },
  "language_info": {
   "codemirror_mode": {
    "name": "ipython",
    "version": 3
   },
   "file_extension": ".py",
   "mimetype": "text/x-python",
   "name": "python",
   "nbconvert_exporter": "python",
   "pygments_lexer": "ipython3",
   "version": "3.7.4"
  }
 },
 "nbformat": 4,
 "nbformat_minor": 2
}
