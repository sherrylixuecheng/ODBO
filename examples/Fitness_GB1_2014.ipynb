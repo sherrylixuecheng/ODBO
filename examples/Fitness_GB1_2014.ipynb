{
 "cells": [
  {
   "cell_type": "code",
   "execution_count": 7,
   "metadata": {},
   "outputs": [],
   "source": [
    "import numpy as np\n",
    "import torch\n",
    "import pandas as pd\n",
    "import odbo"
   ]
  },
  {
   "cell_type": "markdown",
   "metadata": {},
   "source": [
    "## Get initial experiment design (temp using 2016 data, change to other experiments later)"
   ]
  },
  {
   "cell_type": "code",
   "execution_count": 8,
   "metadata": {},
   "outputs": [
    {
     "name": "stdout",
     "output_type": "stream",
     "text": [
      "Selected initial experiments no. is  40\n"
     ]
    }
   ],
   "source": [
    "# Load dataset\n",
    "data_test = pd.read_csv('../datasets/GB1_2016_149361.csv', sep=',')\n",
    "name_pre, Y_test = np.array(data_test['AACombo']), np.array(data_test['Fitness'])\n",
    "name = odbo.utils.code_to_array(name_pre)\n",
    "random_seed = 100\n",
    "np.random.seed(random_seed)\n",
    "\n",
    "# Let each site has 20 AA codes at least show up twice \n",
    "sele_indices = odbo.initialization.initial_design(name, least_occurance=[2,2,2,2],verbose = False)\n",
    "# Inital experiments are selected to be name_sele with fitness of Y_sele\n",
    "name_sele, Y_train = name[sele_indices, :], Y_test[sele_indices]\n",
    "print('Selected initial experiments no. is ', len(sele_indices))"
   ]
  },
  {
   "cell_type": "markdown",
   "metadata": {},
   "source": [
    "## Transform AA codes to average fitness feature "
   ]
  },
  {
   "cell_type": "code",
   "execution_count": 9,
   "metadata": {},
   "outputs": [],
   "source": [
    "# Using average measurement results as features\n",
    "threshold = 0.05\n",
    "feature_model = odbo.featurization.AvgMeasurement(raw_vars=name_sele, Y=Y_train)\n",
    "X_train = feature_model.transform(name_sele)\n",
    "X_test = feature_model.transform(name)"
   ]
  },
  {
   "cell_type": "markdown",
   "metadata": {},
   "source": [
    "## Adapt search space construction"
   ]
  },
  {
   "cell_type": "code",
   "execution_count": 10,
   "metadata": {},
   "outputs": [
    {
     "name": "stderr",
     "output_type": "stream",
     "text": [
      "/usr/local/lib/python3.7/site-packages/pyod/models/base.py:349: UserWarning: y should not be presented in unsupervised learning.\n",
      "  \"y should not be presented in unsupervised learning.\")\n",
      "/usr/local/lib/python3.7/site-packages/xgboost/sklearn.py:1146: UserWarning: The use of label encoder in XGBClassifier is deprecated and will be removed in a future release. To remove this warning, do the following: 1) Pass option use_label_encoder=False when constructing XGBClassifier object; and 2) Encode your labels (y) as integers starting with 0, i.e. 0, 1, 2, ..., [num_class - 1].\n",
      "  warnings.warn(label_encoder_deprecation_msg, UserWarning)\n"
     ]
    },
    {
     "name": "stdout",
     "output_type": "stream",
     "text": [
      "[13:46:11] WARNING: /Users/travis/build/dmlc/xgboost/src/learner.cc:573: \n",
      "Parameters: { \"silent\" } might not be used.\n",
      "\n",
      "  This may not be accurate due to some parameters are only used in language bindings but\n",
      "  passed down to XGBoost core.  Or some parameters are not used but slip through this\n",
      "  verification. Please open an issue if you find above cases.\n",
      "\n",
      "\n"
     ]
    }
   ],
   "source": [
    "# Find the adaptive search space model\n",
    "labels_train = odbo.prescreening.sp_label(X_train, Y_train, thres=threshold)\n",
    "pre_model = odbo.prescreening.XGBOD(eval_metric = 'error')\n",
    "pre_model.fit(X_train, labels_train)\n",
    "pred_labels = pre_model.predict(X_train)\n",
    "labels_test = odbo.prescreening.sp_label(X_test, Y_test, thres=threshold)\n",
    "pred_test_labels = pre_model.predict(X_test)"
   ]
  },
  {
   "cell_type": "code",
   "execution_count": 11,
   "metadata": {},
   "outputs": [
    {
     "name": "stdout",
     "output_type": "stream",
     "text": [
      "Correct ratio: 85.973%\n",
      "FN ratio: 7.282%\n",
      "FP ratio: 6.745%\n"
     ]
    },
    {
     "data": {
      "image/png": "[encoded data removed]",
      "text/plain": [
       "<Figure size 432x288 with 2 Axes>"
      ]
     },
     "metadata": {},
     "output_type": "display_data"
    }
   ],
   "source": [
    "# Plot the confusion matrix to check the accuracy of search space prescreening\n",
    "out_outlier, in_outlier, out_inlier, in_inlier = odbo.plot.plot_cm(labels_test, pred_test_labels, Y_test)\n",
    "print(\"Correct ratio: {0:.3%}\".format((len(out_outlier)+len(in_inlier))/len(labels_test)))\n",
    "print(\"FN ratio: {0:.3%}\".format(len(out_inlier)/len(labels_test)))\n",
    "print(\"FP ratio: {0:.3%}\".format(len(in_outlier)/len(labels_test)))  "
   ]
  },
  {
   "cell_type": "markdown",
   "metadata": {},
   "source": [
    "## BO for next best experiment"
   ]
  },
  {
   "cell_type": "code",
   "execution_count": null,
   "metadata": {
    "scrolled": true
   },
   "outputs": [
    {
     "name": "stdout",
     "output_type": "stream",
     "text": [
      "torch.Size([40, 4]) torch.Size([40, 1]) torch.Size([15336, 4]) torch.Size([15336, 1])\n",
      "Iter:  0 Current Max:  3.147576643\n",
      "Newly added value:  [[1.37803514]]\n",
      "Iter:  1 Current Max:  3.147576643\n",
      "Newly added value:  [[1.16494146]]\n",
      "Iter:  2 Current Max:  3.147576643\n",
      "Newly added value:  [[0.62291667]]\n",
      "Iter:  3 Current Max:  3.147576643\n",
      "Newly added value:  [[4.72770043]]\n",
      "Iter:  4 Current Max:  4.727700429\n",
      "Newly added value:  [[0.02592185]]\n",
      "Iter:  5 Current Max:  4.727700429\n",
      "Newly added value:  [[4.26716358]]\n",
      "Iter:  6 Current Max:  4.727700429\n",
      "Newly added value:  [[3.28869275]]\n",
      "Iter:  7 Current Max:  4.727700429\n",
      "Newly added value:  [[2.88134356]]\n",
      "Iter:  8 Current Max:  4.727700429\n",
      "Newly added value:  [[0.30952674]]\n",
      "Iter:  9 Current Max:  4.727700429\n",
      "Newly added value:  [[2.0357201]]\n",
      "Iter:  10 Current Max:  4.727700429\n",
      "Newly added value:  [[0.01626979]]\n",
      "Iter:  11 Current Max:  4.727700429\n",
      "Newly added value:  [[0.03559524]]\n",
      "Iter:  12 Current Max:  4.727700429\n",
      "Newly added value:  [[1.77942029]]\n",
      "Iter:  13 Current Max:  4.727700429\n",
      "Newly added value:  [[4.07312565]]\n",
      "Iter:  14 Current Max:  4.727700429\n",
      "Newly added value:  [[0.01468304]]\n",
      "Iter:  15 Current Max:  4.727700429\n",
      "Newly added value:  [[0.01639815]]\n",
      "Iter:  16 Current Max:  4.727700429\n",
      "Newly added value:  [[0.00622917]]\n",
      "Iter:  17 Current Max:  4.727700429\n",
      "Newly added value:  [[2.40308762]]\n",
      "Iter:  18 Current Max:  4.727700429\n",
      "Newly added value:  [[2.69569021]]\n",
      "Iter:  19 Current Max:  4.727700429\n",
      "Newly added value:  [[0.03022098]]\n",
      "Iter:  20 Current Max:  4.727700429\n",
      "Newly added value:  [[1.24942493]]\n",
      "Iter:  21 Current Max:  4.727700429\n",
      "Newly added value:  [[0.20772632]]\n",
      "Iter:  22 Current Max:  4.727700429\n",
      "Newly added value:  [[0.69020682]]\n",
      "Iter:  23 Current Max:  4.727700429\n",
      "Newly added value:  [[3.41676819]]\n",
      "Iter:  24 Current Max:  4.727700429\n",
      "Newly added value:  [[2.92575307]]\n",
      "Iter:  25 Current Max:  4.727700429\n",
      "Newly added value:  [[0.16333749]]\n",
      "Iter:  26 Current Max:  4.727700429\n",
      "Newly added value:  [[1.17241099]]\n",
      "Iter:  27 Current Max:  4.727700429\n",
      "Newly added value:  [[0.50454174]]\n",
      "Iter:  28 Current Max:  4.727700429\n",
      "Newly added value:  [[0.31960553]]\n",
      "Iter:  29 Current Max:  4.727700429\n",
      "Newly added value:  [[0.36663759]]\n",
      "Iter:  30 Current Max:  4.727700429\n",
      "Newly added value:  [[0.66384693]]\n",
      "Iter:  31 Current Max:  4.727700429\n",
      "Newly added value:  [[0.06607366]]\n",
      "Iter:  32 Current Max:  4.727700429\n",
      "Newly added value:  [[0.40135333]]\n",
      "Iter:  33 Current Max:  4.727700429\n",
      "Newly added value:  [[0.73881541]]\n",
      "Iter:  34 Current Max:  4.727700429\n",
      "Newly added value:  [[1.00204197]]\n",
      "Iter:  35 Current Max:  4.727700429\n",
      "Newly added value:  [[0.47980937]]\n",
      "Iter:  36 Current Max:  4.727700429\n",
      "Newly added value:  [[1.30463211]]\n",
      "Iter:  37 Current Max:  4.727700429\n",
      "Newly added value:  [[0.82225]]\n",
      "Iter:  38 Current Max:  4.727700429\n",
      "Newly added value:  [[5.44061457]]\n",
      "Iter:  39 Current Max:  5.440614567\n",
      "Newly added value:  [[1.95556284]]\n",
      "Iter:  40 Current Max:  5.440614567\n",
      "Newly added value:  [[0.30371397]]\n",
      "Iter:  41 Current Max:  5.440614567\n",
      "Newly added value:  [[3.60057588]]\n",
      "Iter:  42 Current Max:  5.440614567\n",
      "Newly added value:  [[1.4420679]]\n",
      "Iter:  43 Current Max:  5.440614567\n",
      "Newly added value:  [[0.79124154]]\n",
      "Iter:  44 Current Max:  5.440614567\n",
      "Newly added value:  [[1.34723973]]\n",
      "Iter:  45 Current Max:  5.440614567\n",
      "Newly added value:  [[0.36696397]]\n",
      "Iter:  46 Current Max:  5.440614567\n"
     ]
    }
   ],
   "source": [
    "# Pick the Top 40 init experiment from the 384 experiments\n",
    "sele_id = np.argsort(Y_train)[-40:]\n",
    "X_train_sele, Y_train_sele = torch.tensor(X_train[sele_id, :]), torch.tensor(Y_train[sele_id].reshape(40,1))\n",
    "# Only search the space after prescreening\n",
    "sele_id_test = []\n",
    "sele_id_test.extend(in_inlier)\n",
    "sele_id_test.extend(out_inlier)\n",
    "X_test_sele, Y_test_sele = torch.tensor(X_test[sele_id_test, :]), torch.tensor(Y_test[sele_id_test].reshape(len(sele_id_test),1))\n",
    "print(X_train_sele.shape, Y_train_sele.shape, X_test_sele.shape, Y_test_sele.shape)\n",
    "\n",
    "## Run BO experiment with robust regression or directly gp\n",
    "l, search_iter = 0, 50\n",
    "batch_size = 1\n",
    "gp_method='gp_regression'\n",
    "while l < search_iter:\n",
    "    print(\"Iter: \", l, \"Current Max: \", Y_train_sele.max().detach().numpy())\n",
    "    X_next, acq_value, next_exp_id = odbo.bo_design(X=X_train_sele, Y=Y_train_sele, X_pending=X_test_sele, gp_method=gp_method, batch_size=batch_size)\n",
    "    ids_keep = list(np.delete(range(X_test_sele.shape[0]), next_exp_id))\n",
    "    X_train_sele, Y_train_sele = torch.cat([X_train_sele, X_test_sele[next_exp_id, :]]), torch.cat([Y_train_sele, Y_test_sele[next_exp_id]])\n",
    "    X_test_sele, Y_test_sele = X_test_sele[ids_keep, :], Y_test_sele[ids_keep]\n",
    "    print(\"Newly added value: \", Y_train_sele[-batch_size:].detach().numpy())\n",
    "    l = l + 1\n",
    "\n"
   ]
  },
  {
   "cell_type": "markdown",
   "metadata": {},
   "source": [
    "## TurBO for next best experiment"
   ]
  },
  {
   "cell_type": "code",
   "execution_count": null,
   "metadata": {},
   "outputs": [],
   "source": [
    "# Pick the Top 40 init experiment from the 384 experiments\n",
    "sele_id = np.argsort(Y_train)[-40:]\n",
    "X_train_sele, Y_train_sele = torch.tensor(X_train[sele_id, :]), torch.tensor(Y_train[sele_id].reshape(40,1))\n",
    "# Only search the space after prescreening\n",
    "sele_id_test = []\n",
    "sele_id_test.extend(in_inlier)\n",
    "sele_id_test.extend(out_inlier)\n",
    "X_test_sele, Y_test_sele = torch.tensor(X_test[sele_id_test, :]), torch.tensor(Y_test[sele_id_test].reshape(len(sele_id_test),1))\n",
    "print(X_train_sele.shape, Y_train_sele.shape, X_test_sele.shape, Y_test_sele.shape)\n",
    "\n",
    "# Run BO experiment with robust regression or directly gp\n",
    "l, search_iter = 0, 50\n",
    "gp_method='robust_regression'\n",
    "tr_length = [3.2]\n",
    "batch_size = 1\n",
    "state = odbo.turbo.TurboState(dim=X_train_sele.shape[1], batch_size=batch_size, length=tr_length, n_trust_regions=len(tr_length), failure_tolerance = 10)\n",
    "state.best_value = Y_train_sele.max()\n",
    "while l < search_iter:\n",
    "    print(\"Iter: \", l, \"Current Max: \", Y_train_sele.max().detach().numpy(), 'TR length: ', state.length)\n",
    "    X_next, acq_value, raw_next_exp_id = odbo.turbo_design(state=state, X=X_train_sele, Y=Y_train_sele, X_pending=X_test_sele, n_trust_regions=len(tr_length), batch_size=batch_size, gp_method=gp_method)\n",
    "    Y_next_m = torch.zeros((len(tr_length), batch_size, 1), device=Y_train_sele.device, dtype=Y_train_sele.dtype)\n",
    "    next_exp_id = []\n",
    "    for i in range(batch_size):\n",
    "        next_exp_id_m = raw_next_exp_id[:, i]\n",
    "        idtoadd = next_exp_id_m[np.argmax(Y_test_sele[next_exp_id_m])]\n",
    "        next_exp_id.append(idtoadd)\n",
    "        Y_next_m[:, i, 0] = Y_test_sele[next_exp_id_m]\n",
    "    X_train_sele, Y_train_sele = torch.cat([X_train_sele, X_test_sele[next_exp_id, :]]), torch.cat([Y_train_sele, Y_test_sele[next_exp_id]])\n",
    "    ids_keep = list(np.delete(range(X_test_sele.shape[0]), next_exp_id))\n",
    "    X_test_sele, Y_test_sele = X_test_sele[ids_keep, :], Y_test_sele[ids_keep]\n",
    "    print(\"Newly added value: \", Y_train_sele[-batch_size:].detach().numpy())\n",
    "    state = odbo.turbo.update_state(state=state, Y_next=Y_next_m)\n",
    "    l = l + 1\n",
    "\n"
   ]
  },
  {
   "cell_type": "code",
   "execution_count": null,
   "metadata": {},
   "outputs": [],
   "source": []
  }
 ],
 "metadata": {
  "kernelspec": {
   "display_name": "Python 3",
   "language": "python",
   "name": "python3"
  },
  "language_info": {
   "codemirror_mode": {
    "name": "ipython",
    "version": 3
   },
   "file_extension": ".py",
   "mimetype": "text/x-python",
   "name": "python",
   "nbconvert_exporter": "python",
   "pygments_lexer": "ipython3",
   "version": "3.7.4"
  }
 },
 "nbformat": 4,
 "nbformat_minor": 2
}
