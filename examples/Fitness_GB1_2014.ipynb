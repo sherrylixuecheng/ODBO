{
 "cells": [
  {
   "cell_type": "code",
   "execution_count": 1,
   "metadata": {},
   "outputs": [],
   "source": [
    "import numpy as np\n",
    "import torch\n",
    "import pandas as pd\n",
    "import odbo\n",
    "import os"
   ]
  },
  {
   "cell_type": "markdown",
   "metadata": {},
   "source": [
    "## Get initial experiment design"
   ]
  },
  {
   "cell_type": "code",
   "execution_count": 2,
   "metadata": {
    "scrolled": true
   },
   "outputs": [
    {
     "name": "stdout",
     "output_type": "stream",
     "text": [
      "Selected initial experiments no. is  138\n",
      "Select max Y:  1.721 True max Y: 5.022\n"
     ]
    }
   ],
   "source": [
    "# Load dataset\n",
    "random_seed = 0\n",
    "np.random.seed(random_seed)\n",
    "data_test = pd.read_csv('../datasets/GB1_2014_536944.csv', sep=',')\n",
    "name_pre, Y_test = np.array(data_test['AACombo']), np.array(data_test['Fitness'])\n",
    "shuffle_order = np.arange(len(Y_test))\n",
    "np.random.shuffle(shuffle_order[1:])\n",
    "name_pre[1:], Y_test[1:] = name_pre[shuffle_order[1:]], Y_test[shuffle_order[1:]]\n",
    "name = odbo.utils.code_to_array(name_pre)\n",
    "del data_test, shuffle_order, name_pre\n",
    "\n",
    "if os.path.isfile('sele_experiment_GB1_2014.npy') == True:\n",
    "    name_sele = np.load('sele_experiment_GB1_2014.npy')\n",
    "    Y_train = np.load('sele_fitness_GB1_2014.npy')\n",
    "    print('Selected initial experiments no. is ', len(Y_train))\n",
    "else:\n",
    "    # Let each site has 20 AA codes at least show up twice \n",
    "    sele_indices = odbo.initialization.initial_design(name, least_occurance=np.ones(name.shape[1]),verbose = True, update_method='correlate')\n",
    "    # Initial experiments are selected to be name_sele with fitness of Y_sele\n",
    "    name_sele, Y_train = name[sele_indices, :], Y_test[sele_indices]\n",
    "    print('Selected initial experiments no. is ', len(sele_indices))\n",
    "    np.save('sele_experiment_GB1_2014.npy', name_sele)\n",
    "    np.save('sele_fitness_GB1_2014.npy', Y_train)\n",
    "print('Select max Y: ', Y_train.max(), 'True max Y:', Y_test.max())"
   ]
  },
  {
   "cell_type": "markdown",
   "metadata": {},
   "source": [
    "## Transform AA codes to average fitness feature "
   ]
  },
  {
   "cell_type": "code",
   "execution_count": 3,
   "metadata": {},
   "outputs": [],
   "source": [
    "# Using average measurement results as features\n",
    "feature_model = odbo.featurization.FewChangeMeasurement(raw_vars=name_sele, Y=Y_train, method='Max', mode='correlate')\n",
    "X_test, X_test_pca  = feature_model.transform(name)\n",
    "X_train, X_train_pca = feature_model.transform(name_sele)"
   ]
  },
  {
   "cell_type": "code",
   "execution_count": 4,
   "metadata": {},
   "outputs": [
    {
     "name": "stdout",
     "output_type": "stream",
     "text": [
      "[0.37259527 0.23580226 0.21315109 0.16729523 0.15009659 0.14311979\n",
      " 0.13477085 0.12481144]\n",
      "[0.11306924 0.07155749 0.06468368 0.05076808 0.04554891 0.0434317\n",
      " 0.0408981  0.03787577]\n",
      "[0.11306924 0.18462673 0.24931041 0.30007849 0.34562739 0.38905909\n",
      " 0.42995719 0.46783297]\n"
     ]
    }
   ],
   "source": [
    "print(feature_model._pca.explained_variance_)\n",
    "print(feature_model._pca.explained_variance_ratio_)\n",
    "print(feature_model._pca.explained_variance_ratio_.cumsum())\n"
   ]
  },
  {
   "cell_type": "markdown",
   "metadata": {},
   "source": [
    "## Adapt search space construction"
   ]
  },
  {
   "cell_type": "code",
   "execution_count": 5,
   "metadata": {
    "scrolled": true
   },
   "outputs": [
    {
     "name": "stdout",
     "output_type": "stream",
     "text": [
      "[00:12:19] WARNING: ../src/learner.cc:576: \n",
      "Parameters: { \"silent\" } might not be used.\n",
      "\n",
      "  This could be a false alarm, with some parameters getting used by language bindings but\n",
      "  then being mistakenly passed down to XGBoost core, or some parameter actually being used\n",
      "  but getting flagged wrongly here. Please open an issue if you find any such cases.\n",
      "\n",
      "\n"
     ]
    }
   ],
   "source": [
    "# Find the adaptive search space model\n",
    "threshold = Y_train[np.argsort(Y_train)[int(0.9*len(Y_train))]]\n",
    "labels_train = odbo.prescreening.sp_label(X_train_pca, Y_train, thres=threshold)\n",
    "pre_model = odbo.prescreening.XGBOD(eval_metric = 'error')\n",
    "pre_model.fit(X_train_pca, labels_train)\n",
    "pred_labels = pre_model.predict(X_train_pca)\n",
    "labels_test = odbo.prescreening.sp_label(X_test_pca, Y_test, thres=threshold)\n",
    "pred_test_labels = pre_model.predict(X_test_pca)"
   ]
  },
  {
   "cell_type": "code",
   "execution_count": 6,
   "metadata": {},
   "outputs": [
    {
     "name": "stdout",
     "output_type": "stream",
     "text": [
      "Correct ratio: 51.225%\n",
      "FN ratio: 44.315%\n",
      "FP ratio: 4.460%\n"
     ]
    },
    {
     "data": {
      "image/png": "[encoded data removed]",
      "text/plain": [
       "<Figure size 432x288 with 2 Axes>"
      ]
     },
     "metadata": {
      "needs_background": "light"
     },
     "output_type": "display_data"
    }
   ],
   "source": [
    "# Plot the confusion matrix to check the accuracy of search space prescreening\n",
    "out_outlier, in_outlier, out_inlier, in_inlier = odbo.plot.plot_cm(labels_test, pred_test_labels, Y_test)\n",
    "print(\"Correct ratio: {0:.3%}\".format((len(out_outlier)+len(in_inlier))/len(labels_test)))\n",
    "print(\"FN ratio: {0:.3%}\".format(len(out_inlier)/len(labels_test)))\n",
    "print(\"FP ratio: {0:.3%}\".format(len(in_outlier)/len(labels_test)))  "
   ]
  },
  {
   "cell_type": "markdown",
   "metadata": {},
   "source": [
    "## BO for next best experiment"
   ]
  },
  {
   "cell_type": "code",
   "execution_count": 7,
   "metadata": {},
   "outputs": [
    {
     "name": "stdout",
     "output_type": "stream",
     "text": [
      "Prescreened search space size:  280489 Entire dataset max:  5.022 Select max  5.022\n"
     ]
    }
   ],
   "source": [
    "X_train_sele, Y_train_sele = torch.tensor(X_train), torch.tensor(Y_train.reshape(len(Y_train),1))\n",
    "# Only search the space after prescreening\n",
    "sele_id_test = list(np.where(pred_test_labels == 0)[0])\n",
    "X_test_sele, Y_test_sele = torch.tensor(X_test[sele_id_test, :]), torch.tensor(Y_test[sele_id_test].reshape(len(sele_id_test),1))\n",
    "search_name_sele, name_sele_temp = name[sele_id_test, :], name_sele\n",
    "print('Prescreened search space size: ', len(sele_id_test), 'Entire dataset max: ', Y_test.max(), 'Select max ', Y_test_sele.max().item())"
   ]
  },
  {
   "cell_type": "code",
   "execution_count": 9,
   "metadata": {
    "scrolled": true
   },
   "outputs": [
    {
     "name": "stdout",
     "output_type": "stream",
     "text": [
      "Iter:  0 Current Max:  1.721 Test max:  5.022\n"
     ]
    },
    {
     "ename": "KeyboardInterrupt",
     "evalue": "",
     "output_type": "error",
     "traceback": [
      "\u001b[0;31m---------------------------------------------------------------------------\u001b[0m",
      "\u001b[0;31mKeyboardInterrupt\u001b[0m                         Traceback (most recent call last)",
      "\u001b[0;32m<ipython-input-9-175d516a17fb>\u001b[0m in \u001b[0;36m<module>\u001b[0;34m()\u001b[0m\n\u001b[1;32m      6\u001b[0m \u001b[0;32mwhile\u001b[0m \u001b[0ml\u001b[0m \u001b[0;34m<\u001b[0m \u001b[0msearch_iter\u001b[0m\u001b[0;34m:\u001b[0m\u001b[0;34m\u001b[0m\u001b[0;34m\u001b[0m\u001b[0m\n\u001b[1;32m      7\u001b[0m     \u001b[0mprint\u001b[0m\u001b[0;34m(\u001b[0m\u001b[0;34m\"Iter: \"\u001b[0m\u001b[0;34m,\u001b[0m \u001b[0ml\u001b[0m\u001b[0;34m,\u001b[0m \u001b[0;34m\"Current Max: \"\u001b[0m\u001b[0;34m,\u001b[0m \u001b[0mY_train_sele\u001b[0m\u001b[0;34m.\u001b[0m\u001b[0mmax\u001b[0m\u001b[0;34m(\u001b[0m\u001b[0;34m)\u001b[0m\u001b[0;34m.\u001b[0m\u001b[0mdetach\u001b[0m\u001b[0;34m(\u001b[0m\u001b[0;34m)\u001b[0m\u001b[0;34m.\u001b[0m\u001b[0mnumpy\u001b[0m\u001b[0;34m(\u001b[0m\u001b[0;34m)\u001b[0m\u001b[0;34m,\u001b[0m \u001b[0;34m\"Test max: \"\u001b[0m\u001b[0;34m,\u001b[0m \u001b[0mY_test_sele\u001b[0m\u001b[0;34m.\u001b[0m\u001b[0mmax\u001b[0m\u001b[0;34m(\u001b[0m\u001b[0;34m)\u001b[0m\u001b[0;34m.\u001b[0m\u001b[0mdetach\u001b[0m\u001b[0;34m(\u001b[0m\u001b[0;34m)\u001b[0m\u001b[0;34m.\u001b[0m\u001b[0mnumpy\u001b[0m\u001b[0;34m(\u001b[0m\u001b[0;34m)\u001b[0m\u001b[0;34m)\u001b[0m\u001b[0;34m\u001b[0m\u001b[0;34m\u001b[0m\u001b[0m\n\u001b[0;32m----> 8\u001b[0;31m     \u001b[0mX_next\u001b[0m\u001b[0;34m,\u001b[0m \u001b[0macq_value\u001b[0m\u001b[0;34m,\u001b[0m \u001b[0mnext_exp_id\u001b[0m \u001b[0;34m=\u001b[0m \u001b[0modbo\u001b[0m\u001b[0;34m.\u001b[0m\u001b[0mbo_design\u001b[0m\u001b[0;34m(\u001b[0m\u001b[0mX\u001b[0m\u001b[0;34m=\u001b[0m\u001b[0mX_train_sele\u001b[0m\u001b[0;34m,\u001b[0m \u001b[0mY\u001b[0m\u001b[0;34m=\u001b[0m\u001b[0mY_train_sele\u001b[0m\u001b[0;34m,\u001b[0m \u001b[0mX_pending\u001b[0m\u001b[0;34m=\u001b[0m\u001b[0mX_test_sele\u001b[0m\u001b[0;34m,\u001b[0m \u001b[0mgp_method\u001b[0m\u001b[0;34m=\u001b[0m\u001b[0mgp_method\u001b[0m\u001b[0;34m,\u001b[0m \u001b[0mbatch_size\u001b[0m\u001b[0;34m=\u001b[0m\u001b[0mbatch_size\u001b[0m\u001b[0;34m)\u001b[0m\u001b[0;34m\u001b[0m\u001b[0;34m\u001b[0m\u001b[0m\n\u001b[0m\u001b[1;32m      9\u001b[0m     \u001b[0mids_keep\u001b[0m \u001b[0;34m=\u001b[0m \u001b[0mlist\u001b[0m\u001b[0;34m(\u001b[0m\u001b[0mnp\u001b[0m\u001b[0;34m.\u001b[0m\u001b[0mdelete\u001b[0m\u001b[0;34m(\u001b[0m\u001b[0mrange\u001b[0m\u001b[0;34m(\u001b[0m\u001b[0mX_test_sele\u001b[0m\u001b[0;34m.\u001b[0m\u001b[0mshape\u001b[0m\u001b[0;34m[\u001b[0m\u001b[0;36m0\u001b[0m\u001b[0;34m]\u001b[0m\u001b[0;34m)\u001b[0m\u001b[0;34m,\u001b[0m \u001b[0mnext_exp_id\u001b[0m\u001b[0;34m)\u001b[0m\u001b[0;34m)\u001b[0m\u001b[0;34m\u001b[0m\u001b[0;34m\u001b[0m\u001b[0m\n\u001b[1;32m     10\u001b[0m     \u001b[0mX_train_sele\u001b[0m\u001b[0;34m,\u001b[0m \u001b[0mY_train_sele\u001b[0m \u001b[0;34m=\u001b[0m \u001b[0mtorch\u001b[0m\u001b[0;34m.\u001b[0m\u001b[0mcat\u001b[0m\u001b[0;34m(\u001b[0m\u001b[0;34m[\u001b[0m\u001b[0mX_train_sele\u001b[0m\u001b[0;34m,\u001b[0m \u001b[0mX_test_sele\u001b[0m\u001b[0;34m[\u001b[0m\u001b[0mnext_exp_id\u001b[0m\u001b[0;34m,\u001b[0m \u001b[0;34m:\u001b[0m\u001b[0;34m]\u001b[0m\u001b[0;34m]\u001b[0m\u001b[0;34m)\u001b[0m\u001b[0;34m,\u001b[0m \u001b[0mtorch\u001b[0m\u001b[0;34m.\u001b[0m\u001b[0mcat\u001b[0m\u001b[0;34m(\u001b[0m\u001b[0;34m[\u001b[0m\u001b[0mY_train_sele\u001b[0m\u001b[0;34m,\u001b[0m \u001b[0mY_test_sele\u001b[0m\u001b[0;34m[\u001b[0m\u001b[0mnext_exp_id\u001b[0m\u001b[0;34m]\u001b[0m\u001b[0;34m]\u001b[0m\u001b[0;34m)\u001b[0m\u001b[0;34m\u001b[0m\u001b[0;34m\u001b[0m\u001b[0m\n",
      "\u001b[0;32m~/Documents/github/ODBO/odbo/run_exp.py\u001b[0m in \u001b[0;36mbo_design\u001b[0;34m(X, Y, X_pending, gp_method, batch_size, min_inferred_noise_level, verbose)\u001b[0m\n\u001b[1;32m     63\u001b[0m                 \u001b[0mX_norm\u001b[0m\u001b[0;34m,\u001b[0m\u001b[0;34m\u001b[0m\u001b[0;34m\u001b[0m\u001b[0m\n\u001b[1;32m     64\u001b[0m                 \u001b[0mY_norm\u001b[0m\u001b[0;34m,\u001b[0m\u001b[0;34m\u001b[0m\u001b[0;34m\u001b[0m\u001b[0m\n\u001b[0;32m---> 65\u001b[0;31m                 min_inferred_noise_level=min_inferred_noise_level)\n\u001b[0m\u001b[1;32m     66\u001b[0m             \u001b[0;32mbreak\u001b[0m\u001b[0;34m\u001b[0m\u001b[0;34m\u001b[0m\u001b[0m\n\u001b[1;32m     67\u001b[0m         \u001b[0;32mexcept\u001b[0m \u001b[0mNotPSDError\u001b[0m\u001b[0;34m:\u001b[0m\u001b[0;34m\u001b[0m\u001b[0;34m\u001b[0m\u001b[0m\n",
      "\u001b[0;32m~/Documents/github/ODBO/odbo/regressions.py\u001b[0m in \u001b[0;36mGPRegression\u001b[0;34m(X, Y, likelihood, noise_constraint, min_inferred_noise_level, optimizer, **kwargs)\u001b[0m\n\u001b[1;32m     54\u001b[0m     \u001b[0;32mif\u001b[0m \u001b[0moptimizer\u001b[0m \u001b[0;34m==\u001b[0m \u001b[0;34m'fit_gpytorch_scipy'\u001b[0m \u001b[0;32mor\u001b[0m \u001b[0moptimizer\u001b[0m \u001b[0;32mis\u001b[0m \u001b[0;32mNone\u001b[0m\u001b[0;34m:\u001b[0m\u001b[0;34m\u001b[0m\u001b[0;34m\u001b[0m\u001b[0m\n\u001b[1;32m     55\u001b[0m         \u001b[0mmll\u001b[0m\u001b[0;34m.\u001b[0m\u001b[0mtrain\u001b[0m\u001b[0;34m(\u001b[0m\u001b[0;34m)\u001b[0m\u001b[0;34m\u001b[0m\u001b[0;34m\u001b[0m\u001b[0m\n\u001b[0;32m---> 56\u001b[0;31m         \u001b[0mfit_gpytorch_scipy\u001b[0m\u001b[0;34m(\u001b[0m\u001b[0mmll\u001b[0m\u001b[0;34m)\u001b[0m\u001b[0;34m\u001b[0m\u001b[0;34m\u001b[0m\u001b[0m\n\u001b[0m\u001b[1;32m     57\u001b[0m         \u001b[0mmll\u001b[0m\u001b[0;34m.\u001b[0m\u001b[0meval\u001b[0m\u001b[0;34m(\u001b[0m\u001b[0;34m)\u001b[0m\u001b[0;34m\u001b[0m\u001b[0;34m\u001b[0m\u001b[0m\n\u001b[1;32m     58\u001b[0m     \u001b[0;32melif\u001b[0m \u001b[0moptimizer\u001b[0m \u001b[0;34m==\u001b[0m \u001b[0;34m'fit_gpytorch_torch'\u001b[0m\u001b[0;34m:\u001b[0m\u001b[0;34m\u001b[0m\u001b[0;34m\u001b[0m\u001b[0m\n",
      "\u001b[0;32m/usr/local/lib/python3.7/site-packages/botorch/optim/fit.py\u001b[0m in \u001b[0;36mfit_gpytorch_scipy\u001b[0;34m(mll, bounds, method, options, track_iterations, approx_mll, scipy_objective, module_to_array_func, module_from_array_func)\u001b[0m\n\u001b[1;32m    245\u001b[0m             \u001b[0mjac\u001b[0m\u001b[0;34m=\u001b[0m\u001b[0;32mTrue\u001b[0m\u001b[0;34m,\u001b[0m\u001b[0;34m\u001b[0m\u001b[0;34m\u001b[0m\u001b[0m\n\u001b[1;32m    246\u001b[0m             \u001b[0moptions\u001b[0m\u001b[0;34m=\u001b[0m\u001b[0moptions\u001b[0m\u001b[0;34m,\u001b[0m\u001b[0;34m\u001b[0m\u001b[0;34m\u001b[0m\u001b[0m\n\u001b[0;32m--> 247\u001b[0;31m             \u001b[0mcallback\u001b[0m\u001b[0;34m=\u001b[0m\u001b[0mcb\u001b[0m\u001b[0;34m,\u001b[0m\u001b[0;34m\u001b[0m\u001b[0;34m\u001b[0m\u001b[0m\n\u001b[0m\u001b[1;32m    248\u001b[0m         )\n\u001b[1;32m    249\u001b[0m         \u001b[0miterations\u001b[0m \u001b[0;34m=\u001b[0m \u001b[0;34m[\u001b[0m\u001b[0;34m]\u001b[0m\u001b[0;34m\u001b[0m\u001b[0;34m\u001b[0m\u001b[0m\n",
      "\u001b[0;32m/usr/local/lib/python3.7/site-packages/scipy/optimize/_minimize.py\u001b[0m in \u001b[0;36mminimize\u001b[0;34m(fun, x0, args, method, jac, hess, hessp, bounds, constraints, tol, callback, options)\u001b[0m\n\u001b[1;32m    622\u001b[0m     \u001b[0;32melif\u001b[0m \u001b[0mmeth\u001b[0m \u001b[0;34m==\u001b[0m \u001b[0;34m'l-bfgs-b'\u001b[0m\u001b[0;34m:\u001b[0m\u001b[0;34m\u001b[0m\u001b[0;34m\u001b[0m\u001b[0m\n\u001b[1;32m    623\u001b[0m         return _minimize_lbfgsb(fun, x0, args, jac, bounds,\n\u001b[0;32m--> 624\u001b[0;31m                                 callback=callback, **options)\n\u001b[0m\u001b[1;32m    625\u001b[0m     \u001b[0;32melif\u001b[0m \u001b[0mmeth\u001b[0m \u001b[0;34m==\u001b[0m \u001b[0;34m'tnc'\u001b[0m\u001b[0;34m:\u001b[0m\u001b[0;34m\u001b[0m\u001b[0;34m\u001b[0m\u001b[0m\n\u001b[1;32m    626\u001b[0m         return _minimize_tnc(fun, x0, args, jac, bounds, callback=callback,\n",
      "\u001b[0;32m/usr/local/lib/python3.7/site-packages/scipy/optimize/lbfgsb.py\u001b[0m in \u001b[0;36m_minimize_lbfgsb\u001b[0;34m(fun, x0, args, jac, bounds, disp, maxcor, ftol, gtol, eps, maxfun, maxiter, iprint, callback, maxls, finite_diff_rel_step, **unknown_options)\u001b[0m\n\u001b[1;32m    358\u001b[0m             \u001b[0;31m# until the completion of the current minimization iteration.\u001b[0m\u001b[0;34m\u001b[0m\u001b[0;34m\u001b[0m\u001b[0;34m\u001b[0m\u001b[0m\n\u001b[1;32m    359\u001b[0m             \u001b[0;31m# Overwrite f and g:\u001b[0m\u001b[0;34m\u001b[0m\u001b[0;34m\u001b[0m\u001b[0;34m\u001b[0m\u001b[0m\n\u001b[0;32m--> 360\u001b[0;31m             \u001b[0mf\u001b[0m\u001b[0;34m,\u001b[0m \u001b[0mg\u001b[0m \u001b[0;34m=\u001b[0m \u001b[0mfunc_and_grad\u001b[0m\u001b[0;34m(\u001b[0m\u001b[0mx\u001b[0m\u001b[0;34m)\u001b[0m\u001b[0;34m\u001b[0m\u001b[0;34m\u001b[0m\u001b[0m\n\u001b[0m\u001b[1;32m    361\u001b[0m         \u001b[0;32melif\u001b[0m \u001b[0mtask_str\u001b[0m\u001b[0;34m.\u001b[0m\u001b[0mstartswith\u001b[0m\u001b[0;34m(\u001b[0m\u001b[0;34mb'NEW_X'\u001b[0m\u001b[0;34m)\u001b[0m\u001b[0;34m:\u001b[0m\u001b[0;34m\u001b[0m\u001b[0;34m\u001b[0m\u001b[0m\n\u001b[1;32m    362\u001b[0m             \u001b[0;31m# new iteration\u001b[0m\u001b[0;34m\u001b[0m\u001b[0;34m\u001b[0m\u001b[0;34m\u001b[0m\u001b[0m\n",
      "\u001b[0;32m/usr/local/lib/python3.7/site-packages/scipy/optimize/_differentiable_functions.py\u001b[0m in \u001b[0;36mfun_and_grad\u001b[0;34m(self, x)\u001b[0m\n\u001b[1;32m    263\u001b[0m \u001b[0;34m\u001b[0m\u001b[0m\n\u001b[1;32m    264\u001b[0m     \u001b[0;32mdef\u001b[0m \u001b[0mfun_and_grad\u001b[0m\u001b[0;34m(\u001b[0m\u001b[0mself\u001b[0m\u001b[0;34m,\u001b[0m \u001b[0mx\u001b[0m\u001b[0;34m)\u001b[0m\u001b[0;34m:\u001b[0m\u001b[0;34m\u001b[0m\u001b[0;34m\u001b[0m\u001b[0m\n\u001b[0;32m--> 265\u001b[0;31m         \u001b[0;32mif\u001b[0m \u001b[0;32mnot\u001b[0m \u001b[0mnp\u001b[0m\u001b[0;34m.\u001b[0m\u001b[0marray_equal\u001b[0m\u001b[0;34m(\u001b[0m\u001b[0mx\u001b[0m\u001b[0;34m,\u001b[0m \u001b[0mself\u001b[0m\u001b[0;34m.\u001b[0m\u001b[0mx\u001b[0m\u001b[0;34m)\u001b[0m\u001b[0;34m:\u001b[0m\u001b[0;34m\u001b[0m\u001b[0;34m\u001b[0m\u001b[0m\n\u001b[0m\u001b[1;32m    266\u001b[0m             \u001b[0mself\u001b[0m\u001b[0;34m.\u001b[0m\u001b[0m_update_x_impl\u001b[0m\u001b[0;34m(\u001b[0m\u001b[0mx\u001b[0m\u001b[0;34m)\u001b[0m\u001b[0;34m\u001b[0m\u001b[0;34m\u001b[0m\u001b[0m\n\u001b[1;32m    267\u001b[0m         \u001b[0mself\u001b[0m\u001b[0;34m.\u001b[0m\u001b[0m_update_fun\u001b[0m\u001b[0;34m(\u001b[0m\u001b[0;34m)\u001b[0m\u001b[0;34m\u001b[0m\u001b[0;34m\u001b[0m\u001b[0m\n",
      "\u001b[0;32m<__array_function__ internals>\u001b[0m in \u001b[0;36marray_equal\u001b[0;34m(*args, **kwargs)\u001b[0m\n",
      "\u001b[0;32m/usr/local/lib/python3.7/site-packages/numpy/core/numeric.py\u001b[0m in \u001b[0;36marray_equal\u001b[0;34m(a1, a2, equal_nan)\u001b[0m\n\u001b[1;32m   2370\u001b[0m     \"\"\"\n\u001b[1;32m   2371\u001b[0m     \u001b[0;32mtry\u001b[0m\u001b[0;34m:\u001b[0m\u001b[0;34m\u001b[0m\u001b[0;34m\u001b[0m\u001b[0m\n\u001b[0;32m-> 2372\u001b[0;31m         \u001b[0ma1\u001b[0m\u001b[0;34m,\u001b[0m \u001b[0ma2\u001b[0m \u001b[0;34m=\u001b[0m \u001b[0masarray\u001b[0m\u001b[0;34m(\u001b[0m\u001b[0ma1\u001b[0m\u001b[0;34m)\u001b[0m\u001b[0;34m,\u001b[0m \u001b[0masarray\u001b[0m\u001b[0;34m(\u001b[0m\u001b[0ma2\u001b[0m\u001b[0;34m)\u001b[0m\u001b[0;34m\u001b[0m\u001b[0;34m\u001b[0m\u001b[0m\n\u001b[0m\u001b[1;32m   2373\u001b[0m     \u001b[0;32mexcept\u001b[0m \u001b[0mException\u001b[0m\u001b[0;34m:\u001b[0m\u001b[0;34m\u001b[0m\u001b[0;34m\u001b[0m\u001b[0m\n\u001b[1;32m   2374\u001b[0m         \u001b[0;32mreturn\u001b[0m \u001b[0;32mFalse\u001b[0m\u001b[0;34m\u001b[0m\u001b[0;34m\u001b[0m\u001b[0m\n",
      "\u001b[0;31mKeyboardInterrupt\u001b[0m: "
     ]
    }
   ],
   "source": [
    "## Run BO experiment with robust regression or directly gp\n",
    "l, search_iter = 0, 50\n",
    "batch_size = 1\n",
    "gp_method='gp_regression'\n",
    "failure_count,max_count = 0, 0\n",
    "while l < search_iter:\n",
    "    print(\"Iter: \", l, \"Current Max: \", Y_train_sele.max().detach().numpy(), \"Test max: \", Y_test_sele.max().detach().numpy())\n",
    "    X_next, acq_value, next_exp_id = odbo.bo_design(X=X_train_sele, Y=Y_train_sele, X_pending=X_test_sele, gp_method=gp_method, batch_size=batch_size)\n",
    "    ids_keep = list(np.delete(range(X_test_sele.shape[0]), next_exp_id))\n",
    "    X_train_sele, Y_train_sele = torch.cat([X_train_sele, X_test_sele[next_exp_id, :]]), torch.cat([Y_train_sele, Y_test_sele[next_exp_id]])\n",
    "    X_test_sele, Y_test_sele = X_test_sele[ids_keep, :], Y_test_sele[ids_keep]\n",
    "    name_sele_temp = np.concatenate((name_sele_temp, search_name_sele[next_exp_id]))\n",
    "    search_name_sele = search_name_sele[ids_keep]\n",
    "    print(\"Newly added value: \", Y_train_sele[-batch_size:].detach().numpy(), name_sele_temp[-1])\n",
    "    feature_model1 = odbo.featurization.MaxMeasurement(raw_vars=X_train_sele, Y=Y_train_sele.detach().numpy())\n",
    "    if Y_train_sele[-batch_size:].detach().numpy().max() <= Y_train_sele[:-batch_size].max():\n",
    "        failure_count = failure_count + 1\n",
    "    else:\n",
    "        failure_count = 0\n",
    "    if failure_count >= 3 and max_count < 3:\n",
    "        max_count = max_count + 1\n",
    "        feature_model1 = odbo.featurization.AvgMeasurement(raw_vars=X_train_sele, Y=Y_train_sele.detach().numpy())\n",
    "    else:\n",
    "        max_count = 0\n",
    "    X_train_sele = torch.tensor(feature_model1.transform(X_train_sele))\n",
    "    X_test_sele= torch.tensor(feature_model1.transform(X_test_sele))\n",
    "    l = l + 1\n",
    "\n",
    "#np.save('results/GB1_2014/GB1_2014_ODBO_BO_GP_batch1_{}.npy'.format(random_seed), Y_train_sele)"
   ]
  },
  {
   "cell_type": "markdown",
   "metadata": {},
   "source": [
    "## TurBO for next best experiment"
   ]
  },
  {
   "cell_type": "code",
   "execution_count": null,
   "metadata": {
    "scrolled": false
   },
   "outputs": [
    {
     "name": "stdout",
     "output_type": "stream",
     "text": [
      "Iter:  0 Current Max:  1.721 TR length:  [3.2] Test max:  5.022\n"
     ]
    }
   ],
   "source": [
    "X_train_sele, Y_train_sele = torch.tensor(X_train), torch.tensor(Y_train.reshape(len(Y_train),1))\n",
    "sele_id_test = list(np.where(pred_test_labels == 0)[0])\n",
    "search_name_sele, name_sele_temp = name[sele_id_test, :], name_sele\n",
    "X_test_sele, Y_test_sele = torch.tensor(X_test[sele_id_test, :]), torch.tensor(Y_test[sele_id_test].reshape(len(sele_id_test),1))\n",
    "X_train_sele_pca = torch.tensor(X_train_pca)\n",
    "X_test_sele_pca = torch.tensor(X_test_pca[sele_id_test, :])\n",
    "\n",
    "# Run BO experiment with robust regression or directly GP\n",
    "l, search_iter = 0, 50\n",
    "gp_method='gp_regression'\n",
    "tr_length = [3.2]\n",
    "batch_size = 1\n",
    "failure_count,max_count = 0,0\n",
    "state = odbo.turbo.TurboState(dim=X_train_sele_pca.shape[1], batch_size=batch_size, length=tr_length, n_trust_regions=len(tr_length), failure_tolerance = 10)\n",
    "state.best_value = Y_train_sele.max()\n",
    "while l < search_iter:\n",
    "    print(\"Iter: \", l, \"Current Max: \", Y_train_sele.max().detach().numpy(), 'TR length: ', state.length, \"Test max: \", Y_test_sele.max().detach().numpy())\n",
    "    X_next, acq_value, raw_next_exp_id = odbo.turbo_design(state=state, X=X_train_sele_pca, Y=Y_train_sele, X_pending=X_test_sele_pca, n_trust_regions=len(tr_length), batch_size=batch_size, gp_method=gp_method)\n",
    "    Y_next_m = torch.zeros((len(tr_length), batch_size, 1), device=Y_train_sele.device, dtype=Y_train_sele.dtype)\n",
    "    next_exp_id = []\n",
    "    for i in range(batch_size):\n",
    "        next_exp_id_m = raw_next_exp_id[:, i]\n",
    "        Y_next_m[:, i, 0], idtoadd = Y_test_sele[next_exp_id_m].reshape(len(tr_length)), next_exp_id_m[np.argmax(Y_test_sele[next_exp_id_m])]\n",
    "        next_exp_id.append(idtoadd)\n",
    "    X_train_sele, Y_train_sele = torch.cat([X_train_sele, X_test_sele[next_exp_id, :]]), torch.cat([Y_train_sele, Y_test_sele[next_exp_id]])\n",
    "    ids_keep = list(np.delete(range(X_test_sele.shape[0]), next_exp_id))\n",
    "    X_test_sele, Y_test_sele = X_test_sele[ids_keep, :], Y_test_sele[ids_keep]\n",
    "    name_sele_temp = np.concatenate((name_sele_temp, search_name_sele[next_exp_id]))\n",
    "    search_name_sele = search_name_sele[ids_keep]\n",
    "    print(\"Newly added value: \", Y_train_sele[-batch_size:].detach().numpy(), name_sele_temp[-1])\n",
    "    state = odbo.turbo.update_state(state=state, Y_next=Y_next_m)\n",
    "    print(X_train_sele.shape)\n",
    "    if Y_train_sele[-batch_size:].detach().numpy().max() <= Y_train_sele[:-batch_size].max():\n",
    "        failure_count = failure_count + 1\n",
    "        feature_model1 = odbo.featurization.FewChangeMeasurement(raw_vars=X_train_sele, Y=Y_train_sele.detach().numpy(), mode='correlate', method='Max')\n",
    "        print(feature_model1._pca.explained_variance_ratio_.sum())\n",
    "    else:\n",
    "        failure_count = 0\n",
    "        feature_model1 = odbo.featurization.FewChangeMeasurement(raw_vars=X_train_sele, Y=Y_train_sele.detach().numpy(), mode='correlate', method='Max')\n",
    "        print(feature_model1._pca.explained_variance_ratio_.sum())\n",
    "    if failure_count >= 3 and max_count < 3:\n",
    "        max_count = max_count + 1\n",
    "        feature_model1 = odbo.featurization.FewChangeMeasurement(raw_vars=X_train_sele, Y=Y_train_sele.detach().numpy(), mode='correlate', method='Avg')\n",
    "    else:\n",
    "        max_count = 0\n",
    "        feature_model1 = odbo.featurization.FewChangeMeasurement(raw_vars=X_train_sele, Y=Y_train_sele.detach().numpy(), mode='correlate', method='Avg')\n",
    "\n",
    "    X_test_sele, X_test_sele_pca= torch.tensor(feature_model1.transform(X_test_sele))\n",
    "    X_test_sele, X_test_sele_pca = torch.tensor(X_test_sele), torch.tensor(X_test_sele_pca)\n",
    "    X_train_sele, X_train_sele_pca = feature_model1.transform(X_train_sele)\n",
    "    X_train_sele, X_train_sele_pca = torch.tensor(X_train_sele), torch.tensor(X_train_sele_pca)\n",
    "\n",
    "    l = l + 1\n",
    "    del feature_model1\n",
    "\n",
    "np.save('results/GB1_2014/GB1_2014_ODBO_TuRBO_GP_batch1_{}.npy'.format(random_seed), Y_train_sele)\n"
   ]
  },
  {
   "cell_type": "code",
   "execution_count": 22,
   "metadata": {},
   "outputs": [
    {
     "ename": "KeyboardInterrupt",
     "evalue": "",
     "output_type": "error",
     "traceback": [
      "\u001b[0;31m---------------------------------------------------------------------------\u001b[0m",
      "\u001b[0;31mKeyboardInterrupt\u001b[0m                         Traceback (most recent call last)",
      "\u001b[0;32m<ipython-input-22-7969f43f98e5>\u001b[0m in \u001b[0;36m<module>\u001b[0;34m\u001b[0m\n\u001b[0;32m----> 1\u001b[0;31m \u001b[0mfeature_model1\u001b[0m \u001b[0;34m=\u001b[0m \u001b[0modbo\u001b[0m\u001b[0;34m.\u001b[0m\u001b[0mfeaturization\u001b[0m\u001b[0;34m.\u001b[0m\u001b[0mFewChangeMeasurement\u001b[0m\u001b[0;34m(\u001b[0m\u001b[0mraw_vars\u001b[0m\u001b[0;34m=\u001b[0m\u001b[0mX_train_sele\u001b[0m\u001b[0;34m,\u001b[0m \u001b[0mY\u001b[0m\u001b[0;34m=\u001b[0m\u001b[0mY_train_sele\u001b[0m\u001b[0;34m.\u001b[0m\u001b[0mdetach\u001b[0m\u001b[0;34m(\u001b[0m\u001b[0;34m)\u001b[0m\u001b[0;34m.\u001b[0m\u001b[0mnumpy\u001b[0m\u001b[0;34m(\u001b[0m\u001b[0;34m)\u001b[0m\u001b[0;34m,\u001b[0m \u001b[0mmode\u001b[0m\u001b[0;34m=\u001b[0m\u001b[0;34m'correlate'\u001b[0m\u001b[0;34m,\u001b[0m \u001b[0mmethod\u001b[0m\u001b[0;34m=\u001b[0m\u001b[0;34m'Max'\u001b[0m\u001b[0;34m)\u001b[0m\u001b[0;34m\u001b[0m\u001b[0;34m\u001b[0m\u001b[0m\n\u001b[0m\u001b[1;32m      2\u001b[0m \u001b[0;34m\u001b[0m\u001b[0m\n\u001b[1;32m      3\u001b[0m \u001b[0;34m\u001b[0m\u001b[0m\n\u001b[1;32m      4\u001b[0m \u001b[0mprint\u001b[0m\u001b[0;34m(\u001b[0m\u001b[0mfeature_model1\u001b[0m\u001b[0;34m)\u001b[0m\u001b[0;34m\u001b[0m\u001b[0;34m\u001b[0m\u001b[0m\n",
      "\u001b[0;32m~/ODBO/odbo/featurization.py\u001b[0m in \u001b[0;36m__init__\u001b[0;34m(self, raw_vars, cat_features, Y, categories, max_change_length, n_components, method, mode, random_seed)\u001b[0m\n\u001b[1;32m    139\u001b[0m             \u001b[0mcategories\u001b[0m\u001b[0;34m=\u001b[0m\u001b[0mcategories\u001b[0m\u001b[0;34m,\u001b[0m\u001b[0;34m\u001b[0m\u001b[0;34m\u001b[0m\u001b[0m\n\u001b[1;32m    140\u001b[0m             \u001b[0mmode\u001b[0m\u001b[0;34m=\u001b[0m\u001b[0mmode\u001b[0m\u001b[0;34m,\u001b[0m\u001b[0;34m\u001b[0m\u001b[0;34m\u001b[0m\u001b[0m\n\u001b[0;32m--> 141\u001b[0;31m             method=method)\n\u001b[0m\u001b[1;32m    142\u001b[0m         \u001b[0mself\u001b[0m\u001b[0;34m.\u001b[0m\u001b[0m_max_change_length\u001b[0m \u001b[0;34m=\u001b[0m \u001b[0mmax_change_length\u001b[0m\u001b[0;34m\u001b[0m\u001b[0;34m\u001b[0m\u001b[0m\n\u001b[1;32m    143\u001b[0m         \u001b[0mself\u001b[0m\u001b[0;34m.\u001b[0m\u001b[0m_pca\u001b[0m \u001b[0;34m=\u001b[0m \u001b[0;32mNone\u001b[0m\u001b[0;34m\u001b[0m\u001b[0;34m\u001b[0m\u001b[0m\n",
      "\u001b[0;32m~/ODBO/odbo/featurization.py\u001b[0m in \u001b[0;36m__init__\u001b[0;34m(self, raw_vars, cat_features, Y, categories, method, mode)\u001b[0m\n\u001b[1;32m     74\u001b[0m                                         np.logical_and(\n\u001b[1;32m     75\u001b[0m                                             \u001b[0mraw_vars\u001b[0m\u001b[0;34m[\u001b[0m\u001b[0;34m:\u001b[0m\u001b[0;34m,\u001b[0m \u001b[0mt\u001b[0m\u001b[0;34m]\u001b[0m \u001b[0;34m==\u001b[0m \u001b[0mcategories\u001b[0m\u001b[0;34m[\u001b[0m\u001b[0mi\u001b[0m\u001b[0;34m]\u001b[0m\u001b[0;34m[\u001b[0m\u001b[0mj\u001b[0m\u001b[0;34m]\u001b[0m\u001b[0;34m,\u001b[0m\u001b[0;34m\u001b[0m\u001b[0;34m\u001b[0m\u001b[0m\n\u001b[0;32m---> 76\u001b[0;31m                                             wild_type[t] == wild_type[i]))[0]))\n\u001b[0m\u001b[1;32m     77\u001b[0m                         \u001b[0;32mif\u001b[0m \u001b[0mself\u001b[0m\u001b[0;34m.\u001b[0m\u001b[0m_method\u001b[0m \u001b[0;34m==\u001b[0m \u001b[0;34m'Avg'\u001b[0m\u001b[0;34m:\u001b[0m\u001b[0;34m\u001b[0m\u001b[0;34m\u001b[0m\u001b[0m\n\u001b[1;32m     78\u001b[0m                             \u001b[0mfeature_choice\u001b[0m\u001b[0;34m[\u001b[0m\u001b[0mj\u001b[0m\u001b[0;34m]\u001b[0m \u001b[0;34m=\u001b[0m \u001b[0mnp\u001b[0m\u001b[0;34m.\u001b[0m\u001b[0mmean\u001b[0m\u001b[0;34m(\u001b[0m\u001b[0mY\u001b[0m\u001b[0;34m[\u001b[0m\u001b[0mids\u001b[0m\u001b[0;34m]\u001b[0m\u001b[0;34m)\u001b[0m\u001b[0;34m\u001b[0m\u001b[0;34m\u001b[0m\u001b[0m\n",
      "\u001b[0;32m~/anaconda3/lib/python3.7/site-packages/torch/_tensor.py\u001b[0m in \u001b[0;36m__array_wrap__\u001b[0;34m(self, array)\u001b[0m\n\u001b[1;32m    688\u001b[0m             \u001b[0;31m# Workaround, torch has no built-in bool tensor\u001b[0m\u001b[0;34m\u001b[0m\u001b[0;34m\u001b[0m\u001b[0;34m\u001b[0m\u001b[0m\n\u001b[1;32m    689\u001b[0m             \u001b[0marray\u001b[0m \u001b[0;34m=\u001b[0m \u001b[0marray\u001b[0m\u001b[0;34m.\u001b[0m\u001b[0mastype\u001b[0m\u001b[0;34m(\u001b[0m\u001b[0;34m'uint8'\u001b[0m\u001b[0;34m)\u001b[0m\u001b[0;34m\u001b[0m\u001b[0;34m\u001b[0m\u001b[0m\n\u001b[0;32m--> 690\u001b[0;31m         \u001b[0;32mreturn\u001b[0m \u001b[0mtorch\u001b[0m\u001b[0;34m.\u001b[0m\u001b[0mfrom_numpy\u001b[0m\u001b[0;34m(\u001b[0m\u001b[0marray\u001b[0m\u001b[0;34m)\u001b[0m\u001b[0;34m\u001b[0m\u001b[0;34m\u001b[0m\u001b[0m\n\u001b[0m\u001b[1;32m    691\u001b[0m \u001b[0;34m\u001b[0m\u001b[0m\n\u001b[1;32m    692\u001b[0m     \u001b[0;32mdef\u001b[0m \u001b[0m__contains__\u001b[0m\u001b[0;34m(\u001b[0m\u001b[0mself\u001b[0m\u001b[0;34m,\u001b[0m \u001b[0melement\u001b[0m\u001b[0;34m)\u001b[0m\u001b[0;34m:\u001b[0m\u001b[0;34m\u001b[0m\u001b[0;34m\u001b[0m\u001b[0m\n",
      "\u001b[0;31mKeyboardInterrupt\u001b[0m: "
     ]
    }
   ],
   "source": [
    "feature_model1 = odbo.featurization.FewChangeMeasurement(raw_vars=X_train_sele, Y=Y_train_sele.detach().numpy(), mode='correlate', method='Max')\n",
    "\n",
    "\n",
    "print(feature_model1)"
   ]
  },
  {
   "cell_type": "code",
   "execution_count": 21,
   "metadata": {},
   "outputs": [
    {
     "name": "stdout",
     "output_type": "stream",
     "text": [
      "tensor([[1.7210, 1.7210, 1.7210,  ..., 1.7210, 1.7210, 1.7210],\n",
      "        [1.7210, 1.7210, 1.7210,  ..., 0.3250, 1.7210, 1.7210],\n",
      "        [1.7210, 1.7210, 1.7210,  ..., 1.7210, 1.7210, 1.7210],\n",
      "        ...,\n",
      "        [1.7210, 1.7210, 1.7210,  ..., 1.7210, 1.7210, 1.7210],\n",
      "        [1.7210, 1.7210, 1.7210,  ..., 1.7210, 1.7210, 1.7210],\n",
      "        [1.7210, 1.7210, 0.0030,  ..., 1.7210, 1.7210, 1.7210]],\n",
      "       dtype=torch.float64) tensor([[1.0000],\n",
      "        [0.3250],\n",
      "        [0.0030],\n",
      "        [0.1360],\n",
      "        [0.0080],\n",
      "        [0.7230],\n",
      "        [0.9380],\n",
      "        [0.0030],\n",
      "        [1.1720],\n",
      "        [0.0300],\n",
      "        [1.1050],\n",
      "        [1.0740],\n",
      "        [0.3290],\n",
      "        [0.0040],\n",
      "        [0.0250],\n",
      "        [0.3990],\n",
      "        [0.9680],\n",
      "        [0.2430],\n",
      "        [1.1890],\n",
      "        [0.2260],\n",
      "        [0.2090],\n",
      "        [0.0970],\n",
      "        [1.3440],\n",
      "        [0.9410],\n",
      "        [0.0590],\n",
      "        [0.8050],\n",
      "        [0.7640],\n",
      "        [1.0220],\n",
      "        [0.8180],\n",
      "        [0.0400],\n",
      "        [0.9610],\n",
      "        [1.4050],\n",
      "        [0.3770],\n",
      "        [0.6160],\n",
      "        [1.3360],\n",
      "        [0.7450],\n",
      "        [0.0510],\n",
      "        [0.3720],\n",
      "        [0.4490],\n",
      "        [0.5790],\n",
      "        [0.0020],\n",
      "        [0.1230],\n",
      "        [0.0030],\n",
      "        [1.2700],\n",
      "        [1.2680],\n",
      "        [0.0040],\n",
      "        [0.0540],\n",
      "        [1.5760],\n",
      "        [1.2760],\n",
      "        [0.0820],\n",
      "        [0.7160],\n",
      "        [0.0580],\n",
      "        [0.8770],\n",
      "        [0.9560],\n",
      "        [0.7640],\n",
      "        [0.1120],\n",
      "        [1.7210],\n",
      "        [1.3480],\n",
      "        [0.0270],\n",
      "        [0.1110],\n",
      "        [1.2750],\n",
      "        [0.6630],\n",
      "        [0.1000],\n",
      "        [0.0130],\n",
      "        [1.2830],\n",
      "        [0.4180],\n",
      "        [0.9520],\n",
      "        [0.2280],\n",
      "        [0.6590],\n",
      "        [0.0030],\n",
      "        [1.3250],\n",
      "        [1.0900],\n",
      "        [0.7240],\n",
      "        [0.0050],\n",
      "        [0.0200],\n",
      "        [0.0030],\n",
      "        [1.3580],\n",
      "        [0.0530],\n",
      "        [0.0090],\n",
      "        [1.0750],\n",
      "        [0.0080],\n",
      "        [0.0040],\n",
      "        [0.3060],\n",
      "        [0.5650],\n",
      "        [1.2620],\n",
      "        [0.0040],\n",
      "        [0.0410],\n",
      "        [0.0170],\n",
      "        [1.2290],\n",
      "        [0.0480],\n",
      "        [0.7620],\n",
      "        [0.6880],\n",
      "        [0.2120],\n",
      "        [0.0100],\n",
      "        [1.5640],\n",
      "        [1.5180],\n",
      "        [0.0040],\n",
      "        [0.1920],\n",
      "        [0.0220],\n",
      "        [0.8990],\n",
      "        [1.3930],\n",
      "        [0.0360],\n",
      "        [0.2770],\n",
      "        [1.4970],\n",
      "        [0.1720],\n",
      "        [0.0030],\n",
      "        [0.9850],\n",
      "        [0.2120],\n",
      "        [1.4190],\n",
      "        [0.1940],\n",
      "        [0.0050],\n",
      "        [0.9970],\n",
      "        [0.0060],\n",
      "        [1.3720],\n",
      "        [0.0070],\n",
      "        [1.5780],\n",
      "        [0.0030],\n",
      "        [0.2330],\n",
      "        [0.0040],\n",
      "        [0.0030],\n",
      "        [0.3270],\n",
      "        [0.0190],\n",
      "        [0.0180],\n",
      "        [0.0040],\n",
      "        [0.1420],\n",
      "        [1.4110],\n",
      "        [1.0650],\n",
      "        [0.0300],\n",
      "        [0.8640],\n",
      "        [0.2110],\n",
      "        [0.0050],\n",
      "        [0.0030],\n",
      "        [0.0030],\n",
      "        [0.0030],\n",
      "        [0.0250],\n",
      "        [0.0690],\n",
      "        [0.3720],\n",
      "        [0.0050],\n",
      "        [0.7720]], dtype=torch.float64)\n"
     ]
    }
   ],
   "source": [
    "print(X_train_sele, Y_train_sele)"
   ]
  },
  {
   "cell_type": "code",
   "execution_count": null,
   "metadata": {},
   "outputs": [],
   "source": []
  }
 ],
 "metadata": {
  "kernelspec": {
   "display_name": "Python 3",
   "language": "python",
   "name": "python3"
  },
  "language_info": {
   "codemirror_mode": {
    "name": "ipython",
    "version": 3
   },
   "file_extension": ".py",
   "mimetype": "text/x-python",
   "name": "python",
   "nbconvert_exporter": "python",
   "pygments_lexer": "ipython3",
   "version": "3.7.6"
  }
 },
 "nbformat": 4,
 "nbformat_minor": 2
}
