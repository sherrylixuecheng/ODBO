{
 "cells": [
  {
   "cell_type": "code",
   "execution_count": 1,
   "metadata": {},
   "outputs": [],
   "source": [
    "import numpy as np\n",
    "import torch\n",
    "import pandas as pd\n",
    "import odbo\n",
    "import os\n",
    "import gc"
   ]
  },
  {
   "cell_type": "code",
   "execution_count": 97,
   "metadata": {
    "scrolled": true
   },
   "outputs": [
    {
     "name": "stdout",
     "output_type": "stream",
     "text": [
      "Selected initial experiments no. is  136\n",
      "Select max Y:  3.401744910907966 True max Y: 5.773617201642364\n"
     ]
    }
   ],
   "source": [
    "random_seed = 7\n",
    "np.random.seed(random_seed)\n",
    "data_test = pd.read_csv('../datasets/GB1_2014_536085.csv', sep=',')\n",
    "name_pre, Y_test = np.array(data_test['AACombo']), np.array(data_test['score'])\n",
    "Y_test = 2**Y_test\n",
    "del data_test\n",
    "if os.path.isfile('sele_indices_GB1_2014.npy') == True:\n",
    "    sele_indices = np.load('sele_indices_GB1_2014.npy')\n",
    "    shuffle_order = np.load('shuffle_order_GB1_2014.npy')\n",
    "    name_pre[1:], Y_test[1:] = name_pre[shuffle_order[1:]], Y_test[shuffle_order[1:]]\n",
    "    name = odbo.utils.code_to_array(name_pre)    \n",
    "else:\n",
    "    shuffle_order = np.arange(len(Y_test))\n",
    "    np.random.shuffle(shuffle_order[1:])\n",
    "    np.save('shuffle_order_GB1_2014.npy', shuffle_order)\n",
    "    name_pre[1:], Y_test[1:] = name_pre[shuffle_order[1:]], Y_test[shuffle_order[1:]]\n",
    "    name = odbo.utils.code_to_array(name_pre)\n",
    "    sele_indices = odbo.initialization.initial_design(name, least_occurance=np.ones(55),allow_abundance=False,update_method='correlate',verbose=True)\n",
    "    np.save('sele_indices_GB1_2014.npy', sele_indices)\n",
    "name_sele, Y_train = name[sele_indices, :], Y_test[sele_indices]\n",
    "ids_keep = np.delete(range(len(Y_test)), sele_indices)\n",
    "name, Y_test = name[ids_keep, :], Y_test[ids_keep]\n",
    "print('Selected initial experiments no. is ', len(Y_train))\n",
    "print('Select max Y: ', Y_train.max(), 'True max Y:', Y_test.max())\n"
   ]
  },
  {
   "cell_type": "code",
   "execution_count": 98,
   "metadata": {},
   "outputs": [],
   "source": [
    "feature_model = odbo.featurization.FewFeatureTransform(raw_vars=name_sele, Y=Y_train, method='Avg', mode='hybrid')\n",
    "X_test = feature_model.transform(name)\n",
    "X_train = feature_model.transform(name_sele)"
   ]
  },
  {
   "cell_type": "code",
   "execution_count": 99,
   "metadata": {
    "scrolled": true
   },
   "outputs": [
    {
     "name": "stdout",
     "output_type": "stream",
     "text": [
      "1.0\n",
      "[22:51:37] WARNING: /Users/runner/work/xgboost/xgboost/src/learner.cc:576: \n",
      "Parameters: { \"silent\" } might not be used.\n",
      "\n",
      "  This could be a false alarm, with some parameters getting used by language bindings but\n",
      "  then being mistakenly passed down to XGBoost core, or some parameter actually being used\n",
      "  but getting flagged wrongly here. Please open an issue if you find any such cases.\n",
      "\n",
      "\n",
      "Correct ratio: 76.516%\n",
      "FN ratio: 8.401%\n",
      "FP ratio: 15.083%\n"
     ]
    },
    {
     "data": {
      "image/png": "[encoded data removed]",
      "text/plain": [
       "<Figure size 432x288 with 2 Axes>"
      ]
     },
     "metadata": {
      "needs_background": "light"
     },
     "output_type": "display_data"
    }
   ],
   "source": [
    "# Find the adaptive search space model\n",
    "threshold = Y_train[np.argsort(Y_train)[int(0.9*len(Y_train))]]\n",
    "print(threshold)\n",
    "labels_train = odbo.prescreening.sp_label(X_train, Y_train, thres=threshold)\n",
    "pre_model = odbo.prescreening.XGBOD(eval_metric = 'error', random_state = random_seed)\n",
    "pre_model.fit(X_train, labels_train)\n",
    "pred_labels = pre_model.predict(X_train)\n",
    "labels_test = odbo.prescreening.sp_label(X_test, Y_test, thres=threshold)\n",
    "pred_test_labels = pre_model.predict(X_test)\n",
    "# Plot the confusion matrix to check the accuracy of search space prescreening\n",
    "out_outlier, in_outlier, out_inlier, in_inlier = odbo.plot.plot_cm(labels_test, pred_test_labels, Y_test)\n",
    "print(\"Correct ratio: {0:.3%}\".format((len(out_outlier)+len(in_inlier))/len(labels_test)))\n",
    "print(\"FN ratio: {0:.3%}\".format(len(out_inlier)/len(labels_test)))\n",
    "print(\"FP ratio: {0:.3%}\".format(len(in_outlier)/len(labels_test))) "
   ]
  },
  {
   "cell_type": "markdown",
   "metadata": {},
   "source": [
    "## ODBO, BO"
   ]
  },
  {
   "cell_type": "code",
   "execution_count": null,
   "metadata": {
    "scrolled": true
   },
   "outputs": [],
   "source": [
    "X_train_sele, Y_train_sele = torch.tensor(X_train), torch.tensor(Y_train.reshape(len(Y_train),1))\n",
    "sele_id_test = list(np.where(pred_test_labels == 0)[0])\n",
    "search_name_sele, name_sele_temp = name[sele_id_test, :], name_sele\n",
    "X_test_sele, Y_test_sele = torch.tensor(X_test[sele_id_test, :]), torch.tensor(Y_test[sele_id_test].reshape(len(sele_id_test),1))\n",
    "print(\"Prescreening size: \", len(sele_id_test))\n",
    "\n",
    "## Run BO experiment with robust regression or directly gp\n",
    "l, search_iter = 0, 100\n",
    "batch_size = 1\n",
    "gp_method='robust_regression'\n",
    "failure_count = 0\n",
    "while l < search_iter:\n",
    "    print(\"Iter: \", l, \"Current Max: \", Y_train_sele.max().detach().numpy(), \"Test max: \", Y_test_sele.max().detach().numpy())\n",
    "    top_ids = np.argsort(Y_train_sele.numpy().ravel())[-40-l:]\n",
    "    sele_feat = []\n",
    "    for i in range(X_train_sele.shape[1]):\n",
    "        if (X_train_sele[top_ids,i]-X_train_sele[0,i]).any() !=0:\n",
    "            sele_feat.append(i)\n",
    "    X_sele = X_train_sele[:,sele_feat]\n",
    "    X_test_sele=X_test_sele[:, sele_feat]\n",
    "    X_test_sele = torch.cat([X_test_sele, X_test_sele[:, [1,0,3,2]]])\n",
    "    X_sele = torch.cat([X_sele[top_ids, :], X_sele[top_ids, :][:, [1,0,3,2]]])\n",
    "    Y_sele = torch.cat([Y_train_sele[top_ids], Y_train_sele[top_ids]])\n",
    "    X_next, acq_value, next_exp_id = odbo.bo_design(X=X_sele, Y=Y_sele, X_pending=X_test_sele, gp_method=gp_method, batch_size=batch_size)\n",
    "    next_exp_id = np.mod(next_exp_id, len(Y_test_sele))\n",
    "    Y_train_sele = torch.cat([Y_train_sele, Y_test_sele[next_exp_id]])\n",
    "    ids_keep = list(np.delete(range(Y_test_sele.shape[0]), next_exp_id))\n",
    "    Y_test_sele = Y_test_sele[ids_keep]\n",
    "    name_sele_temp = np.concatenate((name_sele_temp, search_name_sele[next_exp_id]))\n",
    "    search_name_sele = search_name_sele[ids_keep]\n",
    "    print(\"Newly added value: \", Y_train_sele[-batch_size:].detach().numpy(), ''.join(name_sele_temp[-1, :]))\n",
    "\n",
    "    if Y_train_sele[-batch_size:].detach().numpy().max() > Y_train_sele[:-batch_size].max():\n",
    "        failure_count = 0\n",
    "        feature_model1 = odbo.featurization.FewFeatureTransform(raw_vars=name_sele_temp, Y=Y_train_sele.detach().numpy(), method='Avg', mode='hybrid')\n",
    "    else:\n",
    "        failure_count = failure_count + 1\n",
    "        if failure_count >= 3:\n",
    "            feature_model1 = odbo.featurization.FewFeatureTransform(raw_vars=name_sele_temp, Y=Y_train_sele.detach().numpy(), method='Avg', mode='hybrid')\n",
    "        else:\n",
    "            feature_model1 = odbo.featurization.FewFeatureTransform(raw_vars=name_sele_temp, Y=Y_train_sele.detach().numpy(), method='Max', mode='hybrid')\n",
    "\n",
    "    X_test_sele= torch.tensor(feature_model1.transform(search_name_sele))\n",
    "    X_train_sele = torch.tensor(feature_model1.transform(name_sele_temp))\n",
    "    l = l + 1\n",
    "    \n",
    "np.save('results/GB1_2014/GB1_2014_ODBO_BO_RobustGP_batch1_{}.npy'.format(random_seed), np.log2(Y_train_sele))\n"
   ]
  },
  {
   "cell_type": "markdown",
   "metadata": {},
   "source": [
    "## ODBO, TuRBO"
   ]
  },
  {
   "cell_type": "code",
   "execution_count": null,
   "metadata": {
    "scrolled": true
   },
   "outputs": [
    {
     "name": "stdout",
     "output_type": "stream",
     "text": [
      "Prescreening size:  58211\n",
      "Iter:  0 Current Max:  3.401744910907966 TR length:  [6.4] Test max:  5.773617201642364 QYKLILNGKTLKGETTTQAVDAYTAEKVFKQYANDNGVDGEWTYDDATKTFTVTE\n",
      "Newly added value:  [[1.57808948]] QYKLILNGKTLKGETTTEAVDAATAEKVFKQYANDNGVDGEWTYDGYTKTFTVTE\n",
      "Iter:  1 Current Max:  3.401744910907966 TR length:  [6.4] Test max:  5.773617201642364 QYKLILNGKTLKGETTTQAVDAYTAEKVFKQYANDNGVDGEWTYDDATKTFTVTE\n",
      "Newly added value:  [[0.83391609]] QYKLILNGKTLKGETTTEAVDAATAEKVFKQYANDNGVGGEWTYGDATKTFTVTE\n",
      "Iter:  2 Current Max:  3.401744910907966 TR length:  [6.4] Test max:  5.773617201642364 QYKLILNGKTLKGETTTQAVDAYTAEKVFKQYANDNGVDGEWTYDDATKTFTVTE\n",
      "Newly added value:  [[0.56403359]] QYKLILNGKTLKGETTTEYVGAATAEKVFKQYANDNGVDGEWTYDDATKTFTVTE\n",
      "Iter:  3 Current Max:  3.401744910907966 TR length:  [6.4] Test max:  5.773617201642364 QYKLILNGKTLKGETTTQAVDAYTAEKVFKQYANDNGVDGEWTYDDATKTFTVTE\n",
      "Newly added value:  [[3.59885487]] AYKLILNGKTLKGETTTEAVDAYTAEKVFKQYANDNGVDGEWTYDDATKTFTVTE\n",
      "Iter:  4 Current Max:  3.5988548711069273 TR length:  [6.4] Test max:  5.773617201642364 QYKLILNGKTLKGETTTQAVDAYTAEKVFKQYANDNGVDGEWTYDDATKTFTVTE\n",
      "Newly added value:  [[0.07276172]] AYKLILNGKTLKGETTTEAVDYATAEKVFKQYANDNGVDGEWTYDDATKTFTVTE\n",
      "Iter:  5 Current Max:  3.5988548711069273 TR length:  [6.4] Test max:  5.773617201642364 QYKLILNGKTLKGETTTQAVDAYTAEKVFKQYANDNGVDGEWTYDDATKTFTVTE\n",
      "Newly added value:  [[0.03588175]] AYKLILNGKTLKGETTTEAVDAATYEKVFKQYANDNGVDGEWTYDDATKTFTVTE\n",
      "Iter:  6 Current Max:  3.5988548711069273 TR length:  [6.4] Test max:  5.773617201642364 QYKLILNGKTLKGETTTQAVDAYTAEKVFKQYANDNGVDGEWTYDDATKTFTVTE\n",
      "Newly added value:  [[0.9615708]] AYKLILNGKTLKGETTTEAVDAATAEKVFKAYANDNGVDGEWTYDDATKTFTVTE\n",
      "Iter:  7 Current Max:  3.5988548711069273 TR length:  [6.4] Test max:  5.773617201642364 QYKLILNGKTLKGETTTQAVDAYTAEKVFKQYANDNGVDGEWTYDDATKTFTVTE\n",
      "Newly added value:  [[3.53998279]] PYKLILNGKTLKGETTTEAVDAYTAEKVFKQYANDNGVDGEWTYDDATKTFTVTE\n",
      "Iter:  8 Current Max:  3.5988548711069273 TR length:  [6.4] Test max:  5.773617201642364 QYKLILNGKTLKGETTTQAVDAYTAEKVFKQYANDNGVDGEWTYDDATKTFTVTE\n",
      "Newly added value:  [[3.16701348]] QYKLYLNGKTLKGETTTEAVDAYTAEKVFKQYANDNGVDGEWTYDDATKTFTVTE\n",
      "Iter:  9 Current Max:  3.5988548711069273 TR length:  [6.4] Test max:  5.773617201642364 QYKLILNGKTLKGETTTQAVDAYTAEKVFKQYANDNGVDGEWTYDDATKTFTVTE\n",
      "Newly added value:  [[0.4305911]] QYKLILNGKTLKGETTTEAVDAYTAEKVFKPYANDNGVDGEWTYDDATKTFTVTE\n",
      "Iter:  10 Current Max:  3.5988548711069273 TR length:  [6.4] Test max:  5.773617201642364 QYKLILNGKTLKGETTTQAVDAYTAEKVFKQYANDNGVDGEWTYDDATKTFTVTE\n",
      "Newly added value:  [[2.57234736]] QYKLILNGKTLKGETTTEAVDAYTAEKVFKQYANDNGVDGEWTYDDATKTFIVTE\n",
      "Iter:  11 Current Max:  3.5988548711069273 TR length:  [6.4] Test max:  5.773617201642364 QYKLILNGKTLKGETTTQAVDAYTAEKVFKQYANDNGVDGEWTYDDATKTFTVTE\n",
      "Newly added value:  [[2.90361029]] QYKLILNGKTLKGEHTTEAVDAYTAEKVFKQYANDNGVDGEWTYDDATKTFTVTE\n",
      "Iter:  12 Current Max:  3.5988548711069273 TR length:  [6.4] Test max:  5.773617201642364 QYKLILNGKTLKGETTTQAVDAYTAEKVFKQYANDNGVDGEWTYDDATKTFTVTE\n",
      "Newly added value:  [[0.02237709]] QYKLILNGKTLKGEHTTEAVDAATATKVFKQYANDNGVDGEWTYDDATKTFTVTE\n",
      "Iter:  13 Current Max:  3.5988548711069273 TR length:  [6.4] Test max:  5.773617201642364 QYKLILNGKTLKGETTTQAVDAYTAEKVFKQYANDNGVDGEWTYDDATKTFTVTE\n",
      "Newly added value:  [[2.66334572]] QYKLILNGKTLKGETTTEAGDAYTAEKVFKQYANDNGVDGEWTYDDATKTFTVTE\n",
      "Iter:  14 Current Max:  3.5988548711069273 TR length:  [6.4] Test max:  5.773617201642364 QYKLILNGKTLKGETTTQAVDAYTAEKVFKQYANDNGVDGEWTYDDATKTFTVTE\n",
      "Newly added value:  [[2.95812667]] QYKLILNGKTLKGETTTEAVQAYTAEKVFKQYANDNGVDGEWTYDDATKTFTVTE\n",
      "Iter:  15 Current Max:  3.5988548711069273 TR length:  [6.4] Test max:  5.773617201642364 QYKLILNGKTLKGETTTQAVDAYTAEKVFKQYANDNGVDGEWTYDDATKTFTVTE\n",
      "Newly added value:  [[0.87554109]] QYKLILNGKTLKGETTTEAVQAATAEKVFKQYANDNGVDGEWTYDDATKTFTVIE\n",
      "Iter:  16 Current Max:  3.5988548711069273 TR length:  [6.4] Test max:  5.773617201642364 QYKLILNGKTLKGETTTQAVDAYTAEKVFKQYANDNGVDGEWTYDDATKTFTVTE\n",
      "Newly added value:  [[3.07096062]] LYKLILNGKTLKGETTTEAVDAYTAEKVFKQYANDNGVDGEWTYDDATKTFTVTE\n",
      "Iter:  17 Current Max:  3.5988548711069273 TR length:  [6.4] Test max:  5.773617201642364 QYKLILNGKTLKGETTTQAVDAYTAEKVFKQYANDNGVDGEWTYDDATKTFTVTE\n",
      "Newly added value:  [[0.86135636]] LYKLILNGKTLKGETTTEAVDAATAEKVFKQYANDNGVGGEWTYDDATKTFTVTE\n",
      "Iter:  18 Current Max:  3.5988548711069273 TR length:  [6.4] Test max:  5.773617201642364 QYKLILNGKTLKGETTTQAVDAYTAEKVFKQYANDNGVDGEWTYDDATKTFTVTE\n",
      "Newly added value:  [[0.05444651]] QYKDILNGKTLKGETTTEAVDAYTAEKVFKQYANDNGVDGEWTYDDATKTFTVTE\n",
      "Iter:  19 Current Max:  3.5988548711069273 TR length:  [6.4] Test max:  5.773617201642364 QYKLILNGKTLKGETTTQAVDAYTAEKVFKQYANDNGVDGEWTYDDATKTFTVTE\n",
      "Newly added value:  [[0.93802747]] AYKLILNGKTLKGETTTEAVDAATAEKVFKQYANDNGVDGEWTYDDATKTFIVTE\n",
      "Iter:  20 Current Max:  3.5988548711069273 TR length:  [6.4] Test max:  5.773617201642364 QYKLILNGKTLKGETTTQAVDAYTAEKVFKQYANDNGVDGEWTYDDATKTFTVTE\n",
      "Newly added value:  [[0.98561149]] QYKLILNGKTLKGETTTEAVDAYTAEKVFKQYYNDNGVDGEWTYDDATKTFTVTE\n",
      "Iter:  21 Current Max:  3.5988548711069273 TR length:  [6.4] Test max:  5.773617201642364 QYKLILNGKTLKGETTTQAVDAYTAEKVFKQYANDNGVDGEWTYDDATKTFTVTE\n",
      "Newly added value:  [[0.36721539]] QYKLILNGKTLKGETTTEAVDAYTAEKVFKQYANDNGGDGEWTYDDATKTFTVTE\n",
      "Iter:  22 Current Max:  3.5988548711069273 TR length:  [6.4] Test max:  5.773617201642364 QYKLILNGKTLKGETTTQAVDAYTAEKVFKQYANDNGVDGEWTYDDATKTFTVTE\n",
      "Newly added value:  [[3.0604587]] QYKLILNGKTLKGETTTEAVDAYTAEKVFKQYANDNGVDGEWTYDDATKTFTVTE\n",
      "Iter:  23 Current Max:  3.5988548711069273 TR length:  [6.4] Test max:  5.773617201642364 QYKLILNGKTLKGETTTQAVDAYTAEKVFKQYANDNGVDGEWTYDDATKTFTVTE\n",
      "Newly added value:  [[1.07254829]] PYTLILNGKTLKGETTTEAVDAATAEKVFKQYANDNGVDGEWTYDDATKTFTVTE\n",
      "Iter:  24 Current Max:  3.5988548711069273 TR length:  [3.2] Test max:  5.773617201642364 QYKLILNGKTLKGETTTQAVDAYTAEKVFKQYANDNGVDGEWTYDDATKTFTVTE\n",
      "Newly added value:  [[2.8620269]] QYKLRLNGKTLKGETTTEAVDAYTAEKVFKQYANDNGVDGEWTYDDATKTFTVTE\n",
      "Iter:  25 Current Max:  3.5988548711069273 TR length:  [3.2] Test max:  5.773617201642364 QYKLILNGKTLKGETTTQAVDAYTAEKVFKQYANDNGVDGEWTYDDATKTFTVTE\n",
      "Newly added value:  [[3.36899044]] QYKLILNGKTLKGETTTEAVDAYTAEKVFKQYANDNGVDGTWTYDDATKTFTVTE\n",
      "Iter:  26 Current Max:  3.5988548711069273 TR length:  [3.2] Test max:  5.773617201642364 QYKLILNGKTLKGETTTQAVDAYTAEKVFKQYANDNGVDGEWTYDDATKTFTVTE\n",
      "Newly added value:  [[1.01001248]] QYKLILNGKTLKGETTTEAVDAATAEKVFKQYANDNGVGGTWTYDDATKTFTVTE\n",
      "Iter:  27 Current Max:  3.5988548711069273 TR length:  [3.2] Test max:  5.773617201642364 QYKLILNGKTLKGETTTQAVDAYTAEKVFKQYANDNGVDGEWTYDDATKTFTVTE\n",
      "Newly added value:  [[2.88938994]] QYKLILNGKTLKGETTTEAVDAYTAEKVFKQYANDNGVQGEWTYDDATKTFTVTE\n",
      "Iter:  28 Current Max:  3.5988548711069273 TR length:  [3.2] Test max:  5.773617201642364 QYKLILNGKTLKGETTTQAVDAYTAEKVFKQYANDNGVDGEWTYDDATKTFTVTE\n",
      "Newly added value:  [[1.14139704]] LYKLILNGKTLKGETTTEAVDAATAEKVFKQYANDNGVQGEWTYDDATKTFTVTE\n",
      "Iter:  29 Current Max:  3.5988548711069273 TR length:  [3.2] Test max:  5.773617201642364 QYKLILNGKTLKGETTTQAVDAYTAEKVFKQYANDNGVDGEWTYDDATKTFTVTE\n",
      "Newly added value:  [[0.0415096]] QYKDILNGKTLKGETTTEAVDAATAEKVFKQYANDNGVDGEWTYDDATKTFTVME\n",
      "Iter:  30 Current Max:  3.5988548711069273 TR length:  [3.2] Test max:  5.773617201642364 QYKLILNGKTLKGETTTQAVDAYTAEKVFKQYANDNGVDGEWTYDDATKTFTVTE\n",
      "Newly added value:  [[0.03636095]] QYKDILNGKTLKGETTTEAVDAATAEKVFKQYANDNGVDGEWTYDDATKTFIVTE\n",
      "Iter:  31 Current Max:  3.5988548711069273 TR length:  [3.2] Test max:  5.773617201642364 QYKLILNGKTLKGETTTQAVDAYTAEKVFKQYANDNGVDGEWTYDDATKTFTVTE\n",
      "Newly added value:  [[2.77546696]] QYKLILNGKTLKGETTTEAVDAYTAEKVFKQYANDNGVDGEWTYDDATKTFTVTT\n",
      "Iter:  32 Current Max:  3.5988548711069273 TR length:  [3.2] Test max:  5.773617201642364 QYKLILNGKTLKGETTTQAVDAYTAEKVFKQYANDNGVDGEWTYDDATKTFTVTE\n",
      "Newly added value:  [[0.62544397]] PYKLILNGKTLKGETTTEAVDAATAEKVFKQYANDNGVDGEWTYDDATKTFTVTT\n",
      "Iter:  33 Current Max:  3.5988548711069273 TR length:  [3.2] Test max:  5.773617201642364 QYKLILNGKTLKGETTTQAVDAYTAEKVFKQYANDNGVDGEWTYDDATKTFTVTE\n",
      "Newly added value:  [[1.90582277]] QYKLILNGKTLKGETTTEAVDAYTAEKVFKQYANDNGVDGEWTYDDATKTFTVTN\n",
      "Iter:  34 Current Max:  3.5988548711069273 TR length:  [3.2] Test max:  5.773617201642364 QYKLILNGKTLKGETTTQAVDAYTAEKVFKQYANDNGVDGEWTYDDATKTFTVTE\n"
     ]
    },
    {
     "name": "stdout",
     "output_type": "stream",
     "text": [
      "Newly added value:  [[1.96187657]] QYKLILNGKTLKGETTTEAVDAYTAEKVFKQYANDNGVDGEWTYDDATKTFTGTE\n",
      "Iter:  35 Current Max:  3.5988548711069273 TR length:  [3.2] Test max:  5.773617201642364 QYKLILNGKTLKGETTTQAVDAYTAEKVFKQYANDNGVDGEWTYDDATKTFTVTE\n",
      "Newly added value:  [[1.35552661]] QYKLYLNGKTLKGETTTEAVDAATAEKVFKQYANDNGVDGEWTYDDITKTFTVTE\n",
      "Iter:  36 Current Max:  3.5988548711069273 TR length:  [3.2] Test max:  5.773617201642364 QYKLILNGKTLKGETTTQAVDAYTAEKVFKQYANDNGVDGEWTYDDATKTFTVTE\n",
      "Newly added value:  [[3.76363284]] QYKLILNGKTLKGETTTEAVDAYTAEKVFKQYANDNGVDGEWTYDDITKTFTVTE\n",
      "Iter:  37 Current Max:  3.763632836566744 TR length:  [3.2] Test max:  5.773617201642364 QYKLILNGKTLKGETTTQAVDAYTAEKVFKQYANDNGVDGEWTYDDATKTFTVTE\n",
      "Newly added value:  [[0.2272628]] QYKLILNGKTLKGETTTEAVDIITAEKVFKQYANDNGVDGEWTYDDATKTFTVTE\n",
      "Iter:  38 Current Max:  3.763632836566744 TR length:  [3.2] Test max:  5.773617201642364 QYKLILNGKTLKGETTTQAVDAYTAEKVFKQYANDNGVDGEWTYDDATKTFTVTE\n",
      "Newly added value:  [[1.38657807]] QYKLILNGKTLKGETTTEAVDAYTIEKVFKQYANDNGVDGEWTYDDATKTFTVTE\n",
      "Iter:  39 Current Max:  3.763632836566744 TR length:  [3.2] Test max:  5.773617201642364 QYKLILNGKTLKGETTTQAVDAYTAEKVFKQYANDNGVDGEWTYDDATKTFTVTE\n",
      "Newly added value:  [[2.16001117]] QYKLILNGKTLKGETTTEIVDAYTAEKVFKQYANDNGVDGEWTYDDATKTFTVTE\n",
      "Iter:  40 Current Max:  3.763632836566744 TR length:  [3.2] Test max:  5.773617201642364 QYKLILNGKTLKGETTTQAVDAYTAEKVFKQYANDNGVDGEWTYDDATKTFTVTE\n",
      "Newly added value:  [[2.87272454]] QYKLILNGKTLKGETTTEAVDAYTAEKVFKQYANDNGVDGEWTYDDAHKTFTVTE\n",
      "Iter:  41 Current Max:  3.763632836566744 TR length:  [3.2] Test max:  5.773617201642364 QYKLILNGKTLKGETTTQAVDAYTAEKVFKQYANDNGVDGEWTYDDATKTFTVTE\n",
      "Newly added value:  [[1.06242141]] QYKLILNGKTLKGETTTEAVDAATAEKVFKQYANDNGVDGEWTYDDIHKTFTVTE\n",
      "Iter:  42 Current Max:  3.763632836566744 TR length:  [3.2] Test max:  5.773617201642364 QYKLILNGKTLKGETTTQAVDAYTAEKVFKQYANDNGVDGEWTYDDATKTFTVTE\n",
      "Newly added value:  [[3.15328953]] QYKLILNGKTLKGETTTEAVDAYTAEKVFKQYANDNGVDGEWHYDDATKTFTVTE\n",
      "Iter:  43 Current Max:  3.763632836566744 TR length:  [3.2] Test max:  5.773617201642364 QYKLILNGKTLKGETTTQAVDAYTAEKVFKQYANDNGVDGEWTYDDATKTFTVTE\n"
     ]
    }
   ],
   "source": [
    "X_train_sele, Y_train_sele = torch.tensor(X_train), torch.tensor(Y_train.reshape(len(Y_train),1))\n",
    "sele_id_test = list(np.where(pred_test_labels == 0)[0])\n",
    "search_name_sele, name_sele_temp = name[sele_id_test, :], name_sele\n",
    "X_test_sele, Y_test_sele = torch.tensor(X_test[sele_id_test, :]), torch.tensor(Y_test[sele_id_test].reshape(len(sele_id_test),1))\n",
    "print(\"Prescreening size: \", len(sele_id_test))\n",
    "l, search_iter = 0, 100\n",
    "gp_method='gp_regression'\n",
    "tr_length = [6.4]\n",
    "batch_size = 1\n",
    "failure_count = 0\n",
    "state = odbo.turbo.TurboState(dim=X_train_sele.shape[1], batch_size=batch_size, length=tr_length, n_trust_regions=len(tr_length), failure_tolerance = 20)\n",
    "state.best_value = Y_train_sele.max()\n",
    "while l < search_iter:\n",
    "    print(\"Iter: \", l, \"Current Max: \", Y_train_sele.max().detach().numpy(), 'TR length: ', state.length, \"Test max: \", Y_test_sele.max().detach().numpy(),  ''.join(search_name_sele[torch.argmax(Y_test_sele), :]))\n",
    "    top_ids = np.argsort(Y_train_sele.numpy().ravel())[-40-l:]\n",
    "    sele_feat = []\n",
    "    for i in range(X_train_sele.shape[1]):\n",
    "        if (X_train_sele[top_ids,i]-X_train_sele[0,i]).any() !=0:\n",
    "            sele_feat.append(i)\n",
    "    X_sele = X_train_sele[:,sele_feat]\n",
    "    X_test_sele=X_test_sele[:, sele_feat]\n",
    "    X_test_sele = torch.cat([X_test_sele, X_test_sele[:, [1,0,3,2]]])\n",
    "    X_sele = torch.cat([X_sele[top_ids, :], X_sele[top_ids, :][:, [1,0,3,2]]])\n",
    "    Y_sele = torch.cat([Y_train_sele[top_ids], Y_train_sele[top_ids]])\n",
    "    X_next, acq_value, raw_next_exp_id = odbo.turbo_design(state=state, X=X_sele, Y=Y_sele, X_pending=X_test_sele, n_trust_regions=len(tr_length), batch_size=batch_size, gp_method=gp_method)\n",
    "    Y_next_m = torch.zeros((len(tr_length), batch_size, 1), device=Y_train_sele.device, dtype=Y_train_sele.dtype)\n",
    "    raw_next_exp_id = raw_next_exp_id % len(Y_test_sele)\n",
    "    next_exp_id = []  \n",
    "    for i in range(batch_size):\n",
    "        next_exp_id_m = raw_next_exp_id[:, i]\n",
    "        Y_next_m[:, i, 0], idtoadd = Y_test_sele[next_exp_id_m].reshape(len(tr_length)), next_exp_id_m[np.argmax(Y_test_sele[next_exp_id_m])]\n",
    "        next_exp_id.append(idtoadd)\n",
    "    Y_train_sele = torch.cat([Y_train_sele, Y_test_sele[next_exp_id]])\n",
    "    ids_keep = list(np.delete(range(Y_test_sele.shape[0]), next_exp_id))\n",
    "    Y_test_sele = Y_test_sele[ids_keep]\n",
    "    name_sele_temp = np.concatenate((name_sele_temp, search_name_sele[next_exp_id]))\n",
    "    search_name_sele = search_name_sele[ids_keep]\n",
    "    print(\"Newly added value: \", Y_train_sele[-batch_size:].detach().numpy(), ''.join(name_sele_temp[-1, :]))\n",
    "    state = odbo.turbo.update_state(state=state, Y_next=Y_next_m)\n",
    "    if Y_train_sele[-batch_size:].detach().numpy().max() > Y_train_sele[:-batch_size].max():\n",
    "        failure_count = 0\n",
    "        feature_model1 = odbo.featurization.FewFeatureTransform(raw_vars=name_sele_temp, Y=Y_train_sele.detach().numpy(), method='Max', mode='hybrid')\n",
    "    else:\n",
    "        failure_count = failure_count + 1\n",
    "        if failure_count >= 3:\n",
    "            feature_model1 = odbo.featurization.FewFeatureTransform(raw_vars=name_sele_temp, Y=Y_train_sele.detach().numpy(), method='Avg', mode='hybrid')\n",
    "        else:\n",
    "            feature_model1 = odbo.featurization.FewFeatureTransform(raw_vars=name_sele_temp, Y=Y_train_sele.detach().numpy(), method='Max', mode='hybrid')\n",
    "    X_test_sele= torch.tensor(feature_model1.transform(search_name_sele))\n",
    "    X_train_sele = torch.tensor(feature_model1.transform(name_sele_temp))\n",
    "    l = l + 1\n",
    "np.save('results/GB1_2014/GB1_2014_ODBO_TuRBO_GP_batch1_{}.npy'.format(random_seed), np.log2(Y_train_sele))\n",
    "\n"
   ]
  },
  {
   "cell_type": "markdown",
   "metadata": {},
   "source": [
    "## Random selection"
   ]
  },
  {
   "cell_type": "code",
   "execution_count": 29,
   "metadata": {},
   "outputs": [
    {
     "name": "stdout",
     "output_type": "stream",
     "text": [
      "Max Y 3.0781958899755852\n"
     ]
    }
   ],
   "source": [
    "sele_Y = list(np.random.choice(Y_test, 100, replace = False))\n",
    "Y_train_sele = list(Y_train.copy())\n",
    "Y_train_sele.extend(sele_Y)\n",
    "print('Max Y', max(sele_Y))\n",
    "np.save('results/GB1_2014/GB1_2014_random_{}.npy'.format(random_seed), np.log2(Y_train_sele))"
   ]
  },
  {
   "cell_type": "code",
   "execution_count": null,
   "metadata": {},
   "outputs": [],
   "source": []
  }
 ],
 "metadata": {
  "kernelspec": {
   "display_name": "my-env-kernel",
   "language": "python",
   "name": "my-env-kernel"
  },
  "language_info": {
   "codemirror_mode": {
    "name": "ipython",
    "version": 3
   },
   "file_extension": ".py",
   "mimetype": "text/x-python",
   "name": "python",
   "nbconvert_exporter": "python",
   "pygments_lexer": "ipython3",
   "version": "3.7.11"
  }
 },
 "nbformat": 4,
 "nbformat_minor": 2
}
