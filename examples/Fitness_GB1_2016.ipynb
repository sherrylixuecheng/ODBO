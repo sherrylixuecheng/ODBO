{
 "cells": [
  {
   "cell_type": "code",
   "execution_count": 1,
   "metadata": {},
   "outputs": [],
   "source": [
    "import numpy as np\n",
    "import pandas as pd\n",
    "import odbo"
   ]
  },
  {
   "cell_type": "markdown",
   "metadata": {},
   "source": [
    "## Data loading and adapt search space"
   ]
  },
  {
   "cell_type": "code",
   "execution_count": 2,
   "metadata": {
    "scrolled": true
   },
   "outputs": [
    {
     "name": "stderr",
     "output_type": "stream",
     "text": [
      "/usr/local/lib/python3.7/site-packages/pyod/models/base.py:349: UserWarning: y should not be presented in unsupervised learning.\n",
      "  \"y should not be presented in unsupervised learning.\")\n",
      "/usr/local/lib/python3.7/site-packages/xgboost/sklearn.py:1146: UserWarning: The use of label encoder in XGBClassifier is deprecated and will be removed in a future release. To remove this warning, do the following: 1) Pass option use_label_encoder=False when constructing XGBClassifier object; and 2) Encode your labels (y) as integers starting with 0, i.e. 0, 1, 2, ..., [num_class - 1].\n",
      "  warnings.warn(label_encoder_deprecation_msg, UserWarning)\n"
     ]
    },
    {
     "name": "stdout",
     "output_type": "stream",
     "text": [
      "[20:19:49] WARNING: /Users/travis/build/dmlc/xgboost/src/learner.cc:573: \n",
      "Parameters: { \"silent\" } might not be used.\n",
      "\n",
      "  This may not be accurate due to some parameters are only used in language bindings but\n",
      "  passed down to XGBoost core.  Or some parameters are not used but slip through this\n",
      "  verification. Please open an issue if you find above cases.\n",
      "\n",
      "\n"
     ]
    }
   ],
   "source": [
    "threshold = 0.05\n",
    "data_train = pd.read_csv('../datasets/GB1_2016_384.csv', sep=',')\n",
    "np.random.seed(0)\n",
    "\n",
    "#load data\n",
    "name_pre, Y_train = np.array(data_train['AACombo']), np.array(data_train['Fitness'])\n",
    "name = odbo.utils.code_to_array(name_pre)\n",
    "\n",
    "# Using average measurement results as features\n",
    "feature_model = odbo.featurization.AvgMeasurement(raw_vars=name, Y=Y_train)\n",
    "X_train = feature_model.transform(name)\n",
    "\n",
    "# Find the adaptive search space model\n",
    "labels_train = odbo.prescreening.sp_label(X_train, Y_train, thres=threshold)\n",
    "pre_model = odbo.prescreening.XGBOD(eval_metric = 'error')\n",
    "pre_model.fit(X_train, labels_train)\n",
    "pred_labels = pre_model.predict(X_train)"
   ]
  },
  {
   "cell_type": "code",
   "execution_count": 3,
   "metadata": {},
   "outputs": [],
   "source": [
    "# Predict the adaptive search space of the problem\n",
    "data_test = pd.read_csv('../datasets/GB1_2016_149361.csv', sep=',')\n",
    "name_pre, Y_test = np.array(data_test['AACombo']), np.array(data_test['Fitness'])\n",
    "name = odbo.utils.code_to_array(name_pre)\n",
    "X_test = feature_model.transform(name)\n",
    "labels_test = odbo.prescreening.sp_label(X_test, Y_test, thres=0.05)\n",
    "pred_test_labels = pre_model.predict(X_test)\n"
   ]
  },
  {
   "cell_type": "code",
   "execution_count": 4,
   "metadata": {
    "scrolled": true
   },
   "outputs": [
    {
     "name": "stdout",
     "output_type": "stream",
     "text": [
      "Correct ratio: 92.388%\n",
      "FN ratio: 5.739%\n",
      "FP ratio: 1.873%\n"
     ]
    },
    {
     "data": {
      "image/png": "[encoded data removed]",
      "text/plain": [
       "<Figure size 432x288 with 2 Axes>"
      ]
     },
     "metadata": {},
     "output_type": "display_data"
    }
   ],
   "source": [
    "# Plot the confusion matrix to check the accuracy of search space prescreening\n",
    "out_outlier, in_outlier, out_inlier, in_inlier = odbo.plot.plot_cm(labels_test, pred_test_labels, Y_test)\n",
    "print(\"Correct ratio: {0:.3%}\".format((len(out_outlier)+len(in_inlier))/len(labels_test)))\n",
    "print(\"FN ratio: {0:.3%}\".format(len(out_inlier)/len(labels_test)))\n",
    "print(\"FP ratio: {0:.3%}\".format(len(in_outlier)/len(labels_test)))  \n"
   ]
  },
  {
   "cell_type": "markdown",
   "metadata": {},
   "source": [
    "## BO for next best experiment"
   ]
  },
  {
   "cell_type": "code",
   "execution_count": 24,
   "metadata": {
    "scrolled": true
   },
   "outputs": [
    {
     "name": "stdout",
     "output_type": "stream",
     "text": [
      "20309\n",
      "torch.Size([40, 4]) torch.Size([40, 1]) torch.Size([20309, 4]) torch.Size([20309, 1])\n"
     ]
    }
   ],
   "source": [
    "import torch\n",
    "# Pick the Top 40 init experiment from the 384 experiments\n",
    "sele_id = np.argsort(Y_train)[-40:]\n",
    "X_train_sele, Y_train_sele = torch.tensor(X_train[sele_id, :]), torch.tensor(Y_train[sele_id].reshape(40,1))\n",
    "# Only search the space after prescreening\n",
    "sele_id_test = []\n",
    "sele_id_test.extend(in_inlier)\n",
    "sele_id_test.extend(out_inlier)\n",
    "print(len(sele_id_test))\n",
    "X_test_sele, Y_test_sele = torch.tensor(X_test[sele_id_test, :]), torch.tensor(Y_test[sele_id_test].reshape(len(sele_id_test),1))\n",
    "print(X_train_sele.shape, Y_train_sele.shape, X_test_sele.shape, Y_test_sele.shape)\n"
   ]
  },
  {
   "cell_type": "code",
   "execution_count": 22,
   "metadata": {},
   "outputs": [],
   "source": [
    "from botorch.fit import fit_gpytorch_model\n",
    "from botorch.optim.fit import fit_gpytorch_torch, fit_gpytorch_scipy\n",
    "import gpytorch\n",
    "def GPRegression(X,\n",
    "                 Y,\n",
    "                 likelihood = None,\n",
    "                 noise_constraint=gpytorch.constraints.Interval(1e-6, 1e-2),\n",
    "                 min_inferred_noise_level=1e-4,\n",
    "                 **kwargs):\n",
    "    from gpytorch.mlls import ExactMarginalLogLikelihood\n",
    "    from gpytorch.likelihoods import GaussianLikelihood\n",
    "    from botorch.fit import fit_gpytorch_model\n",
    "    model = odbo.gp.GP(\n",
    "        X,\n",
    "        Y,\n",
    "        likelihood=likelihood,\n",
    "        min_inferred_noise_level=min_inferred_noise_level,\n",
    "        **kwargs)\n",
    "    mll = ExactMarginalLogLikelihood(model.likelihood, model)\n",
    "    mll.train()\n",
    "    fit_gpytorch_torch(mll, options={'maxiter': 500})\n",
    "    mll.eval()     \n",
    "    return model"
   ]
  },
  {
   "cell_type": "code",
   "execution_count": 23,
   "metadata": {
    "scrolled": true
   },
   "outputs": [
    {
     "name": "stdout",
     "output_type": "stream",
     "text": [
      "Iter:  0 Current Max:  2.9791068\n",
      "Iter:  1 Current Max:  2.9791068\n",
      "Iter:  2 Current Max:  3.566115248\n",
      "Iter:  3 Current Max:  3.566115248\n",
      "Iter:  4 Current Max:  5.360053561\n",
      "Iter:  5 Current Max:  5.618708364\n",
      "Iter 10/500: 1.630288707177583\n",
      "Iter 20/500: 1.5357340239157315\n"
     ]
    },
    {
     "name": "stderr",
     "output_type": "stream",
     "text": [
      "/usr/local/lib/python3.7/site-packages/gpytorch/utils/cholesky.py:44: NumericalWarning: A not p.d., added jitter of 1.0e-08 to the diagonal\n",
      "  warnings.warn(f\"A not p.d., added jitter of {jitter_new:.1e} to the diagonal\", NumericalWarning)\n",
      "/usr/local/lib/python3.7/site-packages/gpytorch/utils/cholesky.py:44: NumericalWarning: A not p.d., added jitter of 1.0e-07 to the diagonal\n",
      "  warnings.warn(f\"A not p.d., added jitter of {jitter_new:.1e} to the diagonal\", NumericalWarning)\n",
      "/usr/local/lib/python3.7/site-packages/gpytorch/utils/cholesky.py:44: NumericalWarning: A not p.d., added jitter of 1.0e-06 to the diagonal\n",
      "  warnings.warn(f\"A not p.d., added jitter of {jitter_new:.1e} to the diagonal\", NumericalWarning)\n"
     ]
    },
    {
     "name": "stdout",
     "output_type": "stream",
     "text": [
      "Iter 30/500: 1.4373630136584679\n",
      "Iter 40/500: 1.3249779206681846\n",
      "Iter 50/500: 1.2952652805280362\n",
      "Iter 60/500: 1.251788480765303\n",
      "Iter:  6 Current Max:  5.618708364\n",
      "Iter:  7 Current Max:  5.618708364\n",
      "Iter:  8 Current Max:  5.618708364\n",
      "Iter:  9 Current Max:  5.618708364\n",
      "Iter:  10 Current Max:  6.044237145\n",
      "Iter:  11 Current Max:  6.044237145\n",
      "Iter:  12 Current Max:  6.044237145\n",
      "Iter:  13 Current Max:  6.044237145\n",
      "Iter:  14 Current Max:  6.044237145\n",
      "Iter:  15 Current Max:  6.044237145\n",
      "Iter:  16 Current Max:  6.044237145\n",
      "Iter:  17 Current Max:  6.044237145\n",
      "Iter:  18 Current Max:  6.044237145\n",
      "Iter:  19 Current Max:  6.044237145\n",
      "Iter:  20 Current Max:  6.044237145\n",
      "Iter:  21 Current Max:  6.044237145\n",
      "Iter:  22 Current Max:  6.044237145\n",
      "Iter:  23 Current Max:  6.044237145\n",
      "Iter:  24 Current Max:  6.044237145\n",
      "Iter:  25 Current Max:  6.044237145\n",
      "Iter:  26 Current Max:  6.044237145\n",
      "Iter:  27 Current Max:  6.044237145\n",
      "Iter:  28 Current Max:  6.044237145\n",
      "Iter:  29 Current Max:  6.044237145\n",
      "Iter:  30 Current Max:  6.044237145\n",
      "Iter:  31 Current Max:  6.044237145\n",
      "Iter:  32 Current Max:  6.044237145\n",
      "Iter:  33 Current Max:  6.044237145\n",
      "Iter:  34 Current Max:  6.044237145\n",
      "Iter:  35 Current Max:  6.044237145\n",
      "Iter:  36 Current Max:  6.044237145\n"
     ]
    },
    {
     "ename": "KeyboardInterrupt",
     "evalue": "",
     "output_type": "error",
     "traceback": [
      "\u001b[0;31m---------------------------------------------------------------------------\u001b[0m",
      "\u001b[0;31mKeyboardInterrupt\u001b[0m                         Traceback (most recent call last)",
      "\u001b[0;32m<ipython-input-23-204d398b857f>\u001b[0m in \u001b[0;36m<module>\u001b[0;34m()\u001b[0m\n\u001b[1;32m     34\u001b[0m         \u001b[0mids_keep\u001b[0m \u001b[0;34m=\u001b[0m \u001b[0;34m[\u001b[0m\u001b[0;34m]\u001b[0m\u001b[0;34m\u001b[0m\u001b[0;34m\u001b[0m\u001b[0m\n\u001b[1;32m     35\u001b[0m         \u001b[0;32mfor\u001b[0m \u001b[0mi\u001b[0m \u001b[0;32min\u001b[0m \u001b[0mrange\u001b[0m\u001b[0;34m(\u001b[0m\u001b[0mlen\u001b[0m\u001b[0;34m(\u001b[0m\u001b[0mY_test_sele\u001b[0m\u001b[0;34m)\u001b[0m\u001b[0;34m)\u001b[0m\u001b[0;34m:\u001b[0m\u001b[0;34m\u001b[0m\u001b[0;34m\u001b[0m\u001b[0m\n\u001b[0;32m---> 36\u001b[0;31m             \u001b[0;32mif\u001b[0m \u001b[0mtorch\u001b[0m\u001b[0;34m.\u001b[0m\u001b[0mequal\u001b[0m\u001b[0;34m(\u001b[0m\u001b[0mX_next\u001b[0m\u001b[0;34m.\u001b[0m\u001b[0mdetach\u001b[0m\u001b[0;34m(\u001b[0m\u001b[0;34m)\u001b[0m\u001b[0;34m,\u001b[0m \u001b[0mX_test_sele_norm\u001b[0m\u001b[0;34m[\u001b[0m\u001b[0mi\u001b[0m\u001b[0;34m:\u001b[0m\u001b[0mi\u001b[0m\u001b[0;34m+\u001b[0m\u001b[0;36m1\u001b[0m\u001b[0;34m,\u001b[0m \u001b[0;34m:\u001b[0m\u001b[0;34m]\u001b[0m\u001b[0;34m.\u001b[0m\u001b[0mdetach\u001b[0m\u001b[0;34m(\u001b[0m\u001b[0;34m)\u001b[0m\u001b[0;34m)\u001b[0m\u001b[0;34m:\u001b[0m\u001b[0;34m\u001b[0m\u001b[0;34m\u001b[0m\u001b[0m\n\u001b[0m\u001b[1;32m     37\u001b[0m                 \u001b[0mnext_exp_id\u001b[0m \u001b[0;34m=\u001b[0m \u001b[0mi\u001b[0m\u001b[0;34m\u001b[0m\u001b[0;34m\u001b[0m\u001b[0m\n\u001b[1;32m     38\u001b[0m                 \u001b[0;32mif\u001b[0m \u001b[0mverbose\u001b[0m \u001b[0;34m==\u001b[0m \u001b[0;32mTrue\u001b[0m\u001b[0;34m:\u001b[0m\u001b[0;34m\u001b[0m\u001b[0;34m\u001b[0m\u001b[0m\n",
      "\u001b[0;31mKeyboardInterrupt\u001b[0m: "
     ]
    }
   ],
   "source": [
    "## Will move to a function in the source code\n",
    "import botorch\n",
    "import torch\n",
    "import botorch.acquisition as acqf\n",
    "from gpytorch.utils.errors import NanError, NotPSDError\n",
    "\n",
    "method = 'BO'\n",
    "search_iter = 50\n",
    "batch_size = 1\n",
    "bo_method = 'BO'\n",
    "gp_method = 'singletask'\n",
    "verbose = False\n",
    "min_inferred_noise_level = 1e-4\n",
    "\n",
    "if bo_method == 'BO' and gp_method == 'singletask':\n",
    "    l = 0\n",
    "    while l < search_iter:\n",
    "        print(\"Iter: \", l, \"Current Max: \", Y_train_sele.max().detach().numpy())\n",
    "        X_train_sele_norm, Y_train_sele_norm, X_test_sele_norm, stats = odbo.utils.normalize_data(X_train_sele, \n",
    "                                                                           Y_train_sele, X_pending=X_test_sele)\n",
    "        while True:\n",
    "            try:\n",
    "                gp_model = odbo.regressions.GPRegression(X_train_sele_norm, Y_train_sele_norm, min_inferred_noise_level = min_inferred_noise_level)\n",
    "                break\n",
    "            except NotPSDError:\n",
    "#                gp_model = odbo.regressions.GPRegression(X_train_sele_norm, Y_train_sele_norm, min_inferred_noise_level = min_inferred_noise_level*10, optimizer = 'fit_gpytorch_torch')\n",
    "                gp_model = GPRegression(X_train_sele_norm, Y_train_sele_norm, min_inferred_noise_level = min_inferred_noise_level)\n",
    "                print('The scipy optimizer and minimum inferred noises cannot make the kernel PSD, switch to torch optimizer')\n",
    "                break\n",
    "\n",
    "\n",
    "        X_next, acq_value = odbo.bo.generate_batch(model = gp_model, X=X_train_sele_norm, \n",
    "                                               Y=Y_train_sele_norm, batch_size=batch_size,\n",
    "                                               X_pending=X_test_sele_norm)\n",
    "        ids_keep = []\n",
    "        for i in range(len(Y_test_sele)):\n",
    "            if torch.equal(X_next.detach(), X_test_sele_norm[i:i+1, :].detach()):\n",
    "                next_exp_id = i\n",
    "                if verbose == True:\n",
    "                    print(\"Next experiment to pick: \", X_test_sele[i,:].detach().numpy(), \"Acqusition value: \", acq_value.detach().numpy())\n",
    "                    print(\"Newly added value: \", Y_test_sele[i].detach().numpy())\n",
    "            else:\n",
    "                ids_keep.append(i)\n",
    "        X_train_sele, Y_train_sele = torch.cat([X_train_sele, X_test_sele[next_exp_id:next_exp_id+1, :]]), torch.cat([Y_train_sele, Y_test_sele[next_exp_id:next_exp_id+1]])\n",
    "        X_test_sele, Y_test_sele = X_test_sele[ids_keep, :], Y_test_sele[ids_keep]\n",
    "        l = l + 1\n"
   ]
  },
  {
   "cell_type": "code",
   "execution_count": null,
   "metadata": {},
   "outputs": [],
   "source": []
  }
 ],
 "metadata": {
  "kernelspec": {
   "display_name": "Python 3",
   "language": "python",
   "name": "python3"
  },
  "language_info": {
   "codemirror_mode": {
    "name": "ipython",
    "version": 3
   },
   "file_extension": ".py",
   "mimetype": "text/x-python",
   "name": "python",
   "nbconvert_exporter": "python",
   "pygments_lexer": "ipython3",
   "version": "3.7.4"
  }
 },
 "nbformat": 4,
 "nbformat_minor": 2
}
