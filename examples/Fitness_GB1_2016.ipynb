{
 "cells": [
  {
   "cell_type": "code",
   "execution_count": null,
   "metadata": {},
   "outputs": [],
   "source": [
    "import numpy as np\n",
    "import torch\n",
    "import pandas as pd\n",
    "import odbo"
   ]
  },
  {
   "cell_type": "markdown",
   "metadata": {},
   "source": [
    "## Data loading and adapt search space"
   ]
  },
  {
   "cell_type": "code",
   "execution_count": null,
   "metadata": {
    "scrolled": true
   },
   "outputs": [],
   "source": [
    "threshold = 0.05\n",
    "data_train = pd.read_csv('../datasets/GB1_2016_384.csv', sep=',')\n",
    "random_seed = 100\n",
    "\n",
    "np.random.seed(random_seed)\n",
    "\n",
    "#load data\n",
    "name_pre, Y_train = np.array(data_train['AACombo']), np.array(data_train['Fitness'])\n",
    "name = odbo.utils.code_to_array(name_pre)\n",
    "\n",
    "# Using average measurement results as features\n",
    "feature_model = odbo.featurization.AvgMeasurement(raw_vars=name, Y=Y_train)\n",
    "X_train = feature_model.transform(name)\n",
    "\n",
    "# Find the adaptive search space model\n",
    "labels_train = odbo.prescreening.sp_label(X_train, Y_train, thres=threshold)\n",
    "pre_model = odbo.prescreening.XGBOD(eval_metric = 'error')\n",
    "pre_model.fit(X_train, labels_train)\n",
    "pred_labels = pre_model.predict(X_train)"
   ]
  },
  {
   "cell_type": "code",
   "execution_count": null,
   "metadata": {},
   "outputs": [],
   "source": [
    "# Predict the adaptive search space of the problem\n",
    "data_test = pd.read_csv('../datasets/GB1_2016_149361.csv', sep=',')\n",
    "name_pre, Y_test = np.array(data_test['AACombo']), np.array(data_test['Fitness'])\n",
    "name = odbo.utils.code_to_array(name_pre)\n",
    "X_test = feature_model.transform(name)\n",
    "labels_test = odbo.prescreening.sp_label(X_test, Y_test, thres=0.05)\n",
    "pred_test_labels = pre_model.predict(X_test)\n"
   ]
  },
  {
   "cell_type": "code",
   "execution_count": null,
   "metadata": {
    "scrolled": true
   },
   "outputs": [],
   "source": [
    "# Plot the confusion matrix to check the accuracy of search space prescreening\n",
    "out_outlier, in_outlier, out_inlier, in_inlier = odbo.plot.plot_cm(labels_test, pred_test_labels, Y_test)\n",
    "print(\"Correct ratio: {0:.3%}\".format((len(out_outlier)+len(in_inlier))/len(labels_test)))\n",
    "print(\"FN ratio: {0:.3%}\".format(len(out_inlier)/len(labels_test)))\n",
    "print(\"FP ratio: {0:.3%}\".format(len(in_outlier)/len(labels_test)))  \n"
   ]
  },
  {
   "cell_type": "markdown",
   "metadata": {},
   "source": [
    "## BO for next best experiment"
   ]
  },
  {
   "cell_type": "code",
   "execution_count": null,
   "metadata": {
    "scrolled": true
   },
   "outputs": [],
   "source": [
    "# Pick the Top 40 init experiment from the 384 experiments\n",
    "sele_id = np.argsort(Y_train)[-40:]\n",
    "X_train_sele, Y_train_sele = torch.tensor(X_train[sele_id, :]), torch.tensor(Y_train[sele_id].reshape(40,1))\n",
    "# Only search the space after prescreening\n",
    "sele_id_test = []\n",
    "sele_id_test.extend(in_inlier)\n",
    "sele_id_test.extend(out_inlier)\n",
    "X_test_sele, Y_test_sele = torch.tensor(X_test[sele_id_test, :]), torch.tensor(Y_test[sele_id_test].reshape(len(sele_id_test),1))\n",
    "print(X_train_sele.shape, Y_train_sele.shape, X_test_sele.shape, Y_test_sele.shape)\n",
    "\n",
    "## Run BO experiment with robust regression or directly gp\n",
    "l, search_iter = 0, 50\n",
    "batch_size = 1\n",
    "gp_method='gp_regression'\n",
    "while l < search_iter:\n",
    "    print(\"Iter: \", l, \"Current Max: \", Y_train_sele.max().detach().numpy())\n",
    "    X_next, acq_value, next_exp_id = odbo.bo_design(X=X_train_sele, Y=Y_train_sele, X_pending=X_test_sele, gp_method=gp_method, batch_size=batch_size)\n",
    "    ids_keep = list(np.delete(range(X_test_sele.shape[0]), next_exp_id))\n",
    "    X_train_sele, Y_train_sele = torch.cat([X_train_sele, X_test_sele[next_exp_id, :]]), torch.cat([Y_train_sele, Y_test_sele[next_exp_id]])\n",
    "    X_test_sele, Y_test_sele = X_test_sele[ids_keep, :], Y_test_sele[ids_keep]\n",
    "    print(\"Newly added value: \", Y_train_sele[-batch_size:].detach().numpy())\n",
    "    l = l + 1\n"
   ]
  },
  {
   "cell_type": "markdown",
   "metadata": {},
   "source": [
    "## TurBO for next best experiment"
   ]
  },
  {
   "cell_type": "code",
   "execution_count": null,
   "metadata": {
    "scrolled": false
   },
   "outputs": [],
   "source": [
    "# Pick the Top 40 init experiment from the 384 experiments\n",
    "sele_id = np.argsort(Y_train)[-40:]\n",
    "X_train_sele, Y_train_sele = torch.tensor(X_train[sele_id, :]), torch.tensor(Y_train[sele_id].reshape(40,1))\n",
    "# Only search the space after prescreening\n",
    "sele_id_test = []\n",
    "sele_id_test.extend(in_inlier)\n",
    "sele_id_test.extend(out_inlier)\n",
    "X_test_sele, Y_test_sele = torch.tensor(X_test[sele_id_test, :]), torch.tensor(Y_test[sele_id_test].reshape(len(sele_id_test),1))\n",
    "print(X_train_sele.shape, Y_train_sele.shape, X_test_sele.shape, Y_test_sele.shape)\n",
    "\n",
    "# Run BO experiment with robust regression or directly gp\n",
    "l, search_iter = 0, 50\n",
    "gp_method='robust_regression'\n",
    "tr_length = [3.2]\n",
    "batch_size = 1\n",
    "state = odbo.turbo.TurboState(dim=X_train_sele.shape[1], batch_size=batch_size, length=tr_length, n_trust_regions=len(tr_length), failure_tolerance = 10)\n",
    "state.best_value = Y_train_sele.max()\n",
    "while l < search_iter:\n",
    "    print(\"Iter: \", l, \"Current Max: \", Y_train_sele.max().detach().numpy(), 'TR length: ', state.length)\n",
    "    X_next, acq_value, raw_next_exp_id = odbo.turbo_design(state=state, X=X_train_sele, Y=Y_train_sele, X_pending=X_test_sele, n_trust_regions=len(tr_length), batch_size=batch_size, gp_method=gp_method)\n",
    "    Y_next_m = torch.zeros((len(tr_length), batch_size, 1), device=Y_train_sele.device, dtype=Y_train_sele.dtype)\n",
    "    next_exp_id = []\n",
    "    for i in range(batch_size):\n",
    "        next_exp_id_m = raw_next_exp_id[:, i]\n",
    "        idtoadd = next_exp_id_m[np.argmax(Y_test_sele[next_exp_id_m])]\n",
    "        next_exp_id.append(idtoadd)\n",
    "        Y_next_m[:, i, 0] = Y_test_sele[next_exp_id_m]\n",
    "    X_train_sele, Y_train_sele = torch.cat([X_train_sele, X_test_sele[next_exp_id, :]]), torch.cat([Y_train_sele, Y_test_sele[next_exp_id]])\n",
    "    ids_keep = list(np.delete(range(X_test_sele.shape[0]), next_exp_id))\n",
    "    X_test_sele, Y_test_sele = X_test_sele[ids_keep, :], Y_test_sele[ids_keep]\n",
    "    print(\"Newly added value: \", Y_train_sele[-batch_size:].detach().numpy())\n",
    "    state = odbo.turbo.update_state(state=state, Y_next=Y_next_m)\n",
    "    l = l + 1\n"
   ]
  },
  {
   "cell_type": "code",
   "execution_count": null,
   "metadata": {},
   "outputs": [],
   "source": []
  }
 ],
 "metadata": {
  "kernelspec": {
   "display_name": "Python 3",
   "language": "python",
   "name": "python3"
  },
  "language_info": {
   "codemirror_mode": {
    "name": "ipython",
    "version": 3
   },
   "file_extension": ".py",
   "mimetype": "text/x-python",
   "name": "python",
   "nbconvert_exporter": "python",
   "pygments_lexer": "ipython3",
   "version": "3.7.4"
  }
 },
 "nbformat": 4,
 "nbformat_minor": 2
}
